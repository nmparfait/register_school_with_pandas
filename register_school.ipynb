{
 "cells": [
  {
   "cell_type": "markdown",
   "id": "8f00692f",
   "metadata": {},
   "source": [
    "# PROGRAMMING SCHOOL WITH PANDAS"
   ]
  },
  {
   "cell_type": "markdown",
   "id": "27407ef9",
   "metadata": {},
   "source": [
    "### Reading datas "
   ]
  },
  {
   "cell_type": "code",
   "execution_count": 1,
   "id": "16d88784",
   "metadata": {},
   "outputs": [],
   "source": [
    "import pandas as pd "
   ]
  },
  {
   "cell_type": "code",
   "execution_count": 2,
   "id": "b40afa1b",
   "metadata": {},
   "outputs": [],
   "source": [
    "name_f = pd.read_json('https://guilhermeonrails.github.io/nomes_ibge/nomes-f.json')\n",
    "name_m = pd.read_json('https://guilhermeonrails.github.io/nomes_ibge/nomes-m.json')"
   ]
  },
  {
   "cell_type": "code",
   "execution_count": 3,
   "id": "adaf83f0",
   "metadata": {},
   "outputs": [],
   "source": [
    "name_f =name_f.rename(columns={'nome':'name', 'regiao':'region', 'freq':'freq', 'rank':'rank', 'sexo':'sex'})\n",
    "name_m =name_f.rename(columns={'nome':'name', 'regiao':'region', 'freq':'freq', 'rank':'rank', 'sexo':'sex'})\n"
   ]
  },
  {
   "cell_type": "code",
   "execution_count": 4,
   "id": "640a8bbf",
   "metadata": {},
   "outputs": [
    {
     "data": {
      "text/html": [
       "<div>\n",
       "<style scoped>\n",
       "    .dataframe tbody tr th:only-of-type {\n",
       "        vertical-align: middle;\n",
       "    }\n",
       "\n",
       "    .dataframe tbody tr th {\n",
       "        vertical-align: top;\n",
       "    }\n",
       "\n",
       "    .dataframe thead th {\n",
       "        text-align: right;\n",
       "    }\n",
       "</style>\n",
       "<table border=\"1\" class=\"dataframe\">\n",
       "  <thead>\n",
       "    <tr style=\"text-align: right;\">\n",
       "      <th></th>\n",
       "      <th>name</th>\n",
       "      <th>region</th>\n",
       "      <th>freq</th>\n",
       "      <th>rank</th>\n",
       "      <th>sex</th>\n",
       "    </tr>\n",
       "  </thead>\n",
       "  <tbody>\n",
       "    <tr>\n",
       "      <th>0</th>\n",
       "      <td>MARIA</td>\n",
       "      <td>0</td>\n",
       "      <td>11694738</td>\n",
       "      <td>1</td>\n",
       "      <td>F</td>\n",
       "    </tr>\n",
       "    <tr>\n",
       "      <th>1</th>\n",
       "      <td>ANA</td>\n",
       "      <td>0</td>\n",
       "      <td>3079729</td>\n",
       "      <td>2</td>\n",
       "      <td>F</td>\n",
       "    </tr>\n",
       "    <tr>\n",
       "      <th>2</th>\n",
       "      <td>FRANCISCA</td>\n",
       "      <td>0</td>\n",
       "      <td>721637</td>\n",
       "      <td>3</td>\n",
       "      <td>F</td>\n",
       "    </tr>\n",
       "    <tr>\n",
       "      <th>3</th>\n",
       "      <td>ANTONIA</td>\n",
       "      <td>0</td>\n",
       "      <td>588783</td>\n",
       "      <td>4</td>\n",
       "      <td>F</td>\n",
       "    </tr>\n",
       "    <tr>\n",
       "      <th>4</th>\n",
       "      <td>ADRIANA</td>\n",
       "      <td>0</td>\n",
       "      <td>565621</td>\n",
       "      <td>5</td>\n",
       "      <td>F</td>\n",
       "    </tr>\n",
       "  </tbody>\n",
       "</table>\n",
       "</div>"
      ],
      "text/plain": [
       "        name  region      freq  rank sex\n",
       "0      MARIA       0  11694738     1   F\n",
       "1        ANA       0   3079729     2   F\n",
       "2  FRANCISCA       0    721637     3   F\n",
       "3    ANTONIA       0    588783     4   F\n",
       "4    ADRIANA       0    565621     5   F"
      ]
     },
     "execution_count": 4,
     "metadata": {},
     "output_type": "execute_result"
    }
   ],
   "source": [
    "name_f.head()"
   ]
  },
  {
   "cell_type": "code",
   "execution_count": 5,
   "id": "b7dfab6d",
   "metadata": {},
   "outputs": [
    {
     "data": {
      "text/html": [
       "<div>\n",
       "<style scoped>\n",
       "    .dataframe tbody tr th:only-of-type {\n",
       "        vertical-align: middle;\n",
       "    }\n",
       "\n",
       "    .dataframe tbody tr th {\n",
       "        vertical-align: top;\n",
       "    }\n",
       "\n",
       "    .dataframe thead th {\n",
       "        text-align: right;\n",
       "    }\n",
       "</style>\n",
       "<table border=\"1\" class=\"dataframe\">\n",
       "  <thead>\n",
       "    <tr style=\"text-align: right;\">\n",
       "      <th></th>\n",
       "      <th>name</th>\n",
       "      <th>region</th>\n",
       "      <th>freq</th>\n",
       "      <th>rank</th>\n",
       "      <th>sex</th>\n",
       "    </tr>\n",
       "  </thead>\n",
       "  <tbody>\n",
       "    <tr>\n",
       "      <th>0</th>\n",
       "      <td>MARIA</td>\n",
       "      <td>0</td>\n",
       "      <td>11694738</td>\n",
       "      <td>1</td>\n",
       "      <td>F</td>\n",
       "    </tr>\n",
       "    <tr>\n",
       "      <th>1</th>\n",
       "      <td>ANA</td>\n",
       "      <td>0</td>\n",
       "      <td>3079729</td>\n",
       "      <td>2</td>\n",
       "      <td>F</td>\n",
       "    </tr>\n",
       "    <tr>\n",
       "      <th>2</th>\n",
       "      <td>FRANCISCA</td>\n",
       "      <td>0</td>\n",
       "      <td>721637</td>\n",
       "      <td>3</td>\n",
       "      <td>F</td>\n",
       "    </tr>\n",
       "    <tr>\n",
       "      <th>3</th>\n",
       "      <td>ANTONIA</td>\n",
       "      <td>0</td>\n",
       "      <td>588783</td>\n",
       "      <td>4</td>\n",
       "      <td>F</td>\n",
       "    </tr>\n",
       "    <tr>\n",
       "      <th>4</th>\n",
       "      <td>ADRIANA</td>\n",
       "      <td>0</td>\n",
       "      <td>565621</td>\n",
       "      <td>5</td>\n",
       "      <td>F</td>\n",
       "    </tr>\n",
       "  </tbody>\n",
       "</table>\n",
       "</div>"
      ],
      "text/plain": [
       "        name  region      freq  rank sex\n",
       "0      MARIA       0  11694738     1   F\n",
       "1        ANA       0   3079729     2   F\n",
       "2  FRANCISCA       0    721637     3   F\n",
       "3    ANTONIA       0    588783     4   F\n",
       "4    ADRIANA       0    565621     5   F"
      ]
     },
     "execution_count": 5,
     "metadata": {},
     "output_type": "execute_result"
    }
   ],
   "source": [
    "name_m.head()"
   ]
  },
  {
   "cell_type": "markdown",
   "id": "643443d3",
   "metadata": {},
   "source": [
    "### Sample in pandas\n",
    "\n",
    "To perform random sampling. The number of samples to extract can be expressed in two alternative ways: specify the exact number of random rows to extract.\n",
    "Returns a random sample row from the DataFrame."
   ]
  },
  {
   "cell_type": "code",
   "execution_count": 6,
   "id": "d53e56b4",
   "metadata": {},
   "outputs": [
    {
     "data": {
      "text/html": [
       "<div>\n",
       "<style scoped>\n",
       "    .dataframe tbody tr th:only-of-type {\n",
       "        vertical-align: middle;\n",
       "    }\n",
       "\n",
       "    .dataframe tbody tr th {\n",
       "        vertical-align: top;\n",
       "    }\n",
       "\n",
       "    .dataframe thead th {\n",
       "        text-align: right;\n",
       "    }\n",
       "</style>\n",
       "<table border=\"1\" class=\"dataframe\">\n",
       "  <thead>\n",
       "    <tr style=\"text-align: right;\">\n",
       "      <th></th>\n",
       "      <th>name</th>\n",
       "      <th>region</th>\n",
       "      <th>freq</th>\n",
       "      <th>rank</th>\n",
       "      <th>sex</th>\n",
       "    </tr>\n",
       "  </thead>\n",
       "  <tbody>\n",
       "    <tr>\n",
       "      <th>142</th>\n",
       "      <td>RAISSA</td>\n",
       "      <td>0</td>\n",
       "      <td>113146</td>\n",
       "      <td>143</td>\n",
       "      <td>F</td>\n",
       "    </tr>\n",
       "    <tr>\n",
       "      <th>138</th>\n",
       "      <td>NEUSA</td>\n",
       "      <td>0</td>\n",
       "      <td>114846</td>\n",
       "      <td>139</td>\n",
       "      <td>F</td>\n",
       "    </tr>\n",
       "    <tr>\n",
       "      <th>192</th>\n",
       "      <td>ZILDA</td>\n",
       "      <td>0</td>\n",
       "      <td>82927</td>\n",
       "      <td>193</td>\n",
       "      <td>F</td>\n",
       "    </tr>\n",
       "    <tr>\n",
       "      <th>108</th>\n",
       "      <td>VILMA</td>\n",
       "      <td>0</td>\n",
       "      <td>145167</td>\n",
       "      <td>109</td>\n",
       "      <td>F</td>\n",
       "    </tr>\n",
       "    <tr>\n",
       "      <th>123</th>\n",
       "      <td>IVONE</td>\n",
       "      <td>0</td>\n",
       "      <td>131256</td>\n",
       "      <td>124</td>\n",
       "      <td>F</td>\n",
       "    </tr>\n",
       "  </tbody>\n",
       "</table>\n",
       "</div>"
      ],
      "text/plain": [
       "       name  region    freq  rank sex\n",
       "142  RAISSA       0  113146   143   F\n",
       "138   NEUSA       0  114846   139   F\n",
       "192   ZILDA       0   82927   193   F\n",
       "108   VILMA       0  145167   109   F\n",
       "123   IVONE       0  131256   124   F"
      ]
     },
     "execution_count": 6,
     "metadata": {},
     "output_type": "execute_result"
    }
   ],
   "source": [
    "name_m.sample(5)"
   ]
  },
  {
   "cell_type": "code",
   "execution_count": 7,
   "id": "3db05e36",
   "metadata": {},
   "outputs": [
    {
     "name": "stdout",
     "output_type": "stream",
     "text": [
      "Number of Names:400\n"
     ]
    }
   ],
   "source": [
    "print('Number of Names:' + str(len(name_f) + len(name_m)))"
   ]
  },
  {
   "cell_type": "markdown",
   "id": "253a28c2",
   "metadata": {},
   "source": [
    "Now we want to merge these two sets into a single dataframe containing the names of all students in the school. For this, we will create a variable frames that will receive a list containing our information."
   ]
  },
  {
   "cell_type": "code",
   "execution_count": 8,
   "id": "e9133e48",
   "metadata": {},
   "outputs": [
    {
     "data": {
      "text/plain": [
       "[          name  region      freq  rank sex\n",
       " 0        MARIA       0  11694738     1   F\n",
       " 1          ANA       0   3079729     2   F\n",
       " 2    FRANCISCA       0    721637     3   F\n",
       " 3      ANTONIA       0    588783     4   F\n",
       " 4      ADRIANA       0    565621     5   F\n",
       " ..         ...     ...       ...   ...  ..\n",
       " 195     ROSANE       0     82203   196   F\n",
       " 196    IVONETE       0     81878   197   F\n",
       " 197    LUCIANE       0     81230   198   F\n",
       " 198    ISADORA       0     81100   199   F\n",
       " 199      NILZA       0     80128   200   F\n",
       " \n",
       " [200 rows x 5 columns],\n",
       "           name  region      freq  rank sex\n",
       " 0        MARIA       0  11694738     1   F\n",
       " 1          ANA       0   3079729     2   F\n",
       " 2    FRANCISCA       0    721637     3   F\n",
       " 3      ANTONIA       0    588783     4   F\n",
       " 4      ADRIANA       0    565621     5   F\n",
       " ..         ...     ...       ...   ...  ..\n",
       " 195     ROSANE       0     82203   196   F\n",
       " 196    IVONETE       0     81878   197   F\n",
       " 197    LUCIANE       0     81230   198   F\n",
       " 198    ISADORA       0     81100   199   F\n",
       " 199      NILZA       0     80128   200   F\n",
       " \n",
       " [200 rows x 5 columns]]"
      ]
     },
     "execution_count": 8,
     "metadata": {},
     "output_type": "execute_result"
    }
   ],
   "source": [
    "frames = [name_f, name_m]\n",
    "frames"
   ]
  },
  {
   "cell_type": "code",
   "execution_count": 9,
   "id": "51dd967c",
   "metadata": {},
   "outputs": [
    {
     "data": {
      "text/plain": [
       "[          name  region      freq  rank sex\n",
       " 0        MARIA       0  11694738     1   F\n",
       " 1          ANA       0   3079729     2   F\n",
       " 2    FRANCISCA       0    721637     3   F\n",
       " 3      ANTONIA       0    588783     4   F\n",
       " 4      ADRIANA       0    565621     5   F\n",
       " ..         ...     ...       ...   ...  ..\n",
       " 195     ROSANE       0     82203   196   F\n",
       " 196    IVONETE       0     81878   197   F\n",
       " 197    LUCIANE       0     81230   198   F\n",
       " 198    ISADORA       0     81100   199   F\n",
       " 199      NILZA       0     80128   200   F\n",
       " \n",
       " [200 rows x 5 columns],\n",
       "           name  region      freq  rank sex\n",
       " 0        MARIA       0  11694738     1   F\n",
       " 1          ANA       0   3079729     2   F\n",
       " 2    FRANCISCA       0    721637     3   F\n",
       " 3      ANTONIA       0    588783     4   F\n",
       " 4      ADRIANA       0    565621     5   F\n",
       " ..         ...     ...       ...   ...  ..\n",
       " 195     ROSANE       0     82203   196   F\n",
       " 196    IVONETE       0     81878   197   F\n",
       " 197    LUCIANE       0     81230   198   F\n",
       " 198    ISADORA       0     81100   199   F\n",
       " 199      NILZA       0     80128   200   F\n",
       " \n",
       " [200 rows x 5 columns]]"
      ]
     },
     "execution_count": 9,
     "metadata": {},
     "output_type": "execute_result"
    }
   ],
   "source": [
    "frames"
   ]
  },
  {
   "cell_type": "markdown",
   "id": "f001ed72",
   "metadata": {},
   "source": [
    "### concat in pandas\n",
    "In the pd.concat() function, it is possible to specify which columns we want to concatenate, in this case just the name. At the end, we will use the to_frame() function to transform the resulting set into a dataframe."
   ]
  },
  {
   "cell_type": "code",
   "execution_count": 10,
   "id": "79ac14de",
   "metadata": {},
   "outputs": [
    {
     "data": {
      "text/html": [
       "<div>\n",
       "<style scoped>\n",
       "    .dataframe tbody tr th:only-of-type {\n",
       "        vertical-align: middle;\n",
       "    }\n",
       "\n",
       "    .dataframe tbody tr th {\n",
       "        vertical-align: top;\n",
       "    }\n",
       "\n",
       "    .dataframe thead th {\n",
       "        text-align: right;\n",
       "    }\n",
       "</style>\n",
       "<table border=\"1\" class=\"dataframe\">\n",
       "  <thead>\n",
       "    <tr style=\"text-align: right;\">\n",
       "      <th></th>\n",
       "      <th>name</th>\n",
       "    </tr>\n",
       "  </thead>\n",
       "  <tbody>\n",
       "    <tr>\n",
       "      <th>0</th>\n",
       "      <td>MARIA</td>\n",
       "    </tr>\n",
       "    <tr>\n",
       "      <th>1</th>\n",
       "      <td>ANA</td>\n",
       "    </tr>\n",
       "    <tr>\n",
       "      <th>2</th>\n",
       "      <td>FRANCISCA</td>\n",
       "    </tr>\n",
       "    <tr>\n",
       "      <th>3</th>\n",
       "      <td>ANTONIA</td>\n",
       "    </tr>\n",
       "    <tr>\n",
       "      <th>4</th>\n",
       "      <td>ADRIANA</td>\n",
       "    </tr>\n",
       "    <tr>\n",
       "      <th>...</th>\n",
       "      <td>...</td>\n",
       "    </tr>\n",
       "    <tr>\n",
       "      <th>195</th>\n",
       "      <td>ROSANE</td>\n",
       "    </tr>\n",
       "    <tr>\n",
       "      <th>196</th>\n",
       "      <td>IVONETE</td>\n",
       "    </tr>\n",
       "    <tr>\n",
       "      <th>197</th>\n",
       "      <td>LUCIANE</td>\n",
       "    </tr>\n",
       "    <tr>\n",
       "      <th>198</th>\n",
       "      <td>ISADORA</td>\n",
       "    </tr>\n",
       "    <tr>\n",
       "      <th>199</th>\n",
       "      <td>NILZA</td>\n",
       "    </tr>\n",
       "  </tbody>\n",
       "</table>\n",
       "<p>400 rows × 1 columns</p>\n",
       "</div>"
      ],
      "text/plain": [
       "          name\n",
       "0        MARIA\n",
       "1          ANA\n",
       "2    FRANCISCA\n",
       "3      ANTONIA\n",
       "4      ADRIANA\n",
       "..         ...\n",
       "195     ROSANE\n",
       "196    IVONETE\n",
       "197    LUCIANE\n",
       "198    ISADORA\n",
       "199      NILZA\n",
       "\n",
       "[400 rows x 1 columns]"
      ]
     },
     "execution_count": 10,
     "metadata": {},
     "output_type": "execute_result"
    }
   ],
   "source": [
    "list_names =pd.concat(frames)['name'].to_frame()\n",
    "list_names"
   ]
  },
  {
   "cell_type": "markdown",
   "id": "bba76486",
   "metadata": {},
   "source": [
    "### INCLUDING STUDENTS ID"
   ]
  },
  {
   "cell_type": "code",
   "execution_count": 11,
   "id": "388537e7",
   "metadata": {},
   "outputs": [],
   "source": [
    "import numpy as np "
   ]
  },
  {
   "cell_type": "markdown",
   "id": "01cd167b",
   "metadata": {},
   "source": [
    "The idea now is to generate an ID for our male and female students, something that we can do randomly using Python's Numpy library, which by convention is nicknamed np.\n"
   ]
  },
  {
   "cell_type": "code",
   "execution_count": 12,
   "id": "cbd676c1",
   "metadata": {},
   "outputs": [],
   "source": [
    "np.random.seed(123)"
   ]
  },
  {
   "cell_type": "code",
   "execution_count": 13,
   "id": "91e01c82",
   "metadata": {},
   "outputs": [
    {
     "data": {
      "text/plain": [
       "400"
      ]
     },
     "execution_count": 13,
     "metadata": {},
     "output_type": "execute_result"
    }
   ],
   "source": [
    "total_student = len(list_names)\n",
    "total_student"
   ]
  },
  {
   "cell_type": "code",
   "execution_count": 14,
   "id": "89b7faa4",
   "metadata": {},
   "outputs": [],
   "source": [
    "list_names['student_id'] = np.random.permutation(total_student) + 1 "
   ]
  },
  {
   "cell_type": "code",
   "execution_count": 15,
   "id": "7ae54c36",
   "metadata": {},
   "outputs": [
    {
     "data": {
      "text/html": [
       "<div>\n",
       "<style scoped>\n",
       "    .dataframe tbody tr th:only-of-type {\n",
       "        vertical-align: middle;\n",
       "    }\n",
       "\n",
       "    .dataframe tbody tr th {\n",
       "        vertical-align: top;\n",
       "    }\n",
       "\n",
       "    .dataframe thead th {\n",
       "        text-align: right;\n",
       "    }\n",
       "</style>\n",
       "<table border=\"1\" class=\"dataframe\">\n",
       "  <thead>\n",
       "    <tr style=\"text-align: right;\">\n",
       "      <th></th>\n",
       "      <th>name</th>\n",
       "      <th>student_id</th>\n",
       "    </tr>\n",
       "  </thead>\n",
       "  <tbody>\n",
       "    <tr>\n",
       "      <th>188</th>\n",
       "      <td>POLIANA</td>\n",
       "      <td>369</td>\n",
       "    </tr>\n",
       "    <tr>\n",
       "      <th>57</th>\n",
       "      <td>DAIANE</td>\n",
       "      <td>303</td>\n",
       "    </tr>\n",
       "    <tr>\n",
       "      <th>3</th>\n",
       "      <td>ANTONIA</td>\n",
       "      <td>382</td>\n",
       "    </tr>\n",
       "    <tr>\n",
       "      <th>182</th>\n",
       "      <td>LIDIANE</td>\n",
       "      <td>33</td>\n",
       "    </tr>\n",
       "    <tr>\n",
       "      <th>30</th>\n",
       "      <td>ELIANE</td>\n",
       "      <td>111</td>\n",
       "    </tr>\n",
       "  </tbody>\n",
       "</table>\n",
       "</div>"
      ],
      "text/plain": [
       "        name  student_id\n",
       "188  POLIANA         369\n",
       "57    DAIANE         303\n",
       "3    ANTONIA         382\n",
       "182  LIDIANE          33\n",
       "30    ELIANE         111"
      ]
     },
     "execution_count": 15,
     "metadata": {},
     "output_type": "execute_result"
    }
   ],
   "source": [
    "list_names.sample(5)"
   ]
  },
  {
   "cell_type": "markdown",
   "id": "33a25916",
   "metadata": {},
   "source": [
    "### INCLUDING STUDENT DOMAIN AND EMAIL "
   ]
  },
  {
   "cell_type": "markdown",
   "id": "3d6e284d",
   "metadata": {},
   "source": [
    "Let's create domains that can be used for students and at the same time, let's think about creating a domain that will be used for students' email."
   ]
  },
  {
   "cell_type": "code",
   "execution_count": 16,
   "id": "0bd7e59d",
   "metadata": {},
   "outputs": [],
   "source": [
    "domains = ['@domainemail.com', '@serviceemail.com']"
   ]
  },
  {
   "cell_type": "code",
   "execution_count": 17,
   "id": "e6d7cba0",
   "metadata": {},
   "outputs": [],
   "source": [
    "list_names['domains'] = np.random.choice(domains,total_student)"
   ]
  },
  {
   "cell_type": "code",
   "execution_count": 18,
   "id": "996f1771",
   "metadata": {},
   "outputs": [
    {
     "data": {
      "text/html": [
       "<div>\n",
       "<style scoped>\n",
       "    .dataframe tbody tr th:only-of-type {\n",
       "        vertical-align: middle;\n",
       "    }\n",
       "\n",
       "    .dataframe tbody tr th {\n",
       "        vertical-align: top;\n",
       "    }\n",
       "\n",
       "    .dataframe thead th {\n",
       "        text-align: right;\n",
       "    }\n",
       "</style>\n",
       "<table border=\"1\" class=\"dataframe\">\n",
       "  <thead>\n",
       "    <tr style=\"text-align: right;\">\n",
       "      <th></th>\n",
       "      <th>name</th>\n",
       "      <th>student_id</th>\n",
       "      <th>domains</th>\n",
       "    </tr>\n",
       "  </thead>\n",
       "  <tbody>\n",
       "    <tr>\n",
       "      <th>84</th>\n",
       "      <td>FATIMA</td>\n",
       "      <td>78</td>\n",
       "      <td>@domainemail.com</td>\n",
       "    </tr>\n",
       "    <tr>\n",
       "      <th>0</th>\n",
       "      <td>MARIA</td>\n",
       "      <td>331</td>\n",
       "      <td>@serviceemail.com</td>\n",
       "    </tr>\n",
       "    <tr>\n",
       "      <th>179</th>\n",
       "      <td>LILIANE</td>\n",
       "      <td>340</td>\n",
       "      <td>@domainemail.com</td>\n",
       "    </tr>\n",
       "    <tr>\n",
       "      <th>10</th>\n",
       "      <td>SANDRA</td>\n",
       "      <td>174</td>\n",
       "      <td>@domainemail.com</td>\n",
       "    </tr>\n",
       "    <tr>\n",
       "      <th>171</th>\n",
       "      <td>TERESINHA</td>\n",
       "      <td>45</td>\n",
       "      <td>@domainemail.com</td>\n",
       "    </tr>\n",
       "  </tbody>\n",
       "</table>\n",
       "</div>"
      ],
      "text/plain": [
       "          name  student_id            domains\n",
       "84      FATIMA          78   @domainemail.com\n",
       "0        MARIA         331  @serviceemail.com\n",
       "179    LILIANE         340   @domainemail.com\n",
       "10      SANDRA         174   @domainemail.com\n",
       "171  TERESINHA          45   @domainemail.com"
      ]
     },
     "execution_count": 18,
     "metadata": {},
     "output_type": "execute_result"
    }
   ],
   "source": [
    "list_names.sample(5)"
   ]
  },
  {
   "cell_type": "markdown",
   "id": "3b88a355",
   "metadata": {},
   "source": [
    "Now let's use the created domains to automatically generate an email with the students' names."
   ]
  },
  {
   "cell_type": "code",
   "execution_count": 19,
   "id": "e499d25b",
   "metadata": {},
   "outputs": [],
   "source": [
    "list_names['email'] = list_names.name.str.cat(list_names.domains).str.lower()"
   ]
  },
  {
   "cell_type": "code",
   "execution_count": 20,
   "id": "e30e4efd",
   "metadata": {},
   "outputs": [
    {
     "data": {
      "text/html": [
       "<div>\n",
       "<style scoped>\n",
       "    .dataframe tbody tr th:only-of-type {\n",
       "        vertical-align: middle;\n",
       "    }\n",
       "\n",
       "    .dataframe tbody tr th {\n",
       "        vertical-align: top;\n",
       "    }\n",
       "\n",
       "    .dataframe thead th {\n",
       "        text-align: right;\n",
       "    }\n",
       "</style>\n",
       "<table border=\"1\" class=\"dataframe\">\n",
       "  <thead>\n",
       "    <tr style=\"text-align: right;\">\n",
       "      <th></th>\n",
       "      <th>name</th>\n",
       "      <th>student_id</th>\n",
       "      <th>domains</th>\n",
       "      <th>email</th>\n",
       "    </tr>\n",
       "  </thead>\n",
       "  <tbody>\n",
       "    <tr>\n",
       "      <th>0</th>\n",
       "      <td>MARIA</td>\n",
       "      <td>235</td>\n",
       "      <td>@domainemail.com</td>\n",
       "      <td>maria@domainemail.com</td>\n",
       "    </tr>\n",
       "    <tr>\n",
       "      <th>1</th>\n",
       "      <td>ANA</td>\n",
       "      <td>43</td>\n",
       "      <td>@serviceemail.com</td>\n",
       "      <td>ana@serviceemail.com</td>\n",
       "    </tr>\n",
       "    <tr>\n",
       "      <th>2</th>\n",
       "      <td>FRANCISCA</td>\n",
       "      <td>304</td>\n",
       "      <td>@serviceemail.com</td>\n",
       "      <td>francisca@serviceemail.com</td>\n",
       "    </tr>\n",
       "    <tr>\n",
       "      <th>3</th>\n",
       "      <td>ANTONIA</td>\n",
       "      <td>156</td>\n",
       "      <td>@domainemail.com</td>\n",
       "      <td>antonia@domainemail.com</td>\n",
       "    </tr>\n",
       "    <tr>\n",
       "      <th>4</th>\n",
       "      <td>ADRIANA</td>\n",
       "      <td>343</td>\n",
       "      <td>@serviceemail.com</td>\n",
       "      <td>adriana@serviceemail.com</td>\n",
       "    </tr>\n",
       "    <tr>\n",
       "      <th>5</th>\n",
       "      <td>JULIANA</td>\n",
       "      <td>310</td>\n",
       "      <td>@serviceemail.com</td>\n",
       "      <td>juliana@serviceemail.com</td>\n",
       "    </tr>\n",
       "    <tr>\n",
       "      <th>6</th>\n",
       "      <td>MARCIA</td>\n",
       "      <td>55</td>\n",
       "      <td>@domainemail.com</td>\n",
       "      <td>marcia@domainemail.com</td>\n",
       "    </tr>\n",
       "    <tr>\n",
       "      <th>7</th>\n",
       "      <td>FERNANDA</td>\n",
       "      <td>288</td>\n",
       "      <td>@serviceemail.com</td>\n",
       "      <td>fernanda@serviceemail.com</td>\n",
       "    </tr>\n",
       "    <tr>\n",
       "      <th>8</th>\n",
       "      <td>PATRICIA</td>\n",
       "      <td>379</td>\n",
       "      <td>@serviceemail.com</td>\n",
       "      <td>patricia@serviceemail.com</td>\n",
       "    </tr>\n",
       "    <tr>\n",
       "      <th>9</th>\n",
       "      <td>ALINE</td>\n",
       "      <td>92</td>\n",
       "      <td>@domainemail.com</td>\n",
       "      <td>aline@domainemail.com</td>\n",
       "    </tr>\n",
       "  </tbody>\n",
       "</table>\n",
       "</div>"
      ],
      "text/plain": [
       "        name  student_id            domains                       email\n",
       "0      MARIA         235   @domainemail.com       maria@domainemail.com\n",
       "1        ANA          43  @serviceemail.com        ana@serviceemail.com\n",
       "2  FRANCISCA         304  @serviceemail.com  francisca@serviceemail.com\n",
       "3    ANTONIA         156   @domainemail.com     antonia@domainemail.com\n",
       "4    ADRIANA         343  @serviceemail.com    adriana@serviceemail.com\n",
       "5    JULIANA         310  @serviceemail.com    juliana@serviceemail.com\n",
       "6     MARCIA          55   @domainemail.com      marcia@domainemail.com\n",
       "7   FERNANDA         288  @serviceemail.com   fernanda@serviceemail.com\n",
       "8   PATRICIA         379  @serviceemail.com   patricia@serviceemail.com\n",
       "9      ALINE          92   @domainemail.com       aline@domainemail.com"
      ]
     },
     "execution_count": 20,
     "metadata": {},
     "output_type": "execute_result"
    }
   ],
   "source": [
    "list_names.head(10)"
   ]
  },
  {
   "cell_type": "markdown",
   "id": "4bb5c7bf",
   "metadata": {},
   "source": [
    "### INCLUIDING STUDENT COURSES"
   ]
  },
  {
   "cell_type": "markdown",
   "id": "f33e0b60",
   "metadata": {},
   "source": [
    "Now let's install some dependencies like html5lib and xml. \n",
    "They are dependencies that we will use to read files in html."
   ]
  },
  {
   "cell_type": "code",
   "execution_count": 21,
   "id": "97e6f956",
   "metadata": {},
   "outputs": [
    {
     "name": "stdout",
     "output_type": "stream",
     "text": [
      "Requirement already satisfied: html5lib in c:\\users\\nmp\\anaconda3\\lib\\site-packages (1.1)\n",
      "Requirement already satisfied: six>=1.9 in c:\\users\\nmp\\anaconda3\\lib\\site-packages (from html5lib) (1.16.0)\n",
      "Requirement already satisfied: webencodings in c:\\users\\nmp\\anaconda3\\lib\\site-packages (from html5lib) (0.5.1)\n",
      "Requirement already satisfied: lxml in c:\\users\\nmp\\anaconda3\\lib\\site-packages (4.9.1)\n"
     ]
    }
   ],
   "source": [
    "!pip install html5lib\n",
    "!pip install lxml"
   ]
  },
  {
   "cell_type": "code",
   "execution_count": 22,
   "id": "cef3f80a",
   "metadata": {},
   "outputs": [],
   "source": [
    "import html5lib"
   ]
  },
  {
   "cell_type": "code",
   "execution_count": 23,
   "id": "a823fcc2",
   "metadata": {},
   "outputs": [],
   "source": [
    "#url = 'http://tabela-cursos.herokuapp.com/'\n",
    "#courses = pd.read_html(url)\n",
    "#courses"
   ]
  },
  {
   "cell_type": "markdown",
   "id": "93623bde",
   "metadata": {},
   "source": [
    "As the html link is not working, we thought it best to create a new txt file to see how it would work"
   ]
  },
  {
   "cell_type": "code",
   "execution_count": 24,
   "id": "9dca44cf",
   "metadata": {
    "scrolled": true
   },
   "outputs": [],
   "source": [
    "courses = pd.read_csv('list_courses.txt', sep=',', \n",
    "                      names=['number_id', 'course_name'])"
   ]
  },
  {
   "cell_type": "code",
   "execution_count": 25,
   "id": "202c7c47",
   "metadata": {},
   "outputs": [
    {
     "data": {
      "text/plain": [
       "pandas.core.frame.DataFrame"
      ]
     },
     "execution_count": 25,
     "metadata": {},
     "output_type": "execute_result"
    }
   ],
   "source": [
    "type(courses)"
   ]
  },
  {
   "cell_type": "code",
   "execution_count": 26,
   "id": "1587951a",
   "metadata": {},
   "outputs": [
    {
     "data": {
      "text/plain": [
       "0                programming logic\n",
       "1                     Java for Web\n",
       "2                       C# for Web\n",
       "3                    Ruby on Rails\n",
       "4                   Python Courses\n",
       "5                   PHP with MySql\n",
       "6                     .NET for web\n",
       "7       New integrations with Java\n",
       "8                    TDD with Java\n",
       "9               Clean code with C#\n",
       "10         Java Certification Prep\n",
       "11                  Basic hardware\n",
       "12           Persistence with .NET\n",
       "13                Developing games\n",
       "14                   Data analysis\n",
       "15                basic statistics\n",
       "16              Internet of Things\n",
       "17          Functional programming\n",
       "18          Best practices in Java\n",
       "19    Object Orientation with Java\n",
       "Name: course_name, dtype: object"
      ]
     },
     "execution_count": 26,
     "metadata": {},
     "output_type": "execute_result"
    }
   ],
   "source": [
    "# we can see the list of course_name\n",
    "courses.course_name"
   ]
  },
  {
   "cell_type": "markdown",
   "id": "5b178a00",
   "metadata": {},
   "source": [
    "We want to get the index starting by 1 instead of 0"
   ]
  },
  {
   "cell_type": "code",
   "execution_count": 27,
   "id": "c69c1e0d",
   "metadata": {},
   "outputs": [
    {
     "data": {
      "text/html": [
       "<div>\n",
       "<style scoped>\n",
       "    .dataframe tbody tr th:only-of-type {\n",
       "        vertical-align: middle;\n",
       "    }\n",
       "\n",
       "    .dataframe tbody tr th {\n",
       "        vertical-align: top;\n",
       "    }\n",
       "\n",
       "    .dataframe thead th {\n",
       "        text-align: right;\n",
       "    }\n",
       "</style>\n",
       "<table border=\"1\" class=\"dataframe\">\n",
       "  <thead>\n",
       "    <tr style=\"text-align: right;\">\n",
       "      <th></th>\n",
       "      <th>number_id</th>\n",
       "      <th>course_name</th>\n",
       "    </tr>\n",
       "  </thead>\n",
       "  <tbody>\n",
       "    <tr>\n",
       "      <th>0</th>\n",
       "      <td>0</td>\n",
       "      <td>programming logic</td>\n",
       "    </tr>\n",
       "    <tr>\n",
       "      <th>1</th>\n",
       "      <td>1</td>\n",
       "      <td>Java for Web</td>\n",
       "    </tr>\n",
       "    <tr>\n",
       "      <th>2</th>\n",
       "      <td>2</td>\n",
       "      <td>C# for Web</td>\n",
       "    </tr>\n",
       "    <tr>\n",
       "      <th>3</th>\n",
       "      <td>3</td>\n",
       "      <td>Ruby on Rails</td>\n",
       "    </tr>\n",
       "    <tr>\n",
       "      <th>4</th>\n",
       "      <td>4</td>\n",
       "      <td>Python Courses</td>\n",
       "    </tr>\n",
       "  </tbody>\n",
       "</table>\n",
       "</div>"
      ],
      "text/plain": [
       "   number_id        course_name\n",
       "0          0  programming logic\n",
       "1          1       Java for Web\n",
       "2          2         C# for Web\n",
       "3          3      Ruby on Rails\n",
       "4          4     Python Courses"
      ]
     },
     "execution_count": 27,
     "metadata": {},
     "output_type": "execute_result"
    }
   ],
   "source": [
    "courses.head()"
   ]
  },
  {
   "cell_type": "code",
   "execution_count": 28,
   "id": "15b4bd54",
   "metadata": {},
   "outputs": [
    {
     "data": {
      "text/html": [
       "<div>\n",
       "<style scoped>\n",
       "    .dataframe tbody tr th:only-of-type {\n",
       "        vertical-align: middle;\n",
       "    }\n",
       "\n",
       "    .dataframe tbody tr th {\n",
       "        vertical-align: top;\n",
       "    }\n",
       "\n",
       "    .dataframe thead th {\n",
       "        text-align: right;\n",
       "    }\n",
       "</style>\n",
       "<table border=\"1\" class=\"dataframe\">\n",
       "  <thead>\n",
       "    <tr style=\"text-align: right;\">\n",
       "      <th></th>\n",
       "      <th>course_name</th>\n",
       "    </tr>\n",
       "    <tr>\n",
       "      <th>number_id</th>\n",
       "      <th></th>\n",
       "    </tr>\n",
       "  </thead>\n",
       "  <tbody>\n",
       "    <tr>\n",
       "      <th>0</th>\n",
       "      <td>programming logic</td>\n",
       "    </tr>\n",
       "    <tr>\n",
       "      <th>1</th>\n",
       "      <td>Java for Web</td>\n",
       "    </tr>\n",
       "    <tr>\n",
       "      <th>2</th>\n",
       "      <td>C# for Web</td>\n",
       "    </tr>\n",
       "    <tr>\n",
       "      <th>3</th>\n",
       "      <td>Ruby on Rails</td>\n",
       "    </tr>\n",
       "    <tr>\n",
       "      <th>4</th>\n",
       "      <td>Python Courses</td>\n",
       "    </tr>\n",
       "    <tr>\n",
       "      <th>5</th>\n",
       "      <td>PHP with MySql</td>\n",
       "    </tr>\n",
       "    <tr>\n",
       "      <th>6</th>\n",
       "      <td>.NET for web</td>\n",
       "    </tr>\n",
       "    <tr>\n",
       "      <th>7</th>\n",
       "      <td>New integrations with Java</td>\n",
       "    </tr>\n",
       "    <tr>\n",
       "      <th>8</th>\n",
       "      <td>TDD with Java</td>\n",
       "    </tr>\n",
       "    <tr>\n",
       "      <th>9</th>\n",
       "      <td>Clean code with C#</td>\n",
       "    </tr>\n",
       "    <tr>\n",
       "      <th>10</th>\n",
       "      <td>Java Certification Prep</td>\n",
       "    </tr>\n",
       "    <tr>\n",
       "      <th>11</th>\n",
       "      <td>Basic hardware</td>\n",
       "    </tr>\n",
       "    <tr>\n",
       "      <th>12</th>\n",
       "      <td>Persistence with .NET</td>\n",
       "    </tr>\n",
       "    <tr>\n",
       "      <th>13</th>\n",
       "      <td>Developing games</td>\n",
       "    </tr>\n",
       "    <tr>\n",
       "      <th>14</th>\n",
       "      <td>Data analysis</td>\n",
       "    </tr>\n",
       "    <tr>\n",
       "      <th>15</th>\n",
       "      <td>basic statistics</td>\n",
       "    </tr>\n",
       "    <tr>\n",
       "      <th>16</th>\n",
       "      <td>Internet of Things</td>\n",
       "    </tr>\n",
       "    <tr>\n",
       "      <th>17</th>\n",
       "      <td>Functional programming</td>\n",
       "    </tr>\n",
       "    <tr>\n",
       "      <th>18</th>\n",
       "      <td>Best practices in Java</td>\n",
       "    </tr>\n",
       "    <tr>\n",
       "      <th>19</th>\n",
       "      <td>Object Orientation with Java</td>\n",
       "    </tr>\n",
       "  </tbody>\n",
       "</table>\n",
       "</div>"
      ],
      "text/plain": [
       "                            course_name\n",
       "number_id                              \n",
       "0                     programming logic\n",
       "1                          Java for Web\n",
       "2                            C# for Web\n",
       "3                         Ruby on Rails\n",
       "4                        Python Courses\n",
       "5                        PHP with MySql\n",
       "6                          .NET for web\n",
       "7            New integrations with Java\n",
       "8                         TDD with Java\n",
       "9                    Clean code with C#\n",
       "10              Java Certification Prep\n",
       "11                       Basic hardware\n",
       "12                Persistence with .NET\n",
       "13                     Developing games\n",
       "14                        Data analysis\n",
       "15                     basic statistics\n",
       "16                   Internet of Things\n",
       "17               Functional programming\n",
       "18               Best practices in Java\n",
       "19         Object Orientation with Java"
      ]
     },
     "execution_count": 28,
     "metadata": {},
     "output_type": "execute_result"
    }
   ],
   "source": [
    "courses.set_index('number_id')"
   ]
  },
  {
   "cell_type": "code",
   "execution_count": 29,
   "id": "24a87db3",
   "metadata": {},
   "outputs": [
    {
     "data": {
      "text/plain": [
       "0                programming logic\n",
       "1                     Java for Web\n",
       "2                       C# for Web\n",
       "3                    Ruby on Rails\n",
       "4                   Python Courses\n",
       "5                   PHP with MySql\n",
       "6                     .NET for web\n",
       "7       New integrations with Java\n",
       "8                    TDD with Java\n",
       "9               Clean code with C#\n",
       "10         Java Certification Prep\n",
       "11                  Basic hardware\n",
       "12           Persistence with .NET\n",
       "13                Developing games\n",
       "14                   Data analysis\n",
       "15                basic statistics\n",
       "16              Internet of Things\n",
       "17          Functional programming\n",
       "18          Best practices in Java\n",
       "19    Object Orientation with Java\n",
       "Name: course_name, dtype: object"
      ]
     },
     "execution_count": 29,
     "metadata": {},
     "output_type": "execute_result"
    }
   ],
   "source": [
    "courses.course_name"
   ]
  },
  {
   "cell_type": "code",
   "execution_count": 30,
   "id": "3e170fc2",
   "metadata": {},
   "outputs": [],
   "source": [
    "courses['number_id'] = courses.index + 1"
   ]
  },
  {
   "cell_type": "code",
   "execution_count": 31,
   "id": "82ae0c7e",
   "metadata": {},
   "outputs": [
    {
     "data": {
      "text/html": [
       "<div>\n",
       "<style scoped>\n",
       "    .dataframe tbody tr th:only-of-type {\n",
       "        vertical-align: middle;\n",
       "    }\n",
       "\n",
       "    .dataframe tbody tr th {\n",
       "        vertical-align: top;\n",
       "    }\n",
       "\n",
       "    .dataframe thead th {\n",
       "        text-align: right;\n",
       "    }\n",
       "</style>\n",
       "<table border=\"1\" class=\"dataframe\">\n",
       "  <thead>\n",
       "    <tr style=\"text-align: right;\">\n",
       "      <th></th>\n",
       "      <th>course_name</th>\n",
       "    </tr>\n",
       "    <tr>\n",
       "      <th>number_id</th>\n",
       "      <th></th>\n",
       "    </tr>\n",
       "  </thead>\n",
       "  <tbody>\n",
       "    <tr>\n",
       "      <th>1</th>\n",
       "      <td>programming logic</td>\n",
       "    </tr>\n",
       "    <tr>\n",
       "      <th>2</th>\n",
       "      <td>Java for Web</td>\n",
       "    </tr>\n",
       "    <tr>\n",
       "      <th>3</th>\n",
       "      <td>C# for Web</td>\n",
       "    </tr>\n",
       "    <tr>\n",
       "      <th>4</th>\n",
       "      <td>Ruby on Rails</td>\n",
       "    </tr>\n",
       "    <tr>\n",
       "      <th>5</th>\n",
       "      <td>Python Courses</td>\n",
       "    </tr>\n",
       "    <tr>\n",
       "      <th>6</th>\n",
       "      <td>PHP with MySql</td>\n",
       "    </tr>\n",
       "    <tr>\n",
       "      <th>7</th>\n",
       "      <td>.NET for web</td>\n",
       "    </tr>\n",
       "    <tr>\n",
       "      <th>8</th>\n",
       "      <td>New integrations with Java</td>\n",
       "    </tr>\n",
       "    <tr>\n",
       "      <th>9</th>\n",
       "      <td>TDD with Java</td>\n",
       "    </tr>\n",
       "    <tr>\n",
       "      <th>10</th>\n",
       "      <td>Clean code with C#</td>\n",
       "    </tr>\n",
       "    <tr>\n",
       "      <th>11</th>\n",
       "      <td>Java Certification Prep</td>\n",
       "    </tr>\n",
       "    <tr>\n",
       "      <th>12</th>\n",
       "      <td>Basic hardware</td>\n",
       "    </tr>\n",
       "    <tr>\n",
       "      <th>13</th>\n",
       "      <td>Persistence with .NET</td>\n",
       "    </tr>\n",
       "    <tr>\n",
       "      <th>14</th>\n",
       "      <td>Developing games</td>\n",
       "    </tr>\n",
       "    <tr>\n",
       "      <th>15</th>\n",
       "      <td>Data analysis</td>\n",
       "    </tr>\n",
       "    <tr>\n",
       "      <th>16</th>\n",
       "      <td>basic statistics</td>\n",
       "    </tr>\n",
       "    <tr>\n",
       "      <th>17</th>\n",
       "      <td>Internet of Things</td>\n",
       "    </tr>\n",
       "    <tr>\n",
       "      <th>18</th>\n",
       "      <td>Functional programming</td>\n",
       "    </tr>\n",
       "    <tr>\n",
       "      <th>19</th>\n",
       "      <td>Best practices in Java</td>\n",
       "    </tr>\n",
       "    <tr>\n",
       "      <th>20</th>\n",
       "      <td>Object Orientation with Java</td>\n",
       "    </tr>\n",
       "  </tbody>\n",
       "</table>\n",
       "</div>"
      ],
      "text/plain": [
       "                            course_name\n",
       "number_id                              \n",
       "1                     programming logic\n",
       "2                          Java for Web\n",
       "3                            C# for Web\n",
       "4                         Ruby on Rails\n",
       "5                        Python Courses\n",
       "6                        PHP with MySql\n",
       "7                          .NET for web\n",
       "8            New integrations with Java\n",
       "9                         TDD with Java\n",
       "10                   Clean code with C#\n",
       "11              Java Certification Prep\n",
       "12                       Basic hardware\n",
       "13                Persistence with .NET\n",
       "14                     Developing games\n",
       "15                        Data analysis\n",
       "16                     basic statistics\n",
       "17                   Internet of Things\n",
       "18               Functional programming\n",
       "19               Best practices in Java\n",
       "20         Object Orientation with Java"
      ]
     },
     "execution_count": 31,
     "metadata": {},
     "output_type": "execute_result"
    }
   ],
   "source": [
    "courses = courses.set_index('number_id')\n",
    "courses"
   ]
  },
  {
   "cell_type": "code",
   "execution_count": 32,
   "id": "fc46b8a3",
   "metadata": {},
   "outputs": [
    {
     "data": {
      "text/html": [
       "<div>\n",
       "<style scoped>\n",
       "    .dataframe tbody tr th:only-of-type {\n",
       "        vertical-align: middle;\n",
       "    }\n",
       "\n",
       "    .dataframe tbody tr th {\n",
       "        vertical-align: top;\n",
       "    }\n",
       "\n",
       "    .dataframe thead th {\n",
       "        text-align: right;\n",
       "    }\n",
       "</style>\n",
       "<table border=\"1\" class=\"dataframe\">\n",
       "  <thead>\n",
       "    <tr style=\"text-align: right;\">\n",
       "      <th></th>\n",
       "      <th>course_name</th>\n",
       "    </tr>\n",
       "    <tr>\n",
       "      <th>number_id</th>\n",
       "      <th></th>\n",
       "    </tr>\n",
       "  </thead>\n",
       "  <tbody>\n",
       "    <tr>\n",
       "      <th>1</th>\n",
       "      <td>programming logic</td>\n",
       "    </tr>\n",
       "    <tr>\n",
       "      <th>2</th>\n",
       "      <td>Java for Web</td>\n",
       "    </tr>\n",
       "    <tr>\n",
       "      <th>3</th>\n",
       "      <td>C# for Web</td>\n",
       "    </tr>\n",
       "    <tr>\n",
       "      <th>4</th>\n",
       "      <td>Ruby on Rails</td>\n",
       "    </tr>\n",
       "    <tr>\n",
       "      <th>5</th>\n",
       "      <td>Python Courses</td>\n",
       "    </tr>\n",
       "    <tr>\n",
       "      <th>6</th>\n",
       "      <td>PHP with MySql</td>\n",
       "    </tr>\n",
       "    <tr>\n",
       "      <th>7</th>\n",
       "      <td>.NET for web</td>\n",
       "    </tr>\n",
       "    <tr>\n",
       "      <th>8</th>\n",
       "      <td>New integrations with Java</td>\n",
       "    </tr>\n",
       "    <tr>\n",
       "      <th>9</th>\n",
       "      <td>TDD with Java</td>\n",
       "    </tr>\n",
       "    <tr>\n",
       "      <th>10</th>\n",
       "      <td>Clean code with C#</td>\n",
       "    </tr>\n",
       "    <tr>\n",
       "      <th>11</th>\n",
       "      <td>Java Certification Prep</td>\n",
       "    </tr>\n",
       "    <tr>\n",
       "      <th>12</th>\n",
       "      <td>Basic hardware</td>\n",
       "    </tr>\n",
       "    <tr>\n",
       "      <th>13</th>\n",
       "      <td>Persistence with .NET</td>\n",
       "    </tr>\n",
       "    <tr>\n",
       "      <th>14</th>\n",
       "      <td>Developing games</td>\n",
       "    </tr>\n",
       "    <tr>\n",
       "      <th>15</th>\n",
       "      <td>Data analysis</td>\n",
       "    </tr>\n",
       "    <tr>\n",
       "      <th>16</th>\n",
       "      <td>basic statistics</td>\n",
       "    </tr>\n",
       "    <tr>\n",
       "      <th>17</th>\n",
       "      <td>Internet of Things</td>\n",
       "    </tr>\n",
       "    <tr>\n",
       "      <th>18</th>\n",
       "      <td>Functional programming</td>\n",
       "    </tr>\n",
       "    <tr>\n",
       "      <th>19</th>\n",
       "      <td>Best practices in Java</td>\n",
       "    </tr>\n",
       "    <tr>\n",
       "      <th>20</th>\n",
       "      <td>Object Orientation with Java</td>\n",
       "    </tr>\n",
       "  </tbody>\n",
       "</table>\n",
       "</div>"
      ],
      "text/plain": [
       "                            course_name\n",
       "number_id                              \n",
       "1                     programming logic\n",
       "2                          Java for Web\n",
       "3                            C# for Web\n",
       "4                         Ruby on Rails\n",
       "5                        Python Courses\n",
       "6                        PHP with MySql\n",
       "7                          .NET for web\n",
       "8            New integrations with Java\n",
       "9                         TDD with Java\n",
       "10                   Clean code with C#\n",
       "11              Java Certification Prep\n",
       "12                       Basic hardware\n",
       "13                Persistence with .NET\n",
       "14                     Developing games\n",
       "15                        Data analysis\n",
       "16                     basic statistics\n",
       "17                   Internet of Things\n",
       "18               Functional programming\n",
       "19               Best practices in Java\n",
       "20         Object Orientation with Java"
      ]
     },
     "execution_count": 32,
     "metadata": {},
     "output_type": "execute_result"
    }
   ],
   "source": [
    "courses"
   ]
  },
  {
   "cell_type": "markdown",
   "id": "8b811709",
   "metadata": {},
   "source": [
    "### ENROLL STUDENTS IN COURSES "
   ]
  },
  {
   "cell_type": "code",
   "execution_count": 33,
   "id": "5b439661",
   "metadata": {},
   "outputs": [
    {
     "data": {
      "text/html": [
       "<div>\n",
       "<style scoped>\n",
       "    .dataframe tbody tr th:only-of-type {\n",
       "        vertical-align: middle;\n",
       "    }\n",
       "\n",
       "    .dataframe tbody tr th {\n",
       "        vertical-align: top;\n",
       "    }\n",
       "\n",
       "    .dataframe thead th {\n",
       "        text-align: right;\n",
       "    }\n",
       "</style>\n",
       "<table border=\"1\" class=\"dataframe\">\n",
       "  <thead>\n",
       "    <tr style=\"text-align: right;\">\n",
       "      <th></th>\n",
       "      <th>name</th>\n",
       "      <th>student_id</th>\n",
       "      <th>domains</th>\n",
       "      <th>email</th>\n",
       "    </tr>\n",
       "  </thead>\n",
       "  <tbody>\n",
       "    <tr>\n",
       "      <th>114</th>\n",
       "      <td>ELZA</td>\n",
       "      <td>320</td>\n",
       "      <td>@domainemail.com</td>\n",
       "      <td>elza@domainemail.com</td>\n",
       "    </tr>\n",
       "    <tr>\n",
       "      <th>57</th>\n",
       "      <td>DAIANE</td>\n",
       "      <td>303</td>\n",
       "      <td>@serviceemail.com</td>\n",
       "      <td>daiane@serviceemail.com</td>\n",
       "    </tr>\n",
       "    <tr>\n",
       "      <th>85</th>\n",
       "      <td>HELENA</td>\n",
       "      <td>221</td>\n",
       "      <td>@domainemail.com</td>\n",
       "      <td>helena@domainemail.com</td>\n",
       "    </tr>\n",
       "    <tr>\n",
       "      <th>183</th>\n",
       "      <td>IRACI</td>\n",
       "      <td>8</td>\n",
       "      <td>@domainemail.com</td>\n",
       "      <td>iraci@domainemail.com</td>\n",
       "    </tr>\n",
       "    <tr>\n",
       "      <th>189</th>\n",
       "      <td>DALVA</td>\n",
       "      <td>137</td>\n",
       "      <td>@domainemail.com</td>\n",
       "      <td>dalva@domainemail.com</td>\n",
       "    </tr>\n",
       "  </tbody>\n",
       "</table>\n",
       "</div>"
      ],
      "text/plain": [
       "       name  student_id            domains                    email\n",
       "114    ELZA         320   @domainemail.com     elza@domainemail.com\n",
       "57   DAIANE         303  @serviceemail.com  daiane@serviceemail.com\n",
       "85   HELENA         221   @domainemail.com   helena@domainemail.com\n",
       "183   IRACI           8   @domainemail.com    iraci@domainemail.com\n",
       "189   DALVA         137   @domainemail.com    dalva@domainemail.com"
      ]
     },
     "execution_count": 33,
     "metadata": {},
     "output_type": "execute_result"
    }
   ],
   "source": [
    "list_names.sample(5)"
   ]
  },
  {
   "cell_type": "code",
   "execution_count": 34,
   "id": "25b6cb03",
   "metadata": {},
   "outputs": [],
   "source": [
    "list_names['registration'] = np.ceil(np.random.exponential(size= total_student)\n",
    "                                     * 1.5).astype(int)"
   ]
  },
  {
   "cell_type": "code",
   "execution_count": 35,
   "id": "99ecfcec",
   "metadata": {},
   "outputs": [
    {
     "data": {
      "text/plain": [
       "pandas.core.frame.DataFrame"
      ]
     },
     "execution_count": 35,
     "metadata": {},
     "output_type": "execute_result"
    }
   ],
   "source": [
    "type(list_names)"
   ]
  },
  {
   "cell_type": "markdown",
   "id": "2825f214",
   "metadata": {},
   "source": [
    "Let's now know how the courses are being distributed among the students."
   ]
  },
  {
   "cell_type": "code",
   "execution_count": 36,
   "id": "8917d306",
   "metadata": {},
   "outputs": [
    {
     "data": {
      "text/plain": [
       "count    400.000000\n",
       "mean       2.135000\n",
       "std        1.515757\n",
       "min        1.000000\n",
       "25%        1.000000\n",
       "50%        2.000000\n",
       "75%        3.000000\n",
       "max       12.000000\n",
       "Name: registration, dtype: float64"
      ]
     },
     "execution_count": 36,
     "metadata": {},
     "output_type": "execute_result"
    }
   ],
   "source": [
    "list_names.registration.describe()"
   ]
  },
  {
   "cell_type": "markdown",
   "id": "c287f0e2",
   "metadata": {},
   "source": [
    "We want to see graphically how the courses are distributed between"
   ]
  },
  {
   "cell_type": "code",
   "execution_count": 37,
   "id": "daf73ec8",
   "metadata": {},
   "outputs": [],
   "source": [
    "import seaborn as sns"
   ]
  },
  {
   "cell_type": "code",
   "execution_count": 38,
   "id": "fa9aaee4",
   "metadata": {},
   "outputs": [
    {
     "name": "stderr",
     "output_type": "stream",
     "text": [
      "C:\\Users\\NMP\\anaconda3\\lib\\site-packages\\seaborn\\distributions.py:2619: FutureWarning: `distplot` is a deprecated function and will be removed in a future version. Please adapt your code to use either `displot` (a figure-level function with similar flexibility) or `histplot` (an axes-level function for histograms).\n",
      "  warnings.warn(msg, FutureWarning)\n"
     ]
    },
    {
     "data": {
      "text/plain": [
       "<AxesSubplot:xlabel='registration', ylabel='Density'>"
      ]
     },
     "execution_count": 38,
     "metadata": {},
     "output_type": "execute_result"
    },
    {
     "data": {
      "image/png": "[encoded data removed]",
      "text/plain": [
       "<Figure size 640x480 with 1 Axes>"
      ]
     },
     "metadata": {},
     "output_type": "display_data"
    }
   ],
   "source": [
    "sns.distplot(list_names.registration)"
   ]
  },
  {
   "cell_type": "markdown",
   "id": "ba6048ee",
   "metadata": {},
   "source": [
    "As we expected, we have many students enrolled in one course, fewer enrolled in 2, even fewer in 3, and so on. We will move on to a visualization of the exact number of students with each number of enrollments, which we will get from the value_counts() function"
   ]
  },
  {
   "cell_type": "code",
   "execution_count": 39,
   "id": "a4234a5f",
   "metadata": {},
   "outputs": [
    {
     "data": {
      "text/plain": [
       "1     184\n",
       "2      97\n",
       "3      56\n",
       "4      34\n",
       "5      19\n",
       "6       5\n",
       "12      2\n",
       "8       2\n",
       "7       1\n",
       "Name: registration, dtype: int64"
      ]
     },
     "execution_count": 39,
     "metadata": {},
     "output_type": "execute_result"
    }
   ],
   "source": [
    "list_names.registration.value_counts()"
   ]
  },
  {
   "cell_type": "markdown",
   "id": "3644e153",
   "metadata": {},
   "source": [
    "### SELECTING THE COURSES "
   ]
  },
  {
   "cell_type": "code",
   "execution_count": 40,
   "id": "eb17eed0",
   "metadata": {},
   "outputs": [
    {
     "data": {
      "text/html": [
       "<div>\n",
       "<style scoped>\n",
       "    .dataframe tbody tr th:only-of-type {\n",
       "        vertical-align: middle;\n",
       "    }\n",
       "\n",
       "    .dataframe tbody tr th {\n",
       "        vertical-align: top;\n",
       "    }\n",
       "\n",
       "    .dataframe thead th {\n",
       "        text-align: right;\n",
       "    }\n",
       "</style>\n",
       "<table border=\"1\" class=\"dataframe\">\n",
       "  <thead>\n",
       "    <tr style=\"text-align: right;\">\n",
       "      <th></th>\n",
       "      <th>name</th>\n",
       "      <th>student_id</th>\n",
       "      <th>domains</th>\n",
       "      <th>email</th>\n",
       "      <th>registration</th>\n",
       "    </tr>\n",
       "  </thead>\n",
       "  <tbody>\n",
       "    <tr>\n",
       "      <th>105</th>\n",
       "      <td>MILENA</td>\n",
       "      <td>371</td>\n",
       "      <td>@domainemail.com</td>\n",
       "      <td>milena@domainemail.com</td>\n",
       "      <td>2</td>\n",
       "    </tr>\n",
       "    <tr>\n",
       "      <th>183</th>\n",
       "      <td>IRACI</td>\n",
       "      <td>8</td>\n",
       "      <td>@domainemail.com</td>\n",
       "      <td>iraci@domainemail.com</td>\n",
       "      <td>1</td>\n",
       "    </tr>\n",
       "    <tr>\n",
       "      <th>10</th>\n",
       "      <td>SANDRA</td>\n",
       "      <td>125</td>\n",
       "      <td>@domainemail.com</td>\n",
       "      <td>sandra@domainemail.com</td>\n",
       "      <td>2</td>\n",
       "    </tr>\n",
       "  </tbody>\n",
       "</table>\n",
       "</div>"
      ],
      "text/plain": [
       "       name  student_id           domains                   email  \\\n",
       "105  MILENA         371  @domainemail.com  milena@domainemail.com   \n",
       "183   IRACI           8  @domainemail.com   iraci@domainemail.com   \n",
       "10   SANDRA         125  @domainemail.com  sandra@domainemail.com   \n",
       "\n",
       "     registration  \n",
       "105             2  \n",
       "183             1  \n",
       "10              2  "
      ]
     },
     "execution_count": 40,
     "metadata": {},
     "output_type": "execute_result"
    }
   ],
   "source": [
    "list_names.sample(3)"
   ]
  },
  {
   "cell_type": "markdown",
   "id": "b51b6844",
   "metadata": {},
   "source": [
    "To make this distribution, we will create three variables. The first one is all_registration, which will be initialized as an empty array. Next, we will create a variable x that will be called np.random.rand(20, a way to randomly calculate the 20 courses we have in the dataframe. Finally, we will have a variable prob (of probability) that will receive the division of x by sum(x) (the sum of x)."
   ]
  },
  {
   "cell_type": "code",
   "execution_count": 41,
   "id": "4f065dba",
   "metadata": {},
   "outputs": [],
   "source": [
    "all_registration = []\n",
    "x = np.random.rand(20)\n",
    "prob = x / sum(x)"
   ]
  },
  {
   "cell_type": "code",
   "execution_count": 42,
   "id": "eca516bb",
   "metadata": {},
   "outputs": [],
   "source": [
    "for index, row in list_names.iterrows():\n",
    "    id = row.student_id\n",
    "    registration = row.registration\n",
    "    for i in range(registration):\n",
    "        regist = [id, np.random.choice(courses.index, p = prob)]\n",
    "        all_registration.append(regist)\n",
    "\n",
    "registration = pd.DataFrame(all_registration, \n",
    "                            columns= ['student_id', 'course_id'])"
   ]
  },
  {
   "cell_type": "code",
   "execution_count": 43,
   "id": "bfa2ca9a",
   "metadata": {},
   "outputs": [
    {
     "data": {
      "text/html": [
       "<div>\n",
       "<style scoped>\n",
       "    .dataframe tbody tr th:only-of-type {\n",
       "        vertical-align: middle;\n",
       "    }\n",
       "\n",
       "    .dataframe tbody tr th {\n",
       "        vertical-align: top;\n",
       "    }\n",
       "\n",
       "    .dataframe thead th {\n",
       "        text-align: right;\n",
       "    }\n",
       "</style>\n",
       "<table border=\"1\" class=\"dataframe\">\n",
       "  <thead>\n",
       "    <tr style=\"text-align: right;\">\n",
       "      <th></th>\n",
       "      <th>student_id</th>\n",
       "      <th>course_id</th>\n",
       "    </tr>\n",
       "  </thead>\n",
       "  <tbody>\n",
       "    <tr>\n",
       "      <th>0</th>\n",
       "      <td>235</td>\n",
       "      <td>8</td>\n",
       "    </tr>\n",
       "    <tr>\n",
       "      <th>1</th>\n",
       "      <td>43</td>\n",
       "      <td>6</td>\n",
       "    </tr>\n",
       "    <tr>\n",
       "      <th>2</th>\n",
       "      <td>304</td>\n",
       "      <td>7</td>\n",
       "    </tr>\n",
       "    <tr>\n",
       "      <th>3</th>\n",
       "      <td>304</td>\n",
       "      <td>18</td>\n",
       "    </tr>\n",
       "    <tr>\n",
       "      <th>4</th>\n",
       "      <td>304</td>\n",
       "      <td>11</td>\n",
       "    </tr>\n",
       "  </tbody>\n",
       "</table>\n",
       "</div>"
      ],
      "text/plain": [
       "   student_id  course_id\n",
       "0         235          8\n",
       "1          43          6\n",
       "2         304          7\n",
       "3         304         18\n",
       "4         304         11"
      ]
     },
     "execution_count": 43,
     "metadata": {},
     "output_type": "execute_result"
    }
   ],
   "source": [
    "registration.head()"
   ]
  },
  {
   "cell_type": "code",
   "execution_count": 44,
   "id": "302b7000",
   "metadata": {},
   "outputs": [
    {
     "data": {
      "text/html": [
       "<div>\n",
       "<style scoped>\n",
       "    .dataframe tbody tr th:only-of-type {\n",
       "        vertical-align: middle;\n",
       "    }\n",
       "\n",
       "    .dataframe tbody tr th {\n",
       "        vertical-align: top;\n",
       "    }\n",
       "\n",
       "    .dataframe thead th {\n",
       "        text-align: right;\n",
       "    }\n",
       "</style>\n",
       "<table border=\"1\" class=\"dataframe\">\n",
       "  <thead>\n",
       "    <tr style=\"text-align: right;\">\n",
       "      <th></th>\n",
       "      <th>course_name</th>\n",
       "    </tr>\n",
       "    <tr>\n",
       "      <th>number_id</th>\n",
       "      <th></th>\n",
       "    </tr>\n",
       "  </thead>\n",
       "  <tbody>\n",
       "    <tr>\n",
       "      <th>1</th>\n",
       "      <td>programming logic</td>\n",
       "    </tr>\n",
       "    <tr>\n",
       "      <th>2</th>\n",
       "      <td>Java for Web</td>\n",
       "    </tr>\n",
       "    <tr>\n",
       "      <th>3</th>\n",
       "      <td>C# for Web</td>\n",
       "    </tr>\n",
       "    <tr>\n",
       "      <th>4</th>\n",
       "      <td>Ruby on Rails</td>\n",
       "    </tr>\n",
       "    <tr>\n",
       "      <th>5</th>\n",
       "      <td>Python Courses</td>\n",
       "    </tr>\n",
       "  </tbody>\n",
       "</table>\n",
       "</div>"
      ],
      "text/plain": [
       "                 course_name\n",
       "number_id                   \n",
       "1          programming logic\n",
       "2               Java for Web\n",
       "3                 C# for Web\n",
       "4              Ruby on Rails\n",
       "5             Python Courses"
      ]
     },
     "execution_count": 44,
     "metadata": {},
     "output_type": "execute_result"
    }
   ],
   "source": [
    "courses.head()"
   ]
  },
  {
   "cell_type": "code",
   "execution_count": 45,
   "id": "39338b0f",
   "metadata": {},
   "outputs": [
    {
     "data": {
      "text/html": [
       "<div>\n",
       "<style scoped>\n",
       "    .dataframe tbody tr th:only-of-type {\n",
       "        vertical-align: middle;\n",
       "    }\n",
       "\n",
       "    .dataframe tbody tr th {\n",
       "        vertical-align: top;\n",
       "    }\n",
       "\n",
       "    .dataframe thead th {\n",
       "        text-align: right;\n",
       "    }\n",
       "</style>\n",
       "<table border=\"1\" class=\"dataframe\">\n",
       "  <thead>\n",
       "    <tr style=\"text-align: right;\">\n",
       "      <th></th>\n",
       "      <th>student_quantity</th>\n",
       "      <th>course_name</th>\n",
       "    </tr>\n",
       "    <tr>\n",
       "      <th>course_id</th>\n",
       "      <th></th>\n",
       "      <th></th>\n",
       "    </tr>\n",
       "  </thead>\n",
       "  <tbody>\n",
       "    <tr>\n",
       "      <th>1</th>\n",
       "      <td>24</td>\n",
       "      <td>programming logic</td>\n",
       "    </tr>\n",
       "    <tr>\n",
       "      <th>2</th>\n",
       "      <td>52</td>\n",
       "      <td>Java for Web</td>\n",
       "    </tr>\n",
       "    <tr>\n",
       "      <th>3</th>\n",
       "      <td>54</td>\n",
       "      <td>C# for Web</td>\n",
       "    </tr>\n",
       "    <tr>\n",
       "      <th>4</th>\n",
       "      <td>51</td>\n",
       "      <td>Ruby on Rails</td>\n",
       "    </tr>\n",
       "    <tr>\n",
       "      <th>5</th>\n",
       "      <td>3</td>\n",
       "      <td>Python Courses</td>\n",
       "    </tr>\n",
       "    <tr>\n",
       "      <th>6</th>\n",
       "      <td>32</td>\n",
       "      <td>PHP with MySql</td>\n",
       "    </tr>\n",
       "    <tr>\n",
       "      <th>7</th>\n",
       "      <td>56</td>\n",
       "      <td>.NET for web</td>\n",
       "    </tr>\n",
       "    <tr>\n",
       "      <th>8</th>\n",
       "      <td>42</td>\n",
       "      <td>New integrations with Java</td>\n",
       "    </tr>\n",
       "    <tr>\n",
       "      <th>9</th>\n",
       "      <td>60</td>\n",
       "      <td>TDD with Java</td>\n",
       "    </tr>\n",
       "    <tr>\n",
       "      <th>10</th>\n",
       "      <td>68</td>\n",
       "      <td>Clean code with C#</td>\n",
       "    </tr>\n",
       "    <tr>\n",
       "      <th>11</th>\n",
       "      <td>78</td>\n",
       "      <td>Java Certification Prep</td>\n",
       "    </tr>\n",
       "    <tr>\n",
       "      <th>12</th>\n",
       "      <td>21</td>\n",
       "      <td>Basic hardware</td>\n",
       "    </tr>\n",
       "    <tr>\n",
       "      <th>13</th>\n",
       "      <td>21</td>\n",
       "      <td>Persistence with .NET</td>\n",
       "    </tr>\n",
       "    <tr>\n",
       "      <th>14</th>\n",
       "      <td>18</td>\n",
       "      <td>Developing games</td>\n",
       "    </tr>\n",
       "    <tr>\n",
       "      <th>15</th>\n",
       "      <td>57</td>\n",
       "      <td>Data analysis</td>\n",
       "    </tr>\n",
       "    <tr>\n",
       "      <th>16</th>\n",
       "      <td>24</td>\n",
       "      <td>basic statistics</td>\n",
       "    </tr>\n",
       "    <tr>\n",
       "      <th>17</th>\n",
       "      <td>71</td>\n",
       "      <td>Internet of Things</td>\n",
       "    </tr>\n",
       "    <tr>\n",
       "      <th>18</th>\n",
       "      <td>60</td>\n",
       "      <td>Functional programming</td>\n",
       "    </tr>\n",
       "    <tr>\n",
       "      <th>19</th>\n",
       "      <td>6</td>\n",
       "      <td>Best practices in Java</td>\n",
       "    </tr>\n",
       "    <tr>\n",
       "      <th>20</th>\n",
       "      <td>56</td>\n",
       "      <td>Object Orientation with Java</td>\n",
       "    </tr>\n",
       "  </tbody>\n",
       "</table>\n",
       "</div>"
      ],
      "text/plain": [
       "           student_quantity                   course_name\n",
       "course_id                                                \n",
       "1                        24             programming logic\n",
       "2                        52                  Java for Web\n",
       "3                        54                    C# for Web\n",
       "4                        51                 Ruby on Rails\n",
       "5                         3                Python Courses\n",
       "6                        32                PHP with MySql\n",
       "7                        56                  .NET for web\n",
       "8                        42    New integrations with Java\n",
       "9                        60                 TDD with Java\n",
       "10                       68            Clean code with C#\n",
       "11                       78       Java Certification Prep\n",
       "12                       21                Basic hardware\n",
       "13                       21         Persistence with .NET\n",
       "14                       18              Developing games\n",
       "15                       57                 Data analysis\n",
       "16                       24              basic statistics\n",
       "17                       71            Internet of Things\n",
       "18                       60        Functional programming\n",
       "19                        6        Best practices in Java\n",
       "20                       56  Object Orientation with Java"
      ]
     },
     "execution_count": 45,
     "metadata": {},
     "output_type": "execute_result"
    }
   ],
   "source": [
    " registration.groupby('course_id').count().join(courses['course_name']).rename(columns={'student_id':'student_quantity'})"
   ]
  },
  {
   "cell_type": "code",
   "execution_count": null,
   "id": "3a594704",
   "metadata": {},
   "outputs": [],
   "source": []
  }
 ],
 "metadata": {
  "kernelspec": {
   "display_name": "Python 3 (ipykernel)",
   "language": "python",
   "name": "python3"
  },
  "language_info": {
   "codemirror_mode": {
    "name": "ipython",
    "version": 3
   },
   "file_extension": ".py",
   "mimetype": "text/x-python",
   "name": "python",
   "nbconvert_exporter": "python",
   "pygments_lexer": "ipython3",
   "version": "3.9.13"
  }
 },
 "nbformat": 4,
 "nbformat_minor": 5
}
