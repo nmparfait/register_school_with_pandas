{
 "cells": [
  {
   "cell_type": "markdown",
   "id": "2ad0eb90",
   "metadata": {},
   "source": [
    "# PROGRAMMING SCHOOL WITH PANDAS"
   ]
  },
  {
   "cell_type": "markdown",
   "id": "98b99f65",
   "metadata": {},
   "source": [
    "### Reading datas "
   ]
  },
  {
   "cell_type": "code",
   "execution_count": 42,
   "id": "a58f3d99",
   "metadata": {},
   "outputs": [],
   "source": [
    "import pandas as pd "
   ]
  },
  {
   "cell_type": "code",
   "execution_count": 43,
   "id": "5ea15e8a",
   "metadata": {},
   "outputs": [],
   "source": [
    "name_f = pd.read_json('https://guilhermeonrails.github.io/nomes_ibge/nomes-f.json')\n",
    "name_m = pd.read_json('https://guilhermeonrails.github.io/nomes_ibge/nomes-m.json')"
   ]
  },
  {
   "cell_type": "code",
   "execution_count": 47,
   "id": "de9c29cd",
   "metadata": {},
   "outputs": [],
   "source": [
    "name_f =name_f.rename(columns={'nome':'name', 'regiao':'region', 'freq':'freq', 'rank':'rank', 'sexo':'sex'})\n",
    "name_m =name_f.rename(columns={'nome':'name', 'regiao':'region', 'freq':'freq', 'rank':'rank', 'sexo':'sex'})\n"
   ]
  },
  {
   "cell_type": "code",
   "execution_count": 48,
   "id": "287b20d2",
   "metadata": {},
   "outputs": [
    {
     "data": {
      "text/html": [
       "<div>\n",
       "<style scoped>\n",
       "    .dataframe tbody tr th:only-of-type {\n",
       "        vertical-align: middle;\n",
       "    }\n",
       "\n",
       "    .dataframe tbody tr th {\n",
       "        vertical-align: top;\n",
       "    }\n",
       "\n",
       "    .dataframe thead th {\n",
       "        text-align: right;\n",
       "    }\n",
       "</style>\n",
       "<table border=\"1\" class=\"dataframe\">\n",
       "  <thead>\n",
       "    <tr style=\"text-align: right;\">\n",
       "      <th></th>\n",
       "      <th>name</th>\n",
       "      <th>region</th>\n",
       "      <th>freq</th>\n",
       "      <th>rank</th>\n",
       "      <th>sex</th>\n",
       "    </tr>\n",
       "  </thead>\n",
       "  <tbody>\n",
       "    <tr>\n",
       "      <th>0</th>\n",
       "      <td>MARIA</td>\n",
       "      <td>0</td>\n",
       "      <td>11694738</td>\n",
       "      <td>1</td>\n",
       "      <td>F</td>\n",
       "    </tr>\n",
       "    <tr>\n",
       "      <th>1</th>\n",
       "      <td>ANA</td>\n",
       "      <td>0</td>\n",
       "      <td>3079729</td>\n",
       "      <td>2</td>\n",
       "      <td>F</td>\n",
       "    </tr>\n",
       "    <tr>\n",
       "      <th>2</th>\n",
       "      <td>FRANCISCA</td>\n",
       "      <td>0</td>\n",
       "      <td>721637</td>\n",
       "      <td>3</td>\n",
       "      <td>F</td>\n",
       "    </tr>\n",
       "    <tr>\n",
       "      <th>3</th>\n",
       "      <td>ANTONIA</td>\n",
       "      <td>0</td>\n",
       "      <td>588783</td>\n",
       "      <td>4</td>\n",
       "      <td>F</td>\n",
       "    </tr>\n",
       "    <tr>\n",
       "      <th>4</th>\n",
       "      <td>ADRIANA</td>\n",
       "      <td>0</td>\n",
       "      <td>565621</td>\n",
       "      <td>5</td>\n",
       "      <td>F</td>\n",
       "    </tr>\n",
       "  </tbody>\n",
       "</table>\n",
       "</div>"
      ],
      "text/plain": [
       "        name  region      freq  rank sex\n",
       "0      MARIA       0  11694738     1   F\n",
       "1        ANA       0   3079729     2   F\n",
       "2  FRANCISCA       0    721637     3   F\n",
       "3    ANTONIA       0    588783     4   F\n",
       "4    ADRIANA       0    565621     5   F"
      ]
     },
     "execution_count": 48,
     "metadata": {},
     "output_type": "execute_result"
    }
   ],
   "source": [
    "name_f.head()"
   ]
  },
  {
   "cell_type": "code",
   "execution_count": 49,
   "id": "8f920712",
   "metadata": {},
   "outputs": [
    {
     "data": {
      "text/html": [
       "<div>\n",
       "<style scoped>\n",
       "    .dataframe tbody tr th:only-of-type {\n",
       "        vertical-align: middle;\n",
       "    }\n",
       "\n",
       "    .dataframe tbody tr th {\n",
       "        vertical-align: top;\n",
       "    }\n",
       "\n",
       "    .dataframe thead th {\n",
       "        text-align: right;\n",
       "    }\n",
       "</style>\n",
       "<table border=\"1\" class=\"dataframe\">\n",
       "  <thead>\n",
       "    <tr style=\"text-align: right;\">\n",
       "      <th></th>\n",
       "      <th>name</th>\n",
       "      <th>region</th>\n",
       "      <th>freq</th>\n",
       "      <th>rank</th>\n",
       "      <th>sex</th>\n",
       "    </tr>\n",
       "  </thead>\n",
       "  <tbody>\n",
       "    <tr>\n",
       "      <th>0</th>\n",
       "      <td>MARIA</td>\n",
       "      <td>0</td>\n",
       "      <td>11694738</td>\n",
       "      <td>1</td>\n",
       "      <td>F</td>\n",
       "    </tr>\n",
       "    <tr>\n",
       "      <th>1</th>\n",
       "      <td>ANA</td>\n",
       "      <td>0</td>\n",
       "      <td>3079729</td>\n",
       "      <td>2</td>\n",
       "      <td>F</td>\n",
       "    </tr>\n",
       "    <tr>\n",
       "      <th>2</th>\n",
       "      <td>FRANCISCA</td>\n",
       "      <td>0</td>\n",
       "      <td>721637</td>\n",
       "      <td>3</td>\n",
       "      <td>F</td>\n",
       "    </tr>\n",
       "    <tr>\n",
       "      <th>3</th>\n",
       "      <td>ANTONIA</td>\n",
       "      <td>0</td>\n",
       "      <td>588783</td>\n",
       "      <td>4</td>\n",
       "      <td>F</td>\n",
       "    </tr>\n",
       "    <tr>\n",
       "      <th>4</th>\n",
       "      <td>ADRIANA</td>\n",
       "      <td>0</td>\n",
       "      <td>565621</td>\n",
       "      <td>5</td>\n",
       "      <td>F</td>\n",
       "    </tr>\n",
       "  </tbody>\n",
       "</table>\n",
       "</div>"
      ],
      "text/plain": [
       "        name  region      freq  rank sex\n",
       "0      MARIA       0  11694738     1   F\n",
       "1        ANA       0   3079729     2   F\n",
       "2  FRANCISCA       0    721637     3   F\n",
       "3    ANTONIA       0    588783     4   F\n",
       "4    ADRIANA       0    565621     5   F"
      ]
     },
     "execution_count": 49,
     "metadata": {},
     "output_type": "execute_result"
    }
   ],
   "source": [
    "name_m.head()"
   ]
  },
  {
   "cell_type": "markdown",
   "id": "21b5d525",
   "metadata": {},
   "source": [
    "### Sample in pandas\n",
    "\n",
    "To perform random sampling. The number of samples to extract can be expressed in two alternative ways: specify the exact number of random rows to extract.\n",
    "Returns a random sample row from the DataFrame."
   ]
  },
  {
   "cell_type": "code",
   "execution_count": 9,
   "id": "e3979fc4",
   "metadata": {},
   "outputs": [
    {
     "data": {
      "text/html": [
       "<div>\n",
       "<style scoped>\n",
       "    .dataframe tbody tr th:only-of-type {\n",
       "        vertical-align: middle;\n",
       "    }\n",
       "\n",
       "    .dataframe tbody tr th {\n",
       "        vertical-align: top;\n",
       "    }\n",
       "\n",
       "    .dataframe thead th {\n",
       "        text-align: right;\n",
       "    }\n",
       "</style>\n",
       "<table border=\"1\" class=\"dataframe\">\n",
       "  <thead>\n",
       "    <tr style=\"text-align: right;\">\n",
       "      <th></th>\n",
       "      <th>nome</th>\n",
       "      <th>regiao</th>\n",
       "      <th>freq</th>\n",
       "      <th>rank</th>\n",
       "      <th>sexo</th>\n",
       "    </tr>\n",
       "  </thead>\n",
       "  <tbody>\n",
       "    <tr>\n",
       "      <th>161</th>\n",
       "      <td>DAMIAO</td>\n",
       "      <td>0</td>\n",
       "      <td>79047</td>\n",
       "      <td>162</td>\n",
       "      <td>M</td>\n",
       "    </tr>\n",
       "    <tr>\n",
       "      <th>85</th>\n",
       "      <td>FABRICIO</td>\n",
       "      <td>0</td>\n",
       "      <td>166678</td>\n",
       "      <td>86</td>\n",
       "      <td>M</td>\n",
       "    </tr>\n",
       "    <tr>\n",
       "      <th>126</th>\n",
       "      <td>MURILO</td>\n",
       "      <td>0</td>\n",
       "      <td>115067</td>\n",
       "      <td>127</td>\n",
       "      <td>M</td>\n",
       "    </tr>\n",
       "    <tr>\n",
       "      <th>160</th>\n",
       "      <td>MOACIR</td>\n",
       "      <td>0</td>\n",
       "      <td>79629</td>\n",
       "      <td>161</td>\n",
       "      <td>M</td>\n",
       "    </tr>\n",
       "    <tr>\n",
       "      <th>184</th>\n",
       "      <td>ALISON</td>\n",
       "      <td>0</td>\n",
       "      <td>72186</td>\n",
       "      <td>185</td>\n",
       "      <td>M</td>\n",
       "    </tr>\n",
       "  </tbody>\n",
       "</table>\n",
       "</div>"
      ],
      "text/plain": [
       "         nome  regiao    freq  rank sexo\n",
       "161    DAMIAO       0   79047   162    M\n",
       "85   FABRICIO       0  166678    86    M\n",
       "126    MURILO       0  115067   127    M\n",
       "160    MOACIR       0   79629   161    M\n",
       "184    ALISON       0   72186   185    M"
      ]
     },
     "execution_count": 9,
     "metadata": {},
     "output_type": "execute_result"
    }
   ],
   "source": [
    "name_m.sample(5)"
   ]
  },
  {
   "cell_type": "code",
   "execution_count": 50,
   "id": "6eb1c5f4",
   "metadata": {},
   "outputs": [
    {
     "name": "stdout",
     "output_type": "stream",
     "text": [
      "Number of Names:400\n"
     ]
    }
   ],
   "source": [
    "print('Number of Names:' + str(len(name_f) + len(name_m)))"
   ]
  },
  {
   "cell_type": "markdown",
   "id": "552c7e26",
   "metadata": {},
   "source": [
    "Now we want to merge these two sets into a single dataframe containing the names of all students in the school. For this, we will create a variable frames that will receive a list containing our information."
   ]
  },
  {
   "cell_type": "code",
   "execution_count": 51,
   "id": "6d0553cf",
   "metadata": {},
   "outputs": [
    {
     "data": {
      "text/plain": [
       "[          name  region      freq  rank sex\n",
       " 0        MARIA       0  11694738     1   F\n",
       " 1          ANA       0   3079729     2   F\n",
       " 2    FRANCISCA       0    721637     3   F\n",
       " 3      ANTONIA       0    588783     4   F\n",
       " 4      ADRIANA       0    565621     5   F\n",
       " ..         ...     ...       ...   ...  ..\n",
       " 195     ROSANE       0     82203   196   F\n",
       " 196    IVONETE       0     81878   197   F\n",
       " 197    LUCIANE       0     81230   198   F\n",
       " 198    ISADORA       0     81100   199   F\n",
       " 199      NILZA       0     80128   200   F\n",
       " \n",
       " [200 rows x 5 columns],\n",
       "           name  region      freq  rank sex\n",
       " 0        MARIA       0  11694738     1   F\n",
       " 1          ANA       0   3079729     2   F\n",
       " 2    FRANCISCA       0    721637     3   F\n",
       " 3      ANTONIA       0    588783     4   F\n",
       " 4      ADRIANA       0    565621     5   F\n",
       " ..         ...     ...       ...   ...  ..\n",
       " 195     ROSANE       0     82203   196   F\n",
       " 196    IVONETE       0     81878   197   F\n",
       " 197    LUCIANE       0     81230   198   F\n",
       " 198    ISADORA       0     81100   199   F\n",
       " 199      NILZA       0     80128   200   F\n",
       " \n",
       " [200 rows x 5 columns]]"
      ]
     },
     "execution_count": 51,
     "metadata": {},
     "output_type": "execute_result"
    }
   ],
   "source": [
    "frames = [name_f, name_m]\n",
    "frames"
   ]
  },
  {
   "cell_type": "code",
   "execution_count": 28,
   "id": "61fd2e6a",
   "metadata": {},
   "outputs": [
    {
     "data": {
      "text/plain": [
       "[          nome  regiao      freq  rank sexo\n",
       " 0        MARIA       0  11694738     1    F\n",
       " 1          ANA       0   3079729     2    F\n",
       " 2    FRANCISCA       0    721637     3    F\n",
       " 3      ANTONIA       0    588783     4    F\n",
       " 4      ADRIANA       0    565621     5    F\n",
       " ..         ...     ...       ...   ...  ...\n",
       " 195     ROSANE       0     82203   196    F\n",
       " 196    IVONETE       0     81878   197    F\n",
       " 197    LUCIANE       0     81230   198    F\n",
       " 198    ISADORA       0     81100   199    F\n",
       " 199      NILZA       0     80128   200    F\n",
       " \n",
       " [200 rows x 5 columns],\n",
       "           nome  regiao     freq  rank sexo\n",
       " 0         JOSE       0  5732508     1    M\n",
       " 1         JOAO       0  2971935     2    M\n",
       " 2      ANTONIO       0  2567494     3    M\n",
       " 3    FRANCISCO       0  1765197     4    M\n",
       " 4       CARLOS       0  1483121     5    M\n",
       " ..         ...     ...      ...   ...  ...\n",
       " 195     WALTER       0    67207   196    M\n",
       " 196    ARLINDO       0    66669   197    M\n",
       " 197    MICHAEL       0    65736   198    M\n",
       " 198     ALVARO       0    65444   199    M\n",
       " 199    GEOVANE       0    65435   200    M\n",
       " \n",
       " [200 rows x 5 columns]]"
      ]
     },
     "execution_count": 28,
     "metadata": {},
     "output_type": "execute_result"
    }
   ],
   "source": [
    "frames"
   ]
  },
  {
   "cell_type": "markdown",
   "id": "398b113e",
   "metadata": {},
   "source": [
    "### concat in pandas\n",
    "In the pd.concat() function, it is possible to specify which columns we want to concatenate, in this case just the name. At the end, we will use the to_frame() function to transform the resulting set into a dataframe."
   ]
  },
  {
   "cell_type": "code",
   "execution_count": 52,
   "id": "0e5dc794",
   "metadata": {},
   "outputs": [
    {
     "data": {
      "text/html": [
       "<div>\n",
       "<style scoped>\n",
       "    .dataframe tbody tr th:only-of-type {\n",
       "        vertical-align: middle;\n",
       "    }\n",
       "\n",
       "    .dataframe tbody tr th {\n",
       "        vertical-align: top;\n",
       "    }\n",
       "\n",
       "    .dataframe thead th {\n",
       "        text-align: right;\n",
       "    }\n",
       "</style>\n",
       "<table border=\"1\" class=\"dataframe\">\n",
       "  <thead>\n",
       "    <tr style=\"text-align: right;\">\n",
       "      <th></th>\n",
       "      <th>name</th>\n",
       "    </tr>\n",
       "  </thead>\n",
       "  <tbody>\n",
       "    <tr>\n",
       "      <th>0</th>\n",
       "      <td>MARIA</td>\n",
       "    </tr>\n",
       "    <tr>\n",
       "      <th>1</th>\n",
       "      <td>ANA</td>\n",
       "    </tr>\n",
       "    <tr>\n",
       "      <th>2</th>\n",
       "      <td>FRANCISCA</td>\n",
       "    </tr>\n",
       "    <tr>\n",
       "      <th>3</th>\n",
       "      <td>ANTONIA</td>\n",
       "    </tr>\n",
       "    <tr>\n",
       "      <th>4</th>\n",
       "      <td>ADRIANA</td>\n",
       "    </tr>\n",
       "    <tr>\n",
       "      <th>...</th>\n",
       "      <td>...</td>\n",
       "    </tr>\n",
       "    <tr>\n",
       "      <th>195</th>\n",
       "      <td>ROSANE</td>\n",
       "    </tr>\n",
       "    <tr>\n",
       "      <th>196</th>\n",
       "      <td>IVONETE</td>\n",
       "    </tr>\n",
       "    <tr>\n",
       "      <th>197</th>\n",
       "      <td>LUCIANE</td>\n",
       "    </tr>\n",
       "    <tr>\n",
       "      <th>198</th>\n",
       "      <td>ISADORA</td>\n",
       "    </tr>\n",
       "    <tr>\n",
       "      <th>199</th>\n",
       "      <td>NILZA</td>\n",
       "    </tr>\n",
       "  </tbody>\n",
       "</table>\n",
       "<p>400 rows × 1 columns</p>\n",
       "</div>"
      ],
      "text/plain": [
       "          name\n",
       "0        MARIA\n",
       "1          ANA\n",
       "2    FRANCISCA\n",
       "3      ANTONIA\n",
       "4      ADRIANA\n",
       "..         ...\n",
       "195     ROSANE\n",
       "196    IVONETE\n",
       "197    LUCIANE\n",
       "198    ISADORA\n",
       "199      NILZA\n",
       "\n",
       "[400 rows x 1 columns]"
      ]
     },
     "execution_count": 52,
     "metadata": {},
     "output_type": "execute_result"
    }
   ],
   "source": [
    "list_names =pd.concat(frames)['name'].to_frame()\n",
    "list_names"
   ]
  },
  {
   "cell_type": "markdown",
   "id": "b5ed4801",
   "metadata": {},
   "source": [
    "### INCLUDING STUDENTS ID"
   ]
  },
  {
   "cell_type": "code",
   "execution_count": 53,
   "id": "242e1511",
   "metadata": {},
   "outputs": [],
   "source": [
    "import numpy as np "
   ]
  },
  {
   "cell_type": "markdown",
   "id": "7975b09a",
   "metadata": {},
   "source": [
    "The idea now is to generate an ID for our male and female students, something that we can do randomly using Python's Numpy library, which by convention is nicknamed np.\n"
   ]
  },
  {
   "cell_type": "code",
   "execution_count": 54,
   "id": "cf3df224",
   "metadata": {},
   "outputs": [],
   "source": [
    "np.random.seed(12345)"
   ]
  },
  {
   "cell_type": "code",
   "execution_count": 55,
   "id": "e297ef98",
   "metadata": {},
   "outputs": [
    {
     "data": {
      "text/plain": [
       "400"
      ]
     },
     "execution_count": 55,
     "metadata": {},
     "output_type": "execute_result"
    }
   ],
   "source": [
    "total_student = len(list_names)\n",
    "total_student"
   ]
  },
  {
   "cell_type": "code",
   "execution_count": 56,
   "id": "6a745487",
   "metadata": {},
   "outputs": [],
   "source": [
    "list_names['student_id'] = np.random.permutation(total_student) + 1 "
   ]
  },
  {
   "cell_type": "code",
   "execution_count": 58,
   "id": "d6f80f13",
   "metadata": {},
   "outputs": [
    {
     "data": {
      "text/html": [
       "<div>\n",
       "<style scoped>\n",
       "    .dataframe tbody tr th:only-of-type {\n",
       "        vertical-align: middle;\n",
       "    }\n",
       "\n",
       "    .dataframe tbody tr th {\n",
       "        vertical-align: top;\n",
       "    }\n",
       "\n",
       "    .dataframe thead th {\n",
       "        text-align: right;\n",
       "    }\n",
       "</style>\n",
       "<table border=\"1\" class=\"dataframe\">\n",
       "  <thead>\n",
       "    <tr style=\"text-align: right;\">\n",
       "      <th></th>\n",
       "      <th>name</th>\n",
       "      <th>student_id</th>\n",
       "    </tr>\n",
       "  </thead>\n",
       "  <tbody>\n",
       "    <tr>\n",
       "      <th>118</th>\n",
       "      <td>VANIA</td>\n",
       "      <td>289</td>\n",
       "    </tr>\n",
       "    <tr>\n",
       "      <th>16</th>\n",
       "      <td>JULIA</td>\n",
       "      <td>114</td>\n",
       "    </tr>\n",
       "    <tr>\n",
       "      <th>149</th>\n",
       "      <td>CICERA</td>\n",
       "      <td>262</td>\n",
       "    </tr>\n",
       "    <tr>\n",
       "      <th>141</th>\n",
       "      <td>NEIDE</td>\n",
       "      <td>236</td>\n",
       "    </tr>\n",
       "    <tr>\n",
       "      <th>174</th>\n",
       "      <td>CLEONICE</td>\n",
       "      <td>44</td>\n",
       "    </tr>\n",
       "  </tbody>\n",
       "</table>\n",
       "</div>"
      ],
      "text/plain": [
       "         name  student_id\n",
       "118     VANIA         289\n",
       "16      JULIA         114\n",
       "149    CICERA         262\n",
       "141     NEIDE         236\n",
       "174  CLEONICE          44"
      ]
     },
     "execution_count": 58,
     "metadata": {},
     "output_type": "execute_result"
    }
   ],
   "source": [
    "list_names.sample(5)"
   ]
  },
  {
   "cell_type": "markdown",
   "id": "a125281e",
   "metadata": {},
   "source": [
    "### INCLUDING STUDENT DOMAIN AND EMAIL "
   ]
  },
  {
   "cell_type": "markdown",
   "id": "c0a4dc06",
   "metadata": {},
   "source": [
    "Let's create domains that can be used for students and at the same time, let's think about creating a domain that will be used for students' email."
   ]
  },
  {
   "cell_type": "code",
   "execution_count": 64,
   "id": "fa724d74",
   "metadata": {},
   "outputs": [],
   "source": [
    "domains = ['@domainemail.com', '@serviceemail.com']"
   ]
  },
  {
   "cell_type": "code",
   "execution_count": 66,
   "id": "7cd6e4d2",
   "metadata": {},
   "outputs": [],
   "source": [
    "list_names['domains'] = np.random.choice(domains,total_student)"
   ]
  },
  {
   "cell_type": "code",
   "execution_count": 67,
   "id": "97ef9a43",
   "metadata": {},
   "outputs": [
    {
     "data": {
      "text/html": [
       "<div>\n",
       "<style scoped>\n",
       "    .dataframe tbody tr th:only-of-type {\n",
       "        vertical-align: middle;\n",
       "    }\n",
       "\n",
       "    .dataframe tbody tr th {\n",
       "        vertical-align: top;\n",
       "    }\n",
       "\n",
       "    .dataframe thead th {\n",
       "        text-align: right;\n",
       "    }\n",
       "</style>\n",
       "<table border=\"1\" class=\"dataframe\">\n",
       "  <thead>\n",
       "    <tr style=\"text-align: right;\">\n",
       "      <th></th>\n",
       "      <th>name</th>\n",
       "      <th>student_id</th>\n",
       "      <th>domains</th>\n",
       "    </tr>\n",
       "  </thead>\n",
       "  <tbody>\n",
       "    <tr>\n",
       "      <th>122</th>\n",
       "      <td>CINTIA</td>\n",
       "      <td>299</td>\n",
       "      <td>@serviceemail.com</td>\n",
       "    </tr>\n",
       "    <tr>\n",
       "      <th>161</th>\n",
       "      <td>RAIANE</td>\n",
       "      <td>134</td>\n",
       "      <td>@domainemail.com</td>\n",
       "    </tr>\n",
       "    <tr>\n",
       "      <th>80</th>\n",
       "      <td>TAIS</td>\n",
       "      <td>99</td>\n",
       "      <td>@domainemail.com</td>\n",
       "    </tr>\n",
       "    <tr>\n",
       "      <th>156</th>\n",
       "      <td>YASMIN</td>\n",
       "      <td>331</td>\n",
       "      <td>@serviceemail.com</td>\n",
       "    </tr>\n",
       "    <tr>\n",
       "      <th>116</th>\n",
       "      <td>MARCELA</td>\n",
       "      <td>7</td>\n",
       "      <td>@serviceemail.com</td>\n",
       "    </tr>\n",
       "  </tbody>\n",
       "</table>\n",
       "</div>"
      ],
      "text/plain": [
       "        name  student_id            domains\n",
       "122   CINTIA         299  @serviceemail.com\n",
       "161   RAIANE         134   @domainemail.com\n",
       "80      TAIS          99   @domainemail.com\n",
       "156   YASMIN         331  @serviceemail.com\n",
       "116  MARCELA           7  @serviceemail.com"
      ]
     },
     "execution_count": 67,
     "metadata": {},
     "output_type": "execute_result"
    }
   ],
   "source": [
    "list_names.sample(5)"
   ]
  },
  {
   "cell_type": "markdown",
   "id": "873ce6a2",
   "metadata": {},
   "source": [
    "Now let's use the created domains to automatically generate an email with the students' names."
   ]
  },
  {
   "cell_type": "code",
   "execution_count": 68,
   "id": "1676d27b",
   "metadata": {},
   "outputs": [],
   "source": [
    "list_names['email'] = list_names.name.str.cat(list_names.domains).str.lower()"
   ]
  },
  {
   "cell_type": "code",
   "execution_count": 70,
   "id": "fdef8970",
   "metadata": {},
   "outputs": [
    {
     "data": {
      "text/html": [
       "<div>\n",
       "<style scoped>\n",
       "    .dataframe tbody tr th:only-of-type {\n",
       "        vertical-align: middle;\n",
       "    }\n",
       "\n",
       "    .dataframe tbody tr th {\n",
       "        vertical-align: top;\n",
       "    }\n",
       "\n",
       "    .dataframe thead th {\n",
       "        text-align: right;\n",
       "    }\n",
       "</style>\n",
       "<table border=\"1\" class=\"dataframe\">\n",
       "  <thead>\n",
       "    <tr style=\"text-align: right;\">\n",
       "      <th></th>\n",
       "      <th>name</th>\n",
       "      <th>student_id</th>\n",
       "      <th>domains</th>\n",
       "      <th>email</th>\n",
       "    </tr>\n",
       "  </thead>\n",
       "  <tbody>\n",
       "    <tr>\n",
       "      <th>0</th>\n",
       "      <td>MARIA</td>\n",
       "      <td>379</td>\n",
       "      <td>@serviceemail.com</td>\n",
       "      <td>maria@serviceemail.com</td>\n",
       "    </tr>\n",
       "    <tr>\n",
       "      <th>1</th>\n",
       "      <td>ANA</td>\n",
       "      <td>176</td>\n",
       "      <td>@serviceemail.com</td>\n",
       "      <td>ana@serviceemail.com</td>\n",
       "    </tr>\n",
       "    <tr>\n",
       "      <th>2</th>\n",
       "      <td>FRANCISCA</td>\n",
       "      <td>397</td>\n",
       "      <td>@domainemail.com</td>\n",
       "      <td>francisca@domainemail.com</td>\n",
       "    </tr>\n",
       "    <tr>\n",
       "      <th>3</th>\n",
       "      <td>ANTONIA</td>\n",
       "      <td>214</td>\n",
       "      <td>@domainemail.com</td>\n",
       "      <td>antonia@domainemail.com</td>\n",
       "    </tr>\n",
       "    <tr>\n",
       "      <th>4</th>\n",
       "      <td>ADRIANA</td>\n",
       "      <td>111</td>\n",
       "      <td>@serviceemail.com</td>\n",
       "      <td>adriana@serviceemail.com</td>\n",
       "    </tr>\n",
       "    <tr>\n",
       "      <th>5</th>\n",
       "      <td>JULIANA</td>\n",
       "      <td>302</td>\n",
       "      <td>@domainemail.com</td>\n",
       "      <td>juliana@domainemail.com</td>\n",
       "    </tr>\n",
       "    <tr>\n",
       "      <th>6</th>\n",
       "      <td>MARCIA</td>\n",
       "      <td>251</td>\n",
       "      <td>@serviceemail.com</td>\n",
       "      <td>marcia@serviceemail.com</td>\n",
       "    </tr>\n",
       "    <tr>\n",
       "      <th>7</th>\n",
       "      <td>FERNANDA</td>\n",
       "      <td>382</td>\n",
       "      <td>@serviceemail.com</td>\n",
       "      <td>fernanda@serviceemail.com</td>\n",
       "    </tr>\n",
       "    <tr>\n",
       "      <th>8</th>\n",
       "      <td>PATRICIA</td>\n",
       "      <td>221</td>\n",
       "      <td>@domainemail.com</td>\n",
       "      <td>patricia@domainemail.com</td>\n",
       "    </tr>\n",
       "    <tr>\n",
       "      <th>9</th>\n",
       "      <td>ALINE</td>\n",
       "      <td>136</td>\n",
       "      <td>@serviceemail.com</td>\n",
       "      <td>aline@serviceemail.com</td>\n",
       "    </tr>\n",
       "  </tbody>\n",
       "</table>\n",
       "</div>"
      ],
      "text/plain": [
       "        name  student_id            domains                      email\n",
       "0      MARIA         379  @serviceemail.com     maria@serviceemail.com\n",
       "1        ANA         176  @serviceemail.com       ana@serviceemail.com\n",
       "2  FRANCISCA         397   @domainemail.com  francisca@domainemail.com\n",
       "3    ANTONIA         214   @domainemail.com    antonia@domainemail.com\n",
       "4    ADRIANA         111  @serviceemail.com   adriana@serviceemail.com\n",
       "5    JULIANA         302   @domainemail.com    juliana@domainemail.com\n",
       "6     MARCIA         251  @serviceemail.com    marcia@serviceemail.com\n",
       "7   FERNANDA         382  @serviceemail.com  fernanda@serviceemail.com\n",
       "8   PATRICIA         221   @domainemail.com   patricia@domainemail.com\n",
       "9      ALINE         136  @serviceemail.com     aline@serviceemail.com"
      ]
     },
     "execution_count": 70,
     "metadata": {},
     "output_type": "execute_result"
    }
   ],
   "source": [
    "list_names.head(10)"
   ]
  },
  {
   "cell_type": "code",
   "execution_count": null,
   "id": "c72575d8",
   "metadata": {},
   "outputs": [],
   "source": []
  }
 ],
 "metadata": {
  "kernelspec": {
   "display_name": "Python 3 (ipykernel)",
   "language": "python",
   "name": "python3"
  },
  "language_info": {
   "codemirror_mode": {
    "name": "ipython",
    "version": 3
   },
   "file_extension": ".py",
   "mimetype": "text/x-python",
   "name": "python",
   "nbconvert_exporter": "python",
   "pygments_lexer": "ipython3",
   "version": "3.9.13"
  }
 },
 "nbformat": 4,
 "nbformat_minor": 5
}
