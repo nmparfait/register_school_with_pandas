{
 "cells": [
  {
   "cell_type": "markdown",
   "id": "4c0e008d",
   "metadata": {},
   "source": [
    "# PROGRAMMING SCHOOL WITH PANDAS"
   ]
  },
  {
   "cell_type": "markdown",
   "id": "9a1c2695",
   "metadata": {},
   "source": [
    "### Reading datas "
   ]
  },
  {
   "cell_type": "code",
   "execution_count": 1,
   "id": "6f9527bc",
   "metadata": {},
   "outputs": [],
   "source": [
    "import pandas as pd "
   ]
  },
  {
   "cell_type": "code",
   "execution_count": 2,
   "id": "c1f09a16",
   "metadata": {},
   "outputs": [],
   "source": [
    "name_f = pd.read_json('https://guilhermeonrails.github.io/nomes_ibge/nomes-f.json')\n",
    "name_m = pd.read_json('https://guilhermeonrails.github.io/nomes_ibge/nomes-m.json')"
   ]
  },
  {
   "cell_type": "code",
   "execution_count": 3,
   "id": "b356a34c",
   "metadata": {},
   "outputs": [],
   "source": [
    "name_f =name_f.rename(columns={'nome':'name', 'regiao':'region', 'freq':'freq', 'rank':'rank', 'sexo':'sex'})\n",
    "name_m =name_f.rename(columns={'nome':'name', 'regiao':'region', 'freq':'freq', 'rank':'rank', 'sexo':'sex'})\n"
   ]
  },
  {
   "cell_type": "code",
   "execution_count": 4,
   "id": "0da4d257",
   "metadata": {},
   "outputs": [
    {
     "data": {
      "text/html": [
       "<div>\n",
       "<style scoped>\n",
       "    .dataframe tbody tr th:only-of-type {\n",
       "        vertical-align: middle;\n",
       "    }\n",
       "\n",
       "    .dataframe tbody tr th {\n",
       "        vertical-align: top;\n",
       "    }\n",
       "\n",
       "    .dataframe thead th {\n",
       "        text-align: right;\n",
       "    }\n",
       "</style>\n",
       "<table border=\"1\" class=\"dataframe\">\n",
       "  <thead>\n",
       "    <tr style=\"text-align: right;\">\n",
       "      <th></th>\n",
       "      <th>name</th>\n",
       "      <th>region</th>\n",
       "      <th>freq</th>\n",
       "      <th>rank</th>\n",
       "      <th>sex</th>\n",
       "    </tr>\n",
       "  </thead>\n",
       "  <tbody>\n",
       "    <tr>\n",
       "      <th>0</th>\n",
       "      <td>MARIA</td>\n",
       "      <td>0</td>\n",
       "      <td>11694738</td>\n",
       "      <td>1</td>\n",
       "      <td>F</td>\n",
       "    </tr>\n",
       "    <tr>\n",
       "      <th>1</th>\n",
       "      <td>ANA</td>\n",
       "      <td>0</td>\n",
       "      <td>3079729</td>\n",
       "      <td>2</td>\n",
       "      <td>F</td>\n",
       "    </tr>\n",
       "    <tr>\n",
       "      <th>2</th>\n",
       "      <td>FRANCISCA</td>\n",
       "      <td>0</td>\n",
       "      <td>721637</td>\n",
       "      <td>3</td>\n",
       "      <td>F</td>\n",
       "    </tr>\n",
       "    <tr>\n",
       "      <th>3</th>\n",
       "      <td>ANTONIA</td>\n",
       "      <td>0</td>\n",
       "      <td>588783</td>\n",
       "      <td>4</td>\n",
       "      <td>F</td>\n",
       "    </tr>\n",
       "    <tr>\n",
       "      <th>4</th>\n",
       "      <td>ADRIANA</td>\n",
       "      <td>0</td>\n",
       "      <td>565621</td>\n",
       "      <td>5</td>\n",
       "      <td>F</td>\n",
       "    </tr>\n",
       "  </tbody>\n",
       "</table>\n",
       "</div>"
      ],
      "text/plain": [
       "        name  region      freq  rank sex\n",
       "0      MARIA       0  11694738     1   F\n",
       "1        ANA       0   3079729     2   F\n",
       "2  FRANCISCA       0    721637     3   F\n",
       "3    ANTONIA       0    588783     4   F\n",
       "4    ADRIANA       0    565621     5   F"
      ]
     },
     "execution_count": 4,
     "metadata": {},
     "output_type": "execute_result"
    }
   ],
   "source": [
    "name_f.head()"
   ]
  },
  {
   "cell_type": "code",
   "execution_count": 5,
   "id": "a1c80028",
   "metadata": {},
   "outputs": [
    {
     "data": {
      "text/html": [
       "<div>\n",
       "<style scoped>\n",
       "    .dataframe tbody tr th:only-of-type {\n",
       "        vertical-align: middle;\n",
       "    }\n",
       "\n",
       "    .dataframe tbody tr th {\n",
       "        vertical-align: top;\n",
       "    }\n",
       "\n",
       "    .dataframe thead th {\n",
       "        text-align: right;\n",
       "    }\n",
       "</style>\n",
       "<table border=\"1\" class=\"dataframe\">\n",
       "  <thead>\n",
       "    <tr style=\"text-align: right;\">\n",
       "      <th></th>\n",
       "      <th>name</th>\n",
       "      <th>region</th>\n",
       "      <th>freq</th>\n",
       "      <th>rank</th>\n",
       "      <th>sex</th>\n",
       "    </tr>\n",
       "  </thead>\n",
       "  <tbody>\n",
       "    <tr>\n",
       "      <th>0</th>\n",
       "      <td>MARIA</td>\n",
       "      <td>0</td>\n",
       "      <td>11694738</td>\n",
       "      <td>1</td>\n",
       "      <td>F</td>\n",
       "    </tr>\n",
       "    <tr>\n",
       "      <th>1</th>\n",
       "      <td>ANA</td>\n",
       "      <td>0</td>\n",
       "      <td>3079729</td>\n",
       "      <td>2</td>\n",
       "      <td>F</td>\n",
       "    </tr>\n",
       "    <tr>\n",
       "      <th>2</th>\n",
       "      <td>FRANCISCA</td>\n",
       "      <td>0</td>\n",
       "      <td>721637</td>\n",
       "      <td>3</td>\n",
       "      <td>F</td>\n",
       "    </tr>\n",
       "    <tr>\n",
       "      <th>3</th>\n",
       "      <td>ANTONIA</td>\n",
       "      <td>0</td>\n",
       "      <td>588783</td>\n",
       "      <td>4</td>\n",
       "      <td>F</td>\n",
       "    </tr>\n",
       "    <tr>\n",
       "      <th>4</th>\n",
       "      <td>ADRIANA</td>\n",
       "      <td>0</td>\n",
       "      <td>565621</td>\n",
       "      <td>5</td>\n",
       "      <td>F</td>\n",
       "    </tr>\n",
       "  </tbody>\n",
       "</table>\n",
       "</div>"
      ],
      "text/plain": [
       "        name  region      freq  rank sex\n",
       "0      MARIA       0  11694738     1   F\n",
       "1        ANA       0   3079729     2   F\n",
       "2  FRANCISCA       0    721637     3   F\n",
       "3    ANTONIA       0    588783     4   F\n",
       "4    ADRIANA       0    565621     5   F"
      ]
     },
     "execution_count": 5,
     "metadata": {},
     "output_type": "execute_result"
    }
   ],
   "source": [
    "name_m.head()"
   ]
  },
  {
   "cell_type": "markdown",
   "id": "f7ffe14c",
   "metadata": {},
   "source": [
    "### Sample in pandas\n",
    "\n",
    "To perform random sampling. The number of samples to extract can be expressed in two alternative ways: specify the exact number of random rows to extract.\n",
    "Returns a random sample row from the DataFrame."
   ]
  },
  {
   "cell_type": "code",
   "execution_count": 6,
   "id": "ae562b2c",
   "metadata": {},
   "outputs": [
    {
     "data": {
      "text/html": [
       "<div>\n",
       "<style scoped>\n",
       "    .dataframe tbody tr th:only-of-type {\n",
       "        vertical-align: middle;\n",
       "    }\n",
       "\n",
       "    .dataframe tbody tr th {\n",
       "        vertical-align: top;\n",
       "    }\n",
       "\n",
       "    .dataframe thead th {\n",
       "        text-align: right;\n",
       "    }\n",
       "</style>\n",
       "<table border=\"1\" class=\"dataframe\">\n",
       "  <thead>\n",
       "    <tr style=\"text-align: right;\">\n",
       "      <th></th>\n",
       "      <th>name</th>\n",
       "      <th>region</th>\n",
       "      <th>freq</th>\n",
       "      <th>rank</th>\n",
       "      <th>sex</th>\n",
       "    </tr>\n",
       "  </thead>\n",
       "  <tbody>\n",
       "    <tr>\n",
       "      <th>142</th>\n",
       "      <td>RAISSA</td>\n",
       "      <td>0</td>\n",
       "      <td>113146</td>\n",
       "      <td>143</td>\n",
       "      <td>F</td>\n",
       "    </tr>\n",
       "    <tr>\n",
       "      <th>138</th>\n",
       "      <td>NEUSA</td>\n",
       "      <td>0</td>\n",
       "      <td>114846</td>\n",
       "      <td>139</td>\n",
       "      <td>F</td>\n",
       "    </tr>\n",
       "    <tr>\n",
       "      <th>192</th>\n",
       "      <td>ZILDA</td>\n",
       "      <td>0</td>\n",
       "      <td>82927</td>\n",
       "      <td>193</td>\n",
       "      <td>F</td>\n",
       "    </tr>\n",
       "    <tr>\n",
       "      <th>108</th>\n",
       "      <td>VILMA</td>\n",
       "      <td>0</td>\n",
       "      <td>145167</td>\n",
       "      <td>109</td>\n",
       "      <td>F</td>\n",
       "    </tr>\n",
       "    <tr>\n",
       "      <th>123</th>\n",
       "      <td>IVONE</td>\n",
       "      <td>0</td>\n",
       "      <td>131256</td>\n",
       "      <td>124</td>\n",
       "      <td>F</td>\n",
       "    </tr>\n",
       "  </tbody>\n",
       "</table>\n",
       "</div>"
      ],
      "text/plain": [
       "       name  region    freq  rank sex\n",
       "142  RAISSA       0  113146   143   F\n",
       "138   NEUSA       0  114846   139   F\n",
       "192   ZILDA       0   82927   193   F\n",
       "108   VILMA       0  145167   109   F\n",
       "123   IVONE       0  131256   124   F"
      ]
     },
     "execution_count": 6,
     "metadata": {},
     "output_type": "execute_result"
    }
   ],
   "source": [
    "name_m.sample(5)"
   ]
  },
  {
   "cell_type": "code",
   "execution_count": 7,
   "id": "7687b50a",
   "metadata": {},
   "outputs": [
    {
     "name": "stdout",
     "output_type": "stream",
     "text": [
      "Number of Names:400\n"
     ]
    }
   ],
   "source": [
    "print('Number of Names:' + str(len(name_f) + len(name_m)))"
   ]
  },
  {
   "cell_type": "markdown",
   "id": "42444919",
   "metadata": {},
   "source": [
    "Now we want to merge these two sets into a single dataframe containing the names of all students in the school. For this, we will create a variable frames that will receive a list containing our information."
   ]
  },
  {
   "cell_type": "code",
   "execution_count": 8,
   "id": "b2c2e016",
   "metadata": {},
   "outputs": [
    {
     "data": {
      "text/plain": [
       "[          name  region      freq  rank sex\n",
       " 0        MARIA       0  11694738     1   F\n",
       " 1          ANA       0   3079729     2   F\n",
       " 2    FRANCISCA       0    721637     3   F\n",
       " 3      ANTONIA       0    588783     4   F\n",
       " 4      ADRIANA       0    565621     5   F\n",
       " ..         ...     ...       ...   ...  ..\n",
       " 195     ROSANE       0     82203   196   F\n",
       " 196    IVONETE       0     81878   197   F\n",
       " 197    LUCIANE       0     81230   198   F\n",
       " 198    ISADORA       0     81100   199   F\n",
       " 199      NILZA       0     80128   200   F\n",
       " \n",
       " [200 rows x 5 columns],\n",
       "           name  region      freq  rank sex\n",
       " 0        MARIA       0  11694738     1   F\n",
       " 1          ANA       0   3079729     2   F\n",
       " 2    FRANCISCA       0    721637     3   F\n",
       " 3      ANTONIA       0    588783     4   F\n",
       " 4      ADRIANA       0    565621     5   F\n",
       " ..         ...     ...       ...   ...  ..\n",
       " 195     ROSANE       0     82203   196   F\n",
       " 196    IVONETE       0     81878   197   F\n",
       " 197    LUCIANE       0     81230   198   F\n",
       " 198    ISADORA       0     81100   199   F\n",
       " 199      NILZA       0     80128   200   F\n",
       " \n",
       " [200 rows x 5 columns]]"
      ]
     },
     "execution_count": 8,
     "metadata": {},
     "output_type": "execute_result"
    }
   ],
   "source": [
    "frames = [name_f, name_m]\n",
    "frames"
   ]
  },
  {
   "cell_type": "code",
   "execution_count": 9,
   "id": "236c20a8",
   "metadata": {},
   "outputs": [
    {
     "data": {
      "text/plain": [
       "[          name  region      freq  rank sex\n",
       " 0        MARIA       0  11694738     1   F\n",
       " 1          ANA       0   3079729     2   F\n",
       " 2    FRANCISCA       0    721637     3   F\n",
       " 3      ANTONIA       0    588783     4   F\n",
       " 4      ADRIANA       0    565621     5   F\n",
       " ..         ...     ...       ...   ...  ..\n",
       " 195     ROSANE       0     82203   196   F\n",
       " 196    IVONETE       0     81878   197   F\n",
       " 197    LUCIANE       0     81230   198   F\n",
       " 198    ISADORA       0     81100   199   F\n",
       " 199      NILZA       0     80128   200   F\n",
       " \n",
       " [200 rows x 5 columns],\n",
       "           name  region      freq  rank sex\n",
       " 0        MARIA       0  11694738     1   F\n",
       " 1          ANA       0   3079729     2   F\n",
       " 2    FRANCISCA       0    721637     3   F\n",
       " 3      ANTONIA       0    588783     4   F\n",
       " 4      ADRIANA       0    565621     5   F\n",
       " ..         ...     ...       ...   ...  ..\n",
       " 195     ROSANE       0     82203   196   F\n",
       " 196    IVONETE       0     81878   197   F\n",
       " 197    LUCIANE       0     81230   198   F\n",
       " 198    ISADORA       0     81100   199   F\n",
       " 199      NILZA       0     80128   200   F\n",
       " \n",
       " [200 rows x 5 columns]]"
      ]
     },
     "execution_count": 9,
     "metadata": {},
     "output_type": "execute_result"
    }
   ],
   "source": [
    "frames"
   ]
  },
  {
   "cell_type": "markdown",
   "id": "fca9bd31",
   "metadata": {},
   "source": [
    "### concat in pandas\n",
    "In the pd.concat() function, it is possible to specify which columns we want to concatenate, in this case just the name. At the end, we will use the to_frame() function to transform the resulting set into a dataframe."
   ]
  },
  {
   "cell_type": "code",
   "execution_count": 10,
   "id": "e0491d27",
   "metadata": {},
   "outputs": [
    {
     "data": {
      "text/html": [
       "<div>\n",
       "<style scoped>\n",
       "    .dataframe tbody tr th:only-of-type {\n",
       "        vertical-align: middle;\n",
       "    }\n",
       "\n",
       "    .dataframe tbody tr th {\n",
       "        vertical-align: top;\n",
       "    }\n",
       "\n",
       "    .dataframe thead th {\n",
       "        text-align: right;\n",
       "    }\n",
       "</style>\n",
       "<table border=\"1\" class=\"dataframe\">\n",
       "  <thead>\n",
       "    <tr style=\"text-align: right;\">\n",
       "      <th></th>\n",
       "      <th>name</th>\n",
       "    </tr>\n",
       "  </thead>\n",
       "  <tbody>\n",
       "    <tr>\n",
       "      <th>0</th>\n",
       "      <td>MARIA</td>\n",
       "    </tr>\n",
       "    <tr>\n",
       "      <th>1</th>\n",
       "      <td>ANA</td>\n",
       "    </tr>\n",
       "    <tr>\n",
       "      <th>2</th>\n",
       "      <td>FRANCISCA</td>\n",
       "    </tr>\n",
       "    <tr>\n",
       "      <th>3</th>\n",
       "      <td>ANTONIA</td>\n",
       "    </tr>\n",
       "    <tr>\n",
       "      <th>4</th>\n",
       "      <td>ADRIANA</td>\n",
       "    </tr>\n",
       "    <tr>\n",
       "      <th>...</th>\n",
       "      <td>...</td>\n",
       "    </tr>\n",
       "    <tr>\n",
       "      <th>195</th>\n",
       "      <td>ROSANE</td>\n",
       "    </tr>\n",
       "    <tr>\n",
       "      <th>196</th>\n",
       "      <td>IVONETE</td>\n",
       "    </tr>\n",
       "    <tr>\n",
       "      <th>197</th>\n",
       "      <td>LUCIANE</td>\n",
       "    </tr>\n",
       "    <tr>\n",
       "      <th>198</th>\n",
       "      <td>ISADORA</td>\n",
       "    </tr>\n",
       "    <tr>\n",
       "      <th>199</th>\n",
       "      <td>NILZA</td>\n",
       "    </tr>\n",
       "  </tbody>\n",
       "</table>\n",
       "<p>400 rows × 1 columns</p>\n",
       "</div>"
      ],
      "text/plain": [
       "          name\n",
       "0        MARIA\n",
       "1          ANA\n",
       "2    FRANCISCA\n",
       "3      ANTONIA\n",
       "4      ADRIANA\n",
       "..         ...\n",
       "195     ROSANE\n",
       "196    IVONETE\n",
       "197    LUCIANE\n",
       "198    ISADORA\n",
       "199      NILZA\n",
       "\n",
       "[400 rows x 1 columns]"
      ]
     },
     "execution_count": 10,
     "metadata": {},
     "output_type": "execute_result"
    }
   ],
   "source": [
    "list_names =pd.concat(frames)['name'].to_frame()\n",
    "list_names"
   ]
  },
  {
   "cell_type": "markdown",
   "id": "83bb5312",
   "metadata": {},
   "source": [
    "### INCLUDING STUDENTS ID"
   ]
  },
  {
   "cell_type": "code",
   "execution_count": 11,
   "id": "bc84895f",
   "metadata": {},
   "outputs": [],
   "source": [
    "import numpy as np "
   ]
  },
  {
   "cell_type": "markdown",
   "id": "886a8512",
   "metadata": {},
   "source": [
    "The idea now is to generate an ID for our male and female students, something that we can do randomly using Python's Numpy library, which by convention is nicknamed np.\n"
   ]
  },
  {
   "cell_type": "code",
   "execution_count": 12,
   "id": "251b9554",
   "metadata": {},
   "outputs": [],
   "source": [
    "np.random.seed(123)"
   ]
  },
  {
   "cell_type": "code",
   "execution_count": 13,
   "id": "04f29dee",
   "metadata": {},
   "outputs": [
    {
     "data": {
      "text/plain": [
       "400"
      ]
     },
     "execution_count": 13,
     "metadata": {},
     "output_type": "execute_result"
    }
   ],
   "source": [
    "total_student = len(list_names)\n",
    "total_student"
   ]
  },
  {
   "cell_type": "code",
   "execution_count": 14,
   "id": "2beeedb5",
   "metadata": {},
   "outputs": [],
   "source": [
    "list_names['student_id'] = np.random.permutation(total_student) + 1 "
   ]
  },
  {
   "cell_type": "code",
   "execution_count": 15,
   "id": "ac389033",
   "metadata": {},
   "outputs": [
    {
     "data": {
      "text/html": [
       "<div>\n",
       "<style scoped>\n",
       "    .dataframe tbody tr th:only-of-type {\n",
       "        vertical-align: middle;\n",
       "    }\n",
       "\n",
       "    .dataframe tbody tr th {\n",
       "        vertical-align: top;\n",
       "    }\n",
       "\n",
       "    .dataframe thead th {\n",
       "        text-align: right;\n",
       "    }\n",
       "</style>\n",
       "<table border=\"1\" class=\"dataframe\">\n",
       "  <thead>\n",
       "    <tr style=\"text-align: right;\">\n",
       "      <th></th>\n",
       "      <th>name</th>\n",
       "      <th>student_id</th>\n",
       "    </tr>\n",
       "  </thead>\n",
       "  <tbody>\n",
       "    <tr>\n",
       "      <th>188</th>\n",
       "      <td>POLIANA</td>\n",
       "      <td>369</td>\n",
       "    </tr>\n",
       "    <tr>\n",
       "      <th>57</th>\n",
       "      <td>DAIANE</td>\n",
       "      <td>303</td>\n",
       "    </tr>\n",
       "    <tr>\n",
       "      <th>3</th>\n",
       "      <td>ANTONIA</td>\n",
       "      <td>382</td>\n",
       "    </tr>\n",
       "    <tr>\n",
       "      <th>182</th>\n",
       "      <td>LIDIANE</td>\n",
       "      <td>33</td>\n",
       "    </tr>\n",
       "    <tr>\n",
       "      <th>30</th>\n",
       "      <td>ELIANE</td>\n",
       "      <td>111</td>\n",
       "    </tr>\n",
       "  </tbody>\n",
       "</table>\n",
       "</div>"
      ],
      "text/plain": [
       "        name  student_id\n",
       "188  POLIANA         369\n",
       "57    DAIANE         303\n",
       "3    ANTONIA         382\n",
       "182  LIDIANE          33\n",
       "30    ELIANE         111"
      ]
     },
     "execution_count": 15,
     "metadata": {},
     "output_type": "execute_result"
    }
   ],
   "source": [
    "list_names.sample(5)"
   ]
  },
  {
   "cell_type": "markdown",
   "id": "585b1328",
   "metadata": {},
   "source": [
    "### INCLUDING STUDENT DOMAIN AND EMAIL "
   ]
  },
  {
   "cell_type": "markdown",
   "id": "504e85d9",
   "metadata": {},
   "source": [
    "Let's create domains that can be used for students and at the same time, let's think about creating a domain that will be used for students' email."
   ]
  },
  {
   "cell_type": "code",
   "execution_count": 16,
   "id": "90b59748",
   "metadata": {},
   "outputs": [],
   "source": [
    "domains = ['@domainemail.com', '@serviceemail.com']"
   ]
  },
  {
   "cell_type": "code",
   "execution_count": 17,
   "id": "56bd3af8",
   "metadata": {},
   "outputs": [],
   "source": [
    "list_names['domains'] = np.random.choice(domains,total_student)"
   ]
  },
  {
   "cell_type": "code",
   "execution_count": 18,
   "id": "0bb2aca8",
   "metadata": {},
   "outputs": [
    {
     "data": {
      "text/html": [
       "<div>\n",
       "<style scoped>\n",
       "    .dataframe tbody tr th:only-of-type {\n",
       "        vertical-align: middle;\n",
       "    }\n",
       "\n",
       "    .dataframe tbody tr th {\n",
       "        vertical-align: top;\n",
       "    }\n",
       "\n",
       "    .dataframe thead th {\n",
       "        text-align: right;\n",
       "    }\n",
       "</style>\n",
       "<table border=\"1\" class=\"dataframe\">\n",
       "  <thead>\n",
       "    <tr style=\"text-align: right;\">\n",
       "      <th></th>\n",
       "      <th>name</th>\n",
       "      <th>student_id</th>\n",
       "      <th>domains</th>\n",
       "    </tr>\n",
       "  </thead>\n",
       "  <tbody>\n",
       "    <tr>\n",
       "      <th>84</th>\n",
       "      <td>FATIMA</td>\n",
       "      <td>78</td>\n",
       "      <td>@domainemail.com</td>\n",
       "    </tr>\n",
       "    <tr>\n",
       "      <th>0</th>\n",
       "      <td>MARIA</td>\n",
       "      <td>331</td>\n",
       "      <td>@serviceemail.com</td>\n",
       "    </tr>\n",
       "    <tr>\n",
       "      <th>179</th>\n",
       "      <td>LILIANE</td>\n",
       "      <td>340</td>\n",
       "      <td>@domainemail.com</td>\n",
       "    </tr>\n",
       "    <tr>\n",
       "      <th>10</th>\n",
       "      <td>SANDRA</td>\n",
       "      <td>174</td>\n",
       "      <td>@domainemail.com</td>\n",
       "    </tr>\n",
       "    <tr>\n",
       "      <th>171</th>\n",
       "      <td>TERESINHA</td>\n",
       "      <td>45</td>\n",
       "      <td>@domainemail.com</td>\n",
       "    </tr>\n",
       "  </tbody>\n",
       "</table>\n",
       "</div>"
      ],
      "text/plain": [
       "          name  student_id            domains\n",
       "84      FATIMA          78   @domainemail.com\n",
       "0        MARIA         331  @serviceemail.com\n",
       "179    LILIANE         340   @domainemail.com\n",
       "10      SANDRA         174   @domainemail.com\n",
       "171  TERESINHA          45   @domainemail.com"
      ]
     },
     "execution_count": 18,
     "metadata": {},
     "output_type": "execute_result"
    }
   ],
   "source": [
    "list_names.sample(5)"
   ]
  },
  {
   "cell_type": "markdown",
   "id": "a6f4c739",
   "metadata": {},
   "source": [
    "Now let's use the created domains to automatically generate an email with the students' names."
   ]
  },
  {
   "cell_type": "code",
   "execution_count": 19,
   "id": "a2e71811",
   "metadata": {},
   "outputs": [],
   "source": [
    "list_names['email'] = list_names.name.str.cat(list_names.domains).str.lower()"
   ]
  },
  {
   "cell_type": "code",
   "execution_count": 20,
   "id": "abd57671",
   "metadata": {},
   "outputs": [
    {
     "data": {
      "text/html": [
       "<div>\n",
       "<style scoped>\n",
       "    .dataframe tbody tr th:only-of-type {\n",
       "        vertical-align: middle;\n",
       "    }\n",
       "\n",
       "    .dataframe tbody tr th {\n",
       "        vertical-align: top;\n",
       "    }\n",
       "\n",
       "    .dataframe thead th {\n",
       "        text-align: right;\n",
       "    }\n",
       "</style>\n",
       "<table border=\"1\" class=\"dataframe\">\n",
       "  <thead>\n",
       "    <tr style=\"text-align: right;\">\n",
       "      <th></th>\n",
       "      <th>name</th>\n",
       "      <th>student_id</th>\n",
       "      <th>domains</th>\n",
       "      <th>email</th>\n",
       "    </tr>\n",
       "  </thead>\n",
       "  <tbody>\n",
       "    <tr>\n",
       "      <th>0</th>\n",
       "      <td>MARIA</td>\n",
       "      <td>235</td>\n",
       "      <td>@domainemail.com</td>\n",
       "      <td>maria@domainemail.com</td>\n",
       "    </tr>\n",
       "    <tr>\n",
       "      <th>1</th>\n",
       "      <td>ANA</td>\n",
       "      <td>43</td>\n",
       "      <td>@serviceemail.com</td>\n",
       "      <td>ana@serviceemail.com</td>\n",
       "    </tr>\n",
       "    <tr>\n",
       "      <th>2</th>\n",
       "      <td>FRANCISCA</td>\n",
       "      <td>304</td>\n",
       "      <td>@serviceemail.com</td>\n",
       "      <td>francisca@serviceemail.com</td>\n",
       "    </tr>\n",
       "    <tr>\n",
       "      <th>3</th>\n",
       "      <td>ANTONIA</td>\n",
       "      <td>156</td>\n",
       "      <td>@domainemail.com</td>\n",
       "      <td>antonia@domainemail.com</td>\n",
       "    </tr>\n",
       "    <tr>\n",
       "      <th>4</th>\n",
       "      <td>ADRIANA</td>\n",
       "      <td>343</td>\n",
       "      <td>@serviceemail.com</td>\n",
       "      <td>adriana@serviceemail.com</td>\n",
       "    </tr>\n",
       "    <tr>\n",
       "      <th>5</th>\n",
       "      <td>JULIANA</td>\n",
       "      <td>310</td>\n",
       "      <td>@serviceemail.com</td>\n",
       "      <td>juliana@serviceemail.com</td>\n",
       "    </tr>\n",
       "    <tr>\n",
       "      <th>6</th>\n",
       "      <td>MARCIA</td>\n",
       "      <td>55</td>\n",
       "      <td>@domainemail.com</td>\n",
       "      <td>marcia@domainemail.com</td>\n",
       "    </tr>\n",
       "    <tr>\n",
       "      <th>7</th>\n",
       "      <td>FERNANDA</td>\n",
       "      <td>288</td>\n",
       "      <td>@serviceemail.com</td>\n",
       "      <td>fernanda@serviceemail.com</td>\n",
       "    </tr>\n",
       "    <tr>\n",
       "      <th>8</th>\n",
       "      <td>PATRICIA</td>\n",
       "      <td>379</td>\n",
       "      <td>@serviceemail.com</td>\n",
       "      <td>patricia@serviceemail.com</td>\n",
       "    </tr>\n",
       "    <tr>\n",
       "      <th>9</th>\n",
       "      <td>ALINE</td>\n",
       "      <td>92</td>\n",
       "      <td>@domainemail.com</td>\n",
       "      <td>aline@domainemail.com</td>\n",
       "    </tr>\n",
       "  </tbody>\n",
       "</table>\n",
       "</div>"
      ],
      "text/plain": [
       "        name  student_id            domains                       email\n",
       "0      MARIA         235   @domainemail.com       maria@domainemail.com\n",
       "1        ANA          43  @serviceemail.com        ana@serviceemail.com\n",
       "2  FRANCISCA         304  @serviceemail.com  francisca@serviceemail.com\n",
       "3    ANTONIA         156   @domainemail.com     antonia@domainemail.com\n",
       "4    ADRIANA         343  @serviceemail.com    adriana@serviceemail.com\n",
       "5    JULIANA         310  @serviceemail.com    juliana@serviceemail.com\n",
       "6     MARCIA          55   @domainemail.com      marcia@domainemail.com\n",
       "7   FERNANDA         288  @serviceemail.com   fernanda@serviceemail.com\n",
       "8   PATRICIA         379  @serviceemail.com   patricia@serviceemail.com\n",
       "9      ALINE          92   @domainemail.com       aline@domainemail.com"
      ]
     },
     "execution_count": 20,
     "metadata": {},
     "output_type": "execute_result"
    }
   ],
   "source": [
    "list_names.head(10)"
   ]
  },
  {
   "cell_type": "markdown",
   "id": "2732b3a3",
   "metadata": {},
   "source": [
    "### INCLUIDING STUDENT COURSES"
   ]
  },
  {
   "cell_type": "markdown",
   "id": "904e6ab7",
   "metadata": {},
   "source": [
    "Now let's install some dependencies like html5lib and xml. \n",
    "They are dependencies that we will use to read files in html."
   ]
  },
  {
   "cell_type": "code",
   "execution_count": 21,
   "id": "c21c6ecb",
   "metadata": {},
   "outputs": [
    {
     "name": "stdout",
     "output_type": "stream",
     "text": [
      "Requirement already satisfied: html5lib in c:\\users\\nmp\\anaconda3\\lib\\site-packages (1.1)\n",
      "Requirement already satisfied: six>=1.9 in c:\\users\\nmp\\anaconda3\\lib\\site-packages (from html5lib) (1.16.0)\n",
      "Requirement already satisfied: webencodings in c:\\users\\nmp\\anaconda3\\lib\\site-packages (from html5lib) (0.5.1)\n",
      "Requirement already satisfied: lxml in c:\\users\\nmp\\anaconda3\\lib\\site-packages (4.9.1)\n"
     ]
    }
   ],
   "source": [
    "!pip install html5lib\n",
    "!pip install lxml"
   ]
  },
  {
   "cell_type": "code",
   "execution_count": 22,
   "id": "822d1579",
   "metadata": {},
   "outputs": [],
   "source": [
    "import html5lib"
   ]
  },
  {
   "cell_type": "code",
   "execution_count": 23,
   "id": "6f8a25f8",
   "metadata": {},
   "outputs": [],
   "source": [
    "#url = 'http://tabela-cursos.herokuapp.com/'\n",
    "#courses = pd.read_html(url)\n",
    "#courses"
   ]
  },
  {
   "cell_type": "markdown",
   "id": "dfd48523",
   "metadata": {},
   "source": [
    "As the html link is not working, we thought it best to create a new txt file to see how it would work"
   ]
  },
  {
   "cell_type": "code",
   "execution_count": 24,
   "id": "9afcea06",
   "metadata": {
    "scrolled": true
   },
   "outputs": [],
   "source": [
    "courses = pd.read_csv('list_courses.txt', sep=',', \n",
    "                      names=['number_id', 'course_name'])"
   ]
  },
  {
   "cell_type": "code",
   "execution_count": 25,
   "id": "664e51b3",
   "metadata": {},
   "outputs": [
    {
     "data": {
      "text/plain": [
       "pandas.core.frame.DataFrame"
      ]
     },
     "execution_count": 25,
     "metadata": {},
     "output_type": "execute_result"
    }
   ],
   "source": [
    "type(courses)"
   ]
  },
  {
   "cell_type": "code",
   "execution_count": 26,
   "id": "c9aeb691",
   "metadata": {},
   "outputs": [
    {
     "data": {
      "text/plain": [
       "0                programming logic\n",
       "1                     Java for Web\n",
       "2                       C# for Web\n",
       "3                    Ruby on Rails\n",
       "4                   Python Courses\n",
       "5                   PHP with MySql\n",
       "6                     .NET for web\n",
       "7       New integrations with Java\n",
       "8                    TDD with Java\n",
       "9               Clean code with C#\n",
       "10         Java Certification Prep\n",
       "11                  Basic hardware\n",
       "12           Persistence with .NET\n",
       "13                Developing games\n",
       "14                   Data analysis\n",
       "15                basic statistics\n",
       "16              Internet of Things\n",
       "17          Functional programming\n",
       "18          Best practices in Java\n",
       "19    Object Orientation with Java\n",
       "Name: course_name, dtype: object"
      ]
     },
     "execution_count": 26,
     "metadata": {},
     "output_type": "execute_result"
    }
   ],
   "source": [
    "# we can see the list of course_name\n",
    "courses.course_name"
   ]
  },
  {
   "cell_type": "markdown",
   "id": "6246cbe0",
   "metadata": {},
   "source": [
    "We want to get the index starting by 1 instead of 0"
   ]
  },
  {
   "cell_type": "code",
   "execution_count": 27,
   "id": "cfdab64a",
   "metadata": {},
   "outputs": [
    {
     "data": {
      "text/html": [
       "<div>\n",
       "<style scoped>\n",
       "    .dataframe tbody tr th:only-of-type {\n",
       "        vertical-align: middle;\n",
       "    }\n",
       "\n",
       "    .dataframe tbody tr th {\n",
       "        vertical-align: top;\n",
       "    }\n",
       "\n",
       "    .dataframe thead th {\n",
       "        text-align: right;\n",
       "    }\n",
       "</style>\n",
       "<table border=\"1\" class=\"dataframe\">\n",
       "  <thead>\n",
       "    <tr style=\"text-align: right;\">\n",
       "      <th></th>\n",
       "      <th>number_id</th>\n",
       "      <th>course_name</th>\n",
       "    </tr>\n",
       "  </thead>\n",
       "  <tbody>\n",
       "    <tr>\n",
       "      <th>0</th>\n",
       "      <td>0</td>\n",
       "      <td>programming logic</td>\n",
       "    </tr>\n",
       "    <tr>\n",
       "      <th>1</th>\n",
       "      <td>1</td>\n",
       "      <td>Java for Web</td>\n",
       "    </tr>\n",
       "    <tr>\n",
       "      <th>2</th>\n",
       "      <td>2</td>\n",
       "      <td>C# for Web</td>\n",
       "    </tr>\n",
       "    <tr>\n",
       "      <th>3</th>\n",
       "      <td>3</td>\n",
       "      <td>Ruby on Rails</td>\n",
       "    </tr>\n",
       "    <tr>\n",
       "      <th>4</th>\n",
       "      <td>4</td>\n",
       "      <td>Python Courses</td>\n",
       "    </tr>\n",
       "  </tbody>\n",
       "</table>\n",
       "</div>"
      ],
      "text/plain": [
       "   number_id        course_name\n",
       "0          0  programming logic\n",
       "1          1       Java for Web\n",
       "2          2         C# for Web\n",
       "3          3      Ruby on Rails\n",
       "4          4     Python Courses"
      ]
     },
     "execution_count": 27,
     "metadata": {},
     "output_type": "execute_result"
    }
   ],
   "source": [
    "courses.head()"
   ]
  },
  {
   "cell_type": "code",
   "execution_count": 28,
   "id": "4bfad22f",
   "metadata": {},
   "outputs": [
    {
     "data": {
      "text/html": [
       "<div>\n",
       "<style scoped>\n",
       "    .dataframe tbody tr th:only-of-type {\n",
       "        vertical-align: middle;\n",
       "    }\n",
       "\n",
       "    .dataframe tbody tr th {\n",
       "        vertical-align: top;\n",
       "    }\n",
       "\n",
       "    .dataframe thead th {\n",
       "        text-align: right;\n",
       "    }\n",
       "</style>\n",
       "<table border=\"1\" class=\"dataframe\">\n",
       "  <thead>\n",
       "    <tr style=\"text-align: right;\">\n",
       "      <th></th>\n",
       "      <th>course_name</th>\n",
       "    </tr>\n",
       "    <tr>\n",
       "      <th>number_id</th>\n",
       "      <th></th>\n",
       "    </tr>\n",
       "  </thead>\n",
       "  <tbody>\n",
       "    <tr>\n",
       "      <th>0</th>\n",
       "      <td>programming logic</td>\n",
       "    </tr>\n",
       "    <tr>\n",
       "      <th>1</th>\n",
       "      <td>Java for Web</td>\n",
       "    </tr>\n",
       "    <tr>\n",
       "      <th>2</th>\n",
       "      <td>C# for Web</td>\n",
       "    </tr>\n",
       "    <tr>\n",
       "      <th>3</th>\n",
       "      <td>Ruby on Rails</td>\n",
       "    </tr>\n",
       "    <tr>\n",
       "      <th>4</th>\n",
       "      <td>Python Courses</td>\n",
       "    </tr>\n",
       "    <tr>\n",
       "      <th>5</th>\n",
       "      <td>PHP with MySql</td>\n",
       "    </tr>\n",
       "    <tr>\n",
       "      <th>6</th>\n",
       "      <td>.NET for web</td>\n",
       "    </tr>\n",
       "    <tr>\n",
       "      <th>7</th>\n",
       "      <td>New integrations with Java</td>\n",
       "    </tr>\n",
       "    <tr>\n",
       "      <th>8</th>\n",
       "      <td>TDD with Java</td>\n",
       "    </tr>\n",
       "    <tr>\n",
       "      <th>9</th>\n",
       "      <td>Clean code with C#</td>\n",
       "    </tr>\n",
       "    <tr>\n",
       "      <th>10</th>\n",
       "      <td>Java Certification Prep</td>\n",
       "    </tr>\n",
       "    <tr>\n",
       "      <th>11</th>\n",
       "      <td>Basic hardware</td>\n",
       "    </tr>\n",
       "    <tr>\n",
       "      <th>12</th>\n",
       "      <td>Persistence with .NET</td>\n",
       "    </tr>\n",
       "    <tr>\n",
       "      <th>13</th>\n",
       "      <td>Developing games</td>\n",
       "    </tr>\n",
       "    <tr>\n",
       "      <th>14</th>\n",
       "      <td>Data analysis</td>\n",
       "    </tr>\n",
       "    <tr>\n",
       "      <th>15</th>\n",
       "      <td>basic statistics</td>\n",
       "    </tr>\n",
       "    <tr>\n",
       "      <th>16</th>\n",
       "      <td>Internet of Things</td>\n",
       "    </tr>\n",
       "    <tr>\n",
       "      <th>17</th>\n",
       "      <td>Functional programming</td>\n",
       "    </tr>\n",
       "    <tr>\n",
       "      <th>18</th>\n",
       "      <td>Best practices in Java</td>\n",
       "    </tr>\n",
       "    <tr>\n",
       "      <th>19</th>\n",
       "      <td>Object Orientation with Java</td>\n",
       "    </tr>\n",
       "  </tbody>\n",
       "</table>\n",
       "</div>"
      ],
      "text/plain": [
       "                            course_name\n",
       "number_id                              \n",
       "0                     programming logic\n",
       "1                          Java for Web\n",
       "2                            C# for Web\n",
       "3                         Ruby on Rails\n",
       "4                        Python Courses\n",
       "5                        PHP with MySql\n",
       "6                          .NET for web\n",
       "7            New integrations with Java\n",
       "8                         TDD with Java\n",
       "9                    Clean code with C#\n",
       "10              Java Certification Prep\n",
       "11                       Basic hardware\n",
       "12                Persistence with .NET\n",
       "13                     Developing games\n",
       "14                        Data analysis\n",
       "15                     basic statistics\n",
       "16                   Internet of Things\n",
       "17               Functional programming\n",
       "18               Best practices in Java\n",
       "19         Object Orientation with Java"
      ]
     },
     "execution_count": 28,
     "metadata": {},
     "output_type": "execute_result"
    }
   ],
   "source": [
    "courses.set_index('number_id')"
   ]
  },
  {
   "cell_type": "code",
   "execution_count": 29,
   "id": "4cd2e3a1",
   "metadata": {},
   "outputs": [
    {
     "data": {
      "text/plain": [
       "0                programming logic\n",
       "1                     Java for Web\n",
       "2                       C# for Web\n",
       "3                    Ruby on Rails\n",
       "4                   Python Courses\n",
       "5                   PHP with MySql\n",
       "6                     .NET for web\n",
       "7       New integrations with Java\n",
       "8                    TDD with Java\n",
       "9               Clean code with C#\n",
       "10         Java Certification Prep\n",
       "11                  Basic hardware\n",
       "12           Persistence with .NET\n",
       "13                Developing games\n",
       "14                   Data analysis\n",
       "15                basic statistics\n",
       "16              Internet of Things\n",
       "17          Functional programming\n",
       "18          Best practices in Java\n",
       "19    Object Orientation with Java\n",
       "Name: course_name, dtype: object"
      ]
     },
     "execution_count": 29,
     "metadata": {},
     "output_type": "execute_result"
    }
   ],
   "source": [
    "courses.course_name"
   ]
  },
  {
   "cell_type": "code",
   "execution_count": 30,
   "id": "04dfc5e4",
   "metadata": {},
   "outputs": [],
   "source": [
    "courses['number_id'] = courses.index + 1"
   ]
  },
  {
   "cell_type": "code",
   "execution_count": 31,
   "id": "dd9cf1da",
   "metadata": {},
   "outputs": [
    {
     "data": {
      "text/html": [
       "<div>\n",
       "<style scoped>\n",
       "    .dataframe tbody tr th:only-of-type {\n",
       "        vertical-align: middle;\n",
       "    }\n",
       "\n",
       "    .dataframe tbody tr th {\n",
       "        vertical-align: top;\n",
       "    }\n",
       "\n",
       "    .dataframe thead th {\n",
       "        text-align: right;\n",
       "    }\n",
       "</style>\n",
       "<table border=\"1\" class=\"dataframe\">\n",
       "  <thead>\n",
       "    <tr style=\"text-align: right;\">\n",
       "      <th></th>\n",
       "      <th>course_name</th>\n",
       "    </tr>\n",
       "    <tr>\n",
       "      <th>number_id</th>\n",
       "      <th></th>\n",
       "    </tr>\n",
       "  </thead>\n",
       "  <tbody>\n",
       "    <tr>\n",
       "      <th>1</th>\n",
       "      <td>programming logic</td>\n",
       "    </tr>\n",
       "    <tr>\n",
       "      <th>2</th>\n",
       "      <td>Java for Web</td>\n",
       "    </tr>\n",
       "    <tr>\n",
       "      <th>3</th>\n",
       "      <td>C# for Web</td>\n",
       "    </tr>\n",
       "    <tr>\n",
       "      <th>4</th>\n",
       "      <td>Ruby on Rails</td>\n",
       "    </tr>\n",
       "    <tr>\n",
       "      <th>5</th>\n",
       "      <td>Python Courses</td>\n",
       "    </tr>\n",
       "    <tr>\n",
       "      <th>6</th>\n",
       "      <td>PHP with MySql</td>\n",
       "    </tr>\n",
       "    <tr>\n",
       "      <th>7</th>\n",
       "      <td>.NET for web</td>\n",
       "    </tr>\n",
       "    <tr>\n",
       "      <th>8</th>\n",
       "      <td>New integrations with Java</td>\n",
       "    </tr>\n",
       "    <tr>\n",
       "      <th>9</th>\n",
       "      <td>TDD with Java</td>\n",
       "    </tr>\n",
       "    <tr>\n",
       "      <th>10</th>\n",
       "      <td>Clean code with C#</td>\n",
       "    </tr>\n",
       "    <tr>\n",
       "      <th>11</th>\n",
       "      <td>Java Certification Prep</td>\n",
       "    </tr>\n",
       "    <tr>\n",
       "      <th>12</th>\n",
       "      <td>Basic hardware</td>\n",
       "    </tr>\n",
       "    <tr>\n",
       "      <th>13</th>\n",
       "      <td>Persistence with .NET</td>\n",
       "    </tr>\n",
       "    <tr>\n",
       "      <th>14</th>\n",
       "      <td>Developing games</td>\n",
       "    </tr>\n",
       "    <tr>\n",
       "      <th>15</th>\n",
       "      <td>Data analysis</td>\n",
       "    </tr>\n",
       "    <tr>\n",
       "      <th>16</th>\n",
       "      <td>basic statistics</td>\n",
       "    </tr>\n",
       "    <tr>\n",
       "      <th>17</th>\n",
       "      <td>Internet of Things</td>\n",
       "    </tr>\n",
       "    <tr>\n",
       "      <th>18</th>\n",
       "      <td>Functional programming</td>\n",
       "    </tr>\n",
       "    <tr>\n",
       "      <th>19</th>\n",
       "      <td>Best practices in Java</td>\n",
       "    </tr>\n",
       "    <tr>\n",
       "      <th>20</th>\n",
       "      <td>Object Orientation with Java</td>\n",
       "    </tr>\n",
       "  </tbody>\n",
       "</table>\n",
       "</div>"
      ],
      "text/plain": [
       "                            course_name\n",
       "number_id                              \n",
       "1                     programming logic\n",
       "2                          Java for Web\n",
       "3                            C# for Web\n",
       "4                         Ruby on Rails\n",
       "5                        Python Courses\n",
       "6                        PHP with MySql\n",
       "7                          .NET for web\n",
       "8            New integrations with Java\n",
       "9                         TDD with Java\n",
       "10                   Clean code with C#\n",
       "11              Java Certification Prep\n",
       "12                       Basic hardware\n",
       "13                Persistence with .NET\n",
       "14                     Developing games\n",
       "15                        Data analysis\n",
       "16                     basic statistics\n",
       "17                   Internet of Things\n",
       "18               Functional programming\n",
       "19               Best practices in Java\n",
       "20         Object Orientation with Java"
      ]
     },
     "execution_count": 31,
     "metadata": {},
     "output_type": "execute_result"
    }
   ],
   "source": [
    "courses = courses.set_index('number_id')\n",
    "courses"
   ]
  },
  {
   "cell_type": "code",
   "execution_count": 32,
   "id": "c7fd4b8a",
   "metadata": {},
   "outputs": [
    {
     "data": {
      "text/html": [
       "<div>\n",
       "<style scoped>\n",
       "    .dataframe tbody tr th:only-of-type {\n",
       "        vertical-align: middle;\n",
       "    }\n",
       "\n",
       "    .dataframe tbody tr th {\n",
       "        vertical-align: top;\n",
       "    }\n",
       "\n",
       "    .dataframe thead th {\n",
       "        text-align: right;\n",
       "    }\n",
       "</style>\n",
       "<table border=\"1\" class=\"dataframe\">\n",
       "  <thead>\n",
       "    <tr style=\"text-align: right;\">\n",
       "      <th></th>\n",
       "      <th>course_name</th>\n",
       "    </tr>\n",
       "    <tr>\n",
       "      <th>number_id</th>\n",
       "      <th></th>\n",
       "    </tr>\n",
       "  </thead>\n",
       "  <tbody>\n",
       "    <tr>\n",
       "      <th>1</th>\n",
       "      <td>programming logic</td>\n",
       "    </tr>\n",
       "    <tr>\n",
       "      <th>2</th>\n",
       "      <td>Java for Web</td>\n",
       "    </tr>\n",
       "    <tr>\n",
       "      <th>3</th>\n",
       "      <td>C# for Web</td>\n",
       "    </tr>\n",
       "    <tr>\n",
       "      <th>4</th>\n",
       "      <td>Ruby on Rails</td>\n",
       "    </tr>\n",
       "    <tr>\n",
       "      <th>5</th>\n",
       "      <td>Python Courses</td>\n",
       "    </tr>\n",
       "    <tr>\n",
       "      <th>6</th>\n",
       "      <td>PHP with MySql</td>\n",
       "    </tr>\n",
       "    <tr>\n",
       "      <th>7</th>\n",
       "      <td>.NET for web</td>\n",
       "    </tr>\n",
       "    <tr>\n",
       "      <th>8</th>\n",
       "      <td>New integrations with Java</td>\n",
       "    </tr>\n",
       "    <tr>\n",
       "      <th>9</th>\n",
       "      <td>TDD with Java</td>\n",
       "    </tr>\n",
       "    <tr>\n",
       "      <th>10</th>\n",
       "      <td>Clean code with C#</td>\n",
       "    </tr>\n",
       "    <tr>\n",
       "      <th>11</th>\n",
       "      <td>Java Certification Prep</td>\n",
       "    </tr>\n",
       "    <tr>\n",
       "      <th>12</th>\n",
       "      <td>Basic hardware</td>\n",
       "    </tr>\n",
       "    <tr>\n",
       "      <th>13</th>\n",
       "      <td>Persistence with .NET</td>\n",
       "    </tr>\n",
       "    <tr>\n",
       "      <th>14</th>\n",
       "      <td>Developing games</td>\n",
       "    </tr>\n",
       "    <tr>\n",
       "      <th>15</th>\n",
       "      <td>Data analysis</td>\n",
       "    </tr>\n",
       "    <tr>\n",
       "      <th>16</th>\n",
       "      <td>basic statistics</td>\n",
       "    </tr>\n",
       "    <tr>\n",
       "      <th>17</th>\n",
       "      <td>Internet of Things</td>\n",
       "    </tr>\n",
       "    <tr>\n",
       "      <th>18</th>\n",
       "      <td>Functional programming</td>\n",
       "    </tr>\n",
       "    <tr>\n",
       "      <th>19</th>\n",
       "      <td>Best practices in Java</td>\n",
       "    </tr>\n",
       "    <tr>\n",
       "      <th>20</th>\n",
       "      <td>Object Orientation with Java</td>\n",
       "    </tr>\n",
       "  </tbody>\n",
       "</table>\n",
       "</div>"
      ],
      "text/plain": [
       "                            course_name\n",
       "number_id                              \n",
       "1                     programming logic\n",
       "2                          Java for Web\n",
       "3                            C# for Web\n",
       "4                         Ruby on Rails\n",
       "5                        Python Courses\n",
       "6                        PHP with MySql\n",
       "7                          .NET for web\n",
       "8            New integrations with Java\n",
       "9                         TDD with Java\n",
       "10                   Clean code with C#\n",
       "11              Java Certification Prep\n",
       "12                       Basic hardware\n",
       "13                Persistence with .NET\n",
       "14                     Developing games\n",
       "15                        Data analysis\n",
       "16                     basic statistics\n",
       "17                   Internet of Things\n",
       "18               Functional programming\n",
       "19               Best practices in Java\n",
       "20         Object Orientation with Java"
      ]
     },
     "execution_count": 32,
     "metadata": {},
     "output_type": "execute_result"
    }
   ],
   "source": [
    "courses"
   ]
  },
  {
   "cell_type": "markdown",
   "id": "925b10d6",
   "metadata": {},
   "source": [
    "### ENROLL STUDENTS IN COURSES "
   ]
  },
  {
   "cell_type": "code",
   "execution_count": 33,
   "id": "30233a70",
   "metadata": {},
   "outputs": [
    {
     "data": {
      "text/html": [
       "<div>\n",
       "<style scoped>\n",
       "    .dataframe tbody tr th:only-of-type {\n",
       "        vertical-align: middle;\n",
       "    }\n",
       "\n",
       "    .dataframe tbody tr th {\n",
       "        vertical-align: top;\n",
       "    }\n",
       "\n",
       "    .dataframe thead th {\n",
       "        text-align: right;\n",
       "    }\n",
       "</style>\n",
       "<table border=\"1\" class=\"dataframe\">\n",
       "  <thead>\n",
       "    <tr style=\"text-align: right;\">\n",
       "      <th></th>\n",
       "      <th>name</th>\n",
       "      <th>student_id</th>\n",
       "      <th>domains</th>\n",
       "      <th>email</th>\n",
       "    </tr>\n",
       "  </thead>\n",
       "  <tbody>\n",
       "    <tr>\n",
       "      <th>114</th>\n",
       "      <td>ELZA</td>\n",
       "      <td>320</td>\n",
       "      <td>@domainemail.com</td>\n",
       "      <td>elza@domainemail.com</td>\n",
       "    </tr>\n",
       "    <tr>\n",
       "      <th>57</th>\n",
       "      <td>DAIANE</td>\n",
       "      <td>303</td>\n",
       "      <td>@serviceemail.com</td>\n",
       "      <td>daiane@serviceemail.com</td>\n",
       "    </tr>\n",
       "    <tr>\n",
       "      <th>85</th>\n",
       "      <td>HELENA</td>\n",
       "      <td>221</td>\n",
       "      <td>@domainemail.com</td>\n",
       "      <td>helena@domainemail.com</td>\n",
       "    </tr>\n",
       "    <tr>\n",
       "      <th>183</th>\n",
       "      <td>IRACI</td>\n",
       "      <td>8</td>\n",
       "      <td>@domainemail.com</td>\n",
       "      <td>iraci@domainemail.com</td>\n",
       "    </tr>\n",
       "    <tr>\n",
       "      <th>189</th>\n",
       "      <td>DALVA</td>\n",
       "      <td>137</td>\n",
       "      <td>@domainemail.com</td>\n",
       "      <td>dalva@domainemail.com</td>\n",
       "    </tr>\n",
       "  </tbody>\n",
       "</table>\n",
       "</div>"
      ],
      "text/plain": [
       "       name  student_id            domains                    email\n",
       "114    ELZA         320   @domainemail.com     elza@domainemail.com\n",
       "57   DAIANE         303  @serviceemail.com  daiane@serviceemail.com\n",
       "85   HELENA         221   @domainemail.com   helena@domainemail.com\n",
       "183   IRACI           8   @domainemail.com    iraci@domainemail.com\n",
       "189   DALVA         137   @domainemail.com    dalva@domainemail.com"
      ]
     },
     "execution_count": 33,
     "metadata": {},
     "output_type": "execute_result"
    }
   ],
   "source": [
    "list_names.sample(5)"
   ]
  },
  {
   "cell_type": "code",
   "execution_count": 34,
   "id": "260df75a",
   "metadata": {},
   "outputs": [],
   "source": [
    "list_names['registration'] = np.ceil(np.random.exponential(size= total_student)\n",
    "                                     * 1.5).astype(int)"
   ]
  },
  {
   "cell_type": "code",
   "execution_count": 35,
   "id": "b9236fd1",
   "metadata": {},
   "outputs": [
    {
     "data": {
      "text/plain": [
       "pandas.core.frame.DataFrame"
      ]
     },
     "execution_count": 35,
     "metadata": {},
     "output_type": "execute_result"
    }
   ],
   "source": [
    "type(list_names)"
   ]
  },
  {
   "cell_type": "markdown",
   "id": "89cb52dd",
   "metadata": {},
   "source": [
    "Let's now know how the courses are being distributed among the students."
   ]
  },
  {
   "cell_type": "code",
   "execution_count": 36,
   "id": "89538fd9",
   "metadata": {},
   "outputs": [
    {
     "data": {
      "text/plain": [
       "count    400.000000\n",
       "mean       2.135000\n",
       "std        1.515757\n",
       "min        1.000000\n",
       "25%        1.000000\n",
       "50%        2.000000\n",
       "75%        3.000000\n",
       "max       12.000000\n",
       "Name: registration, dtype: float64"
      ]
     },
     "execution_count": 36,
     "metadata": {},
     "output_type": "execute_result"
    }
   ],
   "source": [
    "list_names.registration.describe()"
   ]
  },
  {
   "cell_type": "markdown",
   "id": "55d6a3a8",
   "metadata": {},
   "source": [
    "We want to see graphically how the courses are distributed between"
   ]
  },
  {
   "cell_type": "code",
   "execution_count": 37,
   "id": "fb487690",
   "metadata": {},
   "outputs": [],
   "source": [
    "import seaborn as sns"
   ]
  },
  {
   "cell_type": "code",
   "execution_count": 38,
   "id": "ababa30f",
   "metadata": {},
   "outputs": [
    {
     "name": "stderr",
     "output_type": "stream",
     "text": [
      "C:\\Users\\NMP\\anaconda3\\lib\\site-packages\\seaborn\\distributions.py:2619: FutureWarning: `distplot` is a deprecated function and will be removed in a future version. Please adapt your code to use either `displot` (a figure-level function with similar flexibility) or `histplot` (an axes-level function for histograms).\n",
      "  warnings.warn(msg, FutureWarning)\n"
     ]
    },
    {
     "data": {
      "text/plain": [
       "<AxesSubplot:xlabel='registration', ylabel='Density'>"
      ]
     },
     "execution_count": 38,
     "metadata": {},
     "output_type": "execute_result"
    },
    {
     "data": {
      "image/png": "[encoded data removed]",
      "text/plain": [
       "<Figure size 640x480 with 1 Axes>"
      ]
     },
     "metadata": {},
     "output_type": "display_data"
    }
   ],
   "source": [
    "sns.distplot(list_names.registration)"
   ]
  },
  {
   "cell_type": "markdown",
   "id": "99d9bb5d",
   "metadata": {},
   "source": [
    "As we expected, we have many students enrolled in one course, fewer enrolled in 2, even fewer in 3, and so on. We will move on to a visualization of the exact number of students with each number of enrollments, which we will get from the value_counts() function"
   ]
  },
  {
   "cell_type": "code",
   "execution_count": 39,
   "id": "07e1a342",
   "metadata": {},
   "outputs": [
    {
     "data": {
      "text/plain": [
       "1     184\n",
       "2      97\n",
       "3      56\n",
       "4      34\n",
       "5      19\n",
       "6       5\n",
       "12      2\n",
       "8       2\n",
       "7       1\n",
       "Name: registration, dtype: int64"
      ]
     },
     "execution_count": 39,
     "metadata": {},
     "output_type": "execute_result"
    }
   ],
   "source": [
    "list_names.registration.value_counts()"
   ]
  },
  {
   "cell_type": "markdown",
   "id": "6389a424",
   "metadata": {},
   "source": [
    "### SELECTING THE COURSES "
   ]
  },
  {
   "cell_type": "code",
   "execution_count": 40,
   "id": "2cee18ef",
   "metadata": {},
   "outputs": [
    {
     "data": {
      "text/html": [
       "<div>\n",
       "<style scoped>\n",
       "    .dataframe tbody tr th:only-of-type {\n",
       "        vertical-align: middle;\n",
       "    }\n",
       "\n",
       "    .dataframe tbody tr th {\n",
       "        vertical-align: top;\n",
       "    }\n",
       "\n",
       "    .dataframe thead th {\n",
       "        text-align: right;\n",
       "    }\n",
       "</style>\n",
       "<table border=\"1\" class=\"dataframe\">\n",
       "  <thead>\n",
       "    <tr style=\"text-align: right;\">\n",
       "      <th></th>\n",
       "      <th>name</th>\n",
       "      <th>student_id</th>\n",
       "      <th>domains</th>\n",
       "      <th>email</th>\n",
       "      <th>registration</th>\n",
       "    </tr>\n",
       "  </thead>\n",
       "  <tbody>\n",
       "    <tr>\n",
       "      <th>105</th>\n",
       "      <td>MILENA</td>\n",
       "      <td>371</td>\n",
       "      <td>@domainemail.com</td>\n",
       "      <td>milena@domainemail.com</td>\n",
       "      <td>2</td>\n",
       "    </tr>\n",
       "    <tr>\n",
       "      <th>183</th>\n",
       "      <td>IRACI</td>\n",
       "      <td>8</td>\n",
       "      <td>@domainemail.com</td>\n",
       "      <td>iraci@domainemail.com</td>\n",
       "      <td>1</td>\n",
       "    </tr>\n",
       "    <tr>\n",
       "      <th>10</th>\n",
       "      <td>SANDRA</td>\n",
       "      <td>125</td>\n",
       "      <td>@domainemail.com</td>\n",
       "      <td>sandra@domainemail.com</td>\n",
       "      <td>2</td>\n",
       "    </tr>\n",
       "  </tbody>\n",
       "</table>\n",
       "</div>"
      ],
      "text/plain": [
       "       name  student_id           domains                   email  \\\n",
       "105  MILENA         371  @domainemail.com  milena@domainemail.com   \n",
       "183   IRACI           8  @domainemail.com   iraci@domainemail.com   \n",
       "10   SANDRA         125  @domainemail.com  sandra@domainemail.com   \n",
       "\n",
       "     registration  \n",
       "105             2  \n",
       "183             1  \n",
       "10              2  "
      ]
     },
     "execution_count": 40,
     "metadata": {},
     "output_type": "execute_result"
    }
   ],
   "source": [
    "list_names.sample(3)"
   ]
  },
  {
   "cell_type": "markdown",
   "id": "c40b4a5e",
   "metadata": {},
   "source": [
    "To make this distribution, we will create three variables. The first one is all_registration, which will be initialized as an empty array. Next, we will create a variable x that will be called np.random.rand(20, a way to randomly calculate the 20 courses we have in the dataframe. Finally, we will have a variable prob (of probability) that will receive the division of x by sum(x) (the sum of x)."
   ]
  },
  {
   "cell_type": "code",
   "execution_count": 41,
   "id": "55ac994c",
   "metadata": {},
   "outputs": [],
   "source": [
    "all_registration = []\n",
    "x = np.random.rand(20)\n",
    "prob = x / sum(x)"
   ]
  },
  {
   "cell_type": "code",
   "execution_count": 42,
   "id": "c53c9cc9",
   "metadata": {},
   "outputs": [],
   "source": [
    "for index, row in list_names.iterrows():\n",
    "    id = row.student_id\n",
    "    registration = row.registration\n",
    "    for i in range(registration):\n",
    "        regist = [id, np.random.choice(courses.index, p = prob)]\n",
    "        all_registration.append(regist)\n",
    "\n",
    "registration = pd.DataFrame(all_registration, \n",
    "                            columns= ['student_id', 'course_id'])"
   ]
  },
  {
   "cell_type": "code",
   "execution_count": 43,
   "id": "faeab531",
   "metadata": {},
   "outputs": [
    {
     "data": {
      "text/html": [
       "<div>\n",
       "<style scoped>\n",
       "    .dataframe tbody tr th:only-of-type {\n",
       "        vertical-align: middle;\n",
       "    }\n",
       "\n",
       "    .dataframe tbody tr th {\n",
       "        vertical-align: top;\n",
       "    }\n",
       "\n",
       "    .dataframe thead th {\n",
       "        text-align: right;\n",
       "    }\n",
       "</style>\n",
       "<table border=\"1\" class=\"dataframe\">\n",
       "  <thead>\n",
       "    <tr style=\"text-align: right;\">\n",
       "      <th></th>\n",
       "      <th>student_id</th>\n",
       "      <th>course_id</th>\n",
       "    </tr>\n",
       "  </thead>\n",
       "  <tbody>\n",
       "    <tr>\n",
       "      <th>0</th>\n",
       "      <td>235</td>\n",
       "      <td>8</td>\n",
       "    </tr>\n",
       "    <tr>\n",
       "      <th>1</th>\n",
       "      <td>43</td>\n",
       "      <td>6</td>\n",
       "    </tr>\n",
       "    <tr>\n",
       "      <th>2</th>\n",
       "      <td>304</td>\n",
       "      <td>7</td>\n",
       "    </tr>\n",
       "    <tr>\n",
       "      <th>3</th>\n",
       "      <td>304</td>\n",
       "      <td>18</td>\n",
       "    </tr>\n",
       "    <tr>\n",
       "      <th>4</th>\n",
       "      <td>304</td>\n",
       "      <td>11</td>\n",
       "    </tr>\n",
       "  </tbody>\n",
       "</table>\n",
       "</div>"
      ],
      "text/plain": [
       "   student_id  course_id\n",
       "0         235          8\n",
       "1          43          6\n",
       "2         304          7\n",
       "3         304         18\n",
       "4         304         11"
      ]
     },
     "execution_count": 43,
     "metadata": {},
     "output_type": "execute_result"
    }
   ],
   "source": [
    "registration.head()"
   ]
  },
  {
   "cell_type": "code",
   "execution_count": 44,
   "id": "3f5fb914",
   "metadata": {},
   "outputs": [
    {
     "data": {
      "text/html": [
       "<div>\n",
       "<style scoped>\n",
       "    .dataframe tbody tr th:only-of-type {\n",
       "        vertical-align: middle;\n",
       "    }\n",
       "\n",
       "    .dataframe tbody tr th {\n",
       "        vertical-align: top;\n",
       "    }\n",
       "\n",
       "    .dataframe thead th {\n",
       "        text-align: right;\n",
       "    }\n",
       "</style>\n",
       "<table border=\"1\" class=\"dataframe\">\n",
       "  <thead>\n",
       "    <tr style=\"text-align: right;\">\n",
       "      <th></th>\n",
       "      <th>course_name</th>\n",
       "    </tr>\n",
       "    <tr>\n",
       "      <th>number_id</th>\n",
       "      <th></th>\n",
       "    </tr>\n",
       "  </thead>\n",
       "  <tbody>\n",
       "    <tr>\n",
       "      <th>1</th>\n",
       "      <td>programming logic</td>\n",
       "    </tr>\n",
       "    <tr>\n",
       "      <th>2</th>\n",
       "      <td>Java for Web</td>\n",
       "    </tr>\n",
       "    <tr>\n",
       "      <th>3</th>\n",
       "      <td>C# for Web</td>\n",
       "    </tr>\n",
       "    <tr>\n",
       "      <th>4</th>\n",
       "      <td>Ruby on Rails</td>\n",
       "    </tr>\n",
       "    <tr>\n",
       "      <th>5</th>\n",
       "      <td>Python Courses</td>\n",
       "    </tr>\n",
       "  </tbody>\n",
       "</table>\n",
       "</div>"
      ],
      "text/plain": [
       "                 course_name\n",
       "number_id                   \n",
       "1          programming logic\n",
       "2               Java for Web\n",
       "3                 C# for Web\n",
       "4              Ruby on Rails\n",
       "5             Python Courses"
      ]
     },
     "execution_count": 44,
     "metadata": {},
     "output_type": "execute_result"
    }
   ],
   "source": [
    "courses.head()"
   ]
  },
  {
   "cell_type": "code",
   "execution_count": 53,
   "id": "ba58faf0",
   "metadata": {},
   "outputs": [],
   "source": [
    "all_registered = registration.groupby('course_id').count().join(courses['course_name']).rename(columns={'student_id':'student_quantity'})"
   ]
  },
  {
   "cell_type": "code",
   "execution_count": 54,
   "id": "55041c69",
   "metadata": {},
   "outputs": [
    {
     "data": {
      "text/html": [
       "<div>\n",
       "<style scoped>\n",
       "    .dataframe tbody tr th:only-of-type {\n",
       "        vertical-align: middle;\n",
       "    }\n",
       "\n",
       "    .dataframe tbody tr th {\n",
       "        vertical-align: top;\n",
       "    }\n",
       "\n",
       "    .dataframe thead th {\n",
       "        text-align: right;\n",
       "    }\n",
       "</style>\n",
       "<table border=\"1\" class=\"dataframe\">\n",
       "  <thead>\n",
       "    <tr style=\"text-align: right;\">\n",
       "      <th></th>\n",
       "      <th>student_quantity</th>\n",
       "      <th>course_name</th>\n",
       "    </tr>\n",
       "    <tr>\n",
       "      <th>course_id</th>\n",
       "      <th></th>\n",
       "      <th></th>\n",
       "    </tr>\n",
       "  </thead>\n",
       "  <tbody>\n",
       "    <tr>\n",
       "      <th>1</th>\n",
       "      <td>24</td>\n",
       "      <td>programming logic</td>\n",
       "    </tr>\n",
       "    <tr>\n",
       "      <th>2</th>\n",
       "      <td>52</td>\n",
       "      <td>Java for Web</td>\n",
       "    </tr>\n",
       "    <tr>\n",
       "      <th>3</th>\n",
       "      <td>54</td>\n",
       "      <td>C# for Web</td>\n",
       "    </tr>\n",
       "    <tr>\n",
       "      <th>4</th>\n",
       "      <td>51</td>\n",
       "      <td>Ruby on Rails</td>\n",
       "    </tr>\n",
       "    <tr>\n",
       "      <th>5</th>\n",
       "      <td>3</td>\n",
       "      <td>Python Courses</td>\n",
       "    </tr>\n",
       "    <tr>\n",
       "      <th>6</th>\n",
       "      <td>32</td>\n",
       "      <td>PHP with MySql</td>\n",
       "    </tr>\n",
       "    <tr>\n",
       "      <th>7</th>\n",
       "      <td>56</td>\n",
       "      <td>.NET for web</td>\n",
       "    </tr>\n",
       "    <tr>\n",
       "      <th>8</th>\n",
       "      <td>42</td>\n",
       "      <td>New integrations with Java</td>\n",
       "    </tr>\n",
       "    <tr>\n",
       "      <th>9</th>\n",
       "      <td>60</td>\n",
       "      <td>TDD with Java</td>\n",
       "    </tr>\n",
       "    <tr>\n",
       "      <th>10</th>\n",
       "      <td>68</td>\n",
       "      <td>Clean code with C#</td>\n",
       "    </tr>\n",
       "    <tr>\n",
       "      <th>11</th>\n",
       "      <td>78</td>\n",
       "      <td>Java Certification Prep</td>\n",
       "    </tr>\n",
       "    <tr>\n",
       "      <th>12</th>\n",
       "      <td>21</td>\n",
       "      <td>Basic hardware</td>\n",
       "    </tr>\n",
       "    <tr>\n",
       "      <th>13</th>\n",
       "      <td>21</td>\n",
       "      <td>Persistence with .NET</td>\n",
       "    </tr>\n",
       "    <tr>\n",
       "      <th>14</th>\n",
       "      <td>18</td>\n",
       "      <td>Developing games</td>\n",
       "    </tr>\n",
       "    <tr>\n",
       "      <th>15</th>\n",
       "      <td>57</td>\n",
       "      <td>Data analysis</td>\n",
       "    </tr>\n",
       "    <tr>\n",
       "      <th>16</th>\n",
       "      <td>24</td>\n",
       "      <td>basic statistics</td>\n",
       "    </tr>\n",
       "    <tr>\n",
       "      <th>17</th>\n",
       "      <td>71</td>\n",
       "      <td>Internet of Things</td>\n",
       "    </tr>\n",
       "    <tr>\n",
       "      <th>18</th>\n",
       "      <td>60</td>\n",
       "      <td>Functional programming</td>\n",
       "    </tr>\n",
       "    <tr>\n",
       "      <th>19</th>\n",
       "      <td>6</td>\n",
       "      <td>Best practices in Java</td>\n",
       "    </tr>\n",
       "    <tr>\n",
       "      <th>20</th>\n",
       "      <td>56</td>\n",
       "      <td>Object Orientation with Java</td>\n",
       "    </tr>\n",
       "  </tbody>\n",
       "</table>\n",
       "</div>"
      ],
      "text/plain": [
       "           student_quantity                   course_name\n",
       "course_id                                                \n",
       "1                        24             programming logic\n",
       "2                        52                  Java for Web\n",
       "3                        54                    C# for Web\n",
       "4                        51                 Ruby on Rails\n",
       "5                         3                Python Courses\n",
       "6                        32                PHP with MySql\n",
       "7                        56                  .NET for web\n",
       "8                        42    New integrations with Java\n",
       "9                        60                 TDD with Java\n",
       "10                       68            Clean code with C#\n",
       "11                       78       Java Certification Prep\n",
       "12                       21                Basic hardware\n",
       "13                       21         Persistence with .NET\n",
       "14                       18              Developing games\n",
       "15                       57                 Data analysis\n",
       "16                       24              basic statistics\n",
       "17                       71            Internet of Things\n",
       "18                       60        Functional programming\n",
       "19                        6        Best practices in Java\n",
       "20                       56  Object Orientation with Java"
      ]
     },
     "execution_count": 54,
     "metadata": {},
     "output_type": "execute_result"
    }
   ],
   "source": [
    "all_registered"
   ]
  },
  {
   "cell_type": "markdown",
   "id": "b5641d60",
   "metadata": {},
   "source": [
    "### SAVING DATAFRAMES IN DIFFERENTS FORMATS"
   ]
  },
  {
   "cell_type": "code",
   "execution_count": 47,
   "id": "28723a55",
   "metadata": {},
   "outputs": [
    {
     "data": {
      "text/html": [
       "<div>\n",
       "<style scoped>\n",
       "    .dataframe tbody tr th:only-of-type {\n",
       "        vertical-align: middle;\n",
       "    }\n",
       "\n",
       "    .dataframe tbody tr th {\n",
       "        vertical-align: top;\n",
       "    }\n",
       "\n",
       "    .dataframe thead th {\n",
       "        text-align: right;\n",
       "    }\n",
       "</style>\n",
       "<table border=\"1\" class=\"dataframe\">\n",
       "  <thead>\n",
       "    <tr style=\"text-align: right;\">\n",
       "      <th></th>\n",
       "      <th>student_id</th>\n",
       "      <th>course_id</th>\n",
       "    </tr>\n",
       "  </thead>\n",
       "  <tbody>\n",
       "    <tr>\n",
       "      <th>0</th>\n",
       "      <td>235</td>\n",
       "      <td>8</td>\n",
       "    </tr>\n",
       "    <tr>\n",
       "      <th>1</th>\n",
       "      <td>43</td>\n",
       "      <td>6</td>\n",
       "    </tr>\n",
       "    <tr>\n",
       "      <th>2</th>\n",
       "      <td>304</td>\n",
       "      <td>7</td>\n",
       "    </tr>\n",
       "  </tbody>\n",
       "</table>\n",
       "</div>"
      ],
      "text/plain": [
       "   student_id  course_id\n",
       "0         235          8\n",
       "1          43          6\n",
       "2         304          7"
      ]
     },
     "execution_count": 47,
     "metadata": {},
     "output_type": "execute_result"
    }
   ],
   "source": [
    "registration.head(3)"
   ]
  },
  {
   "cell_type": "markdown",
   "id": "c57d0caf",
   "metadata": {},
   "source": [
    "#### Saving in csv format"
   ]
  },
  {
   "cell_type": "code",
   "execution_count": 50,
   "id": "d2487126",
   "metadata": {},
   "outputs": [],
   "source": [
    "registration.to_csv('registration_saving_in_csv.csv', index=False)"
   ]
  },
  {
   "cell_type": "code",
   "execution_count": 51,
   "id": "6ace666d",
   "metadata": {},
   "outputs": [
    {
     "data": {
      "text/html": [
       "<div>\n",
       "<style scoped>\n",
       "    .dataframe tbody tr th:only-of-type {\n",
       "        vertical-align: middle;\n",
       "    }\n",
       "\n",
       "    .dataframe tbody tr th {\n",
       "        vertical-align: top;\n",
       "    }\n",
       "\n",
       "    .dataframe thead th {\n",
       "        text-align: right;\n",
       "    }\n",
       "</style>\n",
       "<table border=\"1\" class=\"dataframe\">\n",
       "  <thead>\n",
       "    <tr style=\"text-align: right;\">\n",
       "      <th></th>\n",
       "      <th>student_id</th>\n",
       "      <th>course_id</th>\n",
       "    </tr>\n",
       "  </thead>\n",
       "  <tbody>\n",
       "    <tr>\n",
       "      <th>0</th>\n",
       "      <td>235</td>\n",
       "      <td>8</td>\n",
       "    </tr>\n",
       "    <tr>\n",
       "      <th>1</th>\n",
       "      <td>43</td>\n",
       "      <td>6</td>\n",
       "    </tr>\n",
       "    <tr>\n",
       "      <th>2</th>\n",
       "      <td>304</td>\n",
       "      <td>7</td>\n",
       "    </tr>\n",
       "    <tr>\n",
       "      <th>3</th>\n",
       "      <td>304</td>\n",
       "      <td>18</td>\n",
       "    </tr>\n",
       "    <tr>\n",
       "      <th>4</th>\n",
       "      <td>304</td>\n",
       "      <td>11</td>\n",
       "    </tr>\n",
       "    <tr>\n",
       "      <th>...</th>\n",
       "      <td>...</td>\n",
       "      <td>...</td>\n",
       "    </tr>\n",
       "    <tr>\n",
       "      <th>849</th>\n",
       "      <td>323</td>\n",
       "      <td>15</td>\n",
       "    </tr>\n",
       "    <tr>\n",
       "      <th>850</th>\n",
       "      <td>323</td>\n",
       "      <td>9</td>\n",
       "    </tr>\n",
       "    <tr>\n",
       "      <th>851</th>\n",
       "      <td>383</td>\n",
       "      <td>7</td>\n",
       "    </tr>\n",
       "    <tr>\n",
       "      <th>852</th>\n",
       "      <td>366</td>\n",
       "      <td>7</td>\n",
       "    </tr>\n",
       "    <tr>\n",
       "      <th>853</th>\n",
       "      <td>366</td>\n",
       "      <td>19</td>\n",
       "    </tr>\n",
       "  </tbody>\n",
       "</table>\n",
       "<p>854 rows × 2 columns</p>\n",
       "</div>"
      ],
      "text/plain": [
       "     student_id  course_id\n",
       "0           235          8\n",
       "1            43          6\n",
       "2           304          7\n",
       "3           304         18\n",
       "4           304         11\n",
       "..          ...        ...\n",
       "849         323         15\n",
       "850         323          9\n",
       "851         383          7\n",
       "852         366          7\n",
       "853         366         19\n",
       "\n",
       "[854 rows x 2 columns]"
      ]
     },
     "execution_count": 51,
     "metadata": {},
     "output_type": "execute_result"
    }
   ],
   "source": [
    "pd.read_csv('registration_saving_in_csv.csv')"
   ]
  },
  {
   "cell_type": "code",
   "execution_count": 56,
   "id": "562d5ccd",
   "metadata": {},
   "outputs": [],
   "source": [
    "all_registered.to_csv('all_registration.csv', index=False)"
   ]
  },
  {
   "cell_type": "markdown",
   "id": "2fbd5c6b",
   "metadata": {},
   "source": [
    "#### Saving in json format"
   ]
  },
  {
   "cell_type": "code",
   "execution_count": 52,
   "id": "1511af2a",
   "metadata": {},
   "outputs": [
    {
     "data": {
      "text/plain": [
       "'{\"student_id\":{\"0\":235,\"1\":43,\"2\":304,\"3\":304,\"4\":304,\"5\":304,\"6\":304,\"7\":156,\"8\":156,\"9\":156,\"10\":156,\"11\":156,\"12\":343,\"13\":310,\"14\":55,\"15\":55,\"16\":55,\"17\":288,\"18\":288,\"19\":379,\"20\":92,\"21\":174,\"22\":218,\"23\":218,\"24\":218,\"25\":218,\"26\":218,\"27\":218,\"28\":218,\"29\":217,\"30\":34,\"31\":34,\"32\":34,\"33\":185,\"34\":185,\"35\":185,\"36\":185,\"37\":185,\"38\":347,\"39\":347,\"40\":191,\"41\":163,\"42\":163,\"43\":42,\"44\":10,\"45\":10,\"46\":10,\"47\":10,\"48\":200,\"49\":200,\"50\":287,\"51\":287,\"52\":287,\"53\":287,\"54\":287,\"55\":80,\"56\":173,\"57\":16,\"58\":16,\"59\":49,\"60\":12,\"61\":12,\"62\":240,\"63\":240,\"64\":242,\"65\":328,\"66\":172,\"67\":172,\"68\":172,\"69\":103,\"70\":284,\"71\":284,\"72\":284,\"73\":284,\"74\":284,\"75\":284,\"76\":192,\"77\":192,\"78\":192,\"79\":192,\"80\":350,\"81\":262,\"82\":262,\"83\":262,\"84\":338,\"85\":338,\"86\":333,\"87\":76,\"88\":76,\"89\":76,\"90\":76,\"91\":76,\"92\":297,\"93\":297,\"94\":297,\"95\":238,\"96\":238,\"97\":238,\"98\":296,\"99\":296,\"100\":296,\"101\":296,\"102\":268,\"103\":268,\"104\":268,\"105\":268,\"106\":158,\"107\":259,\"108\":259,\"109\":259,\"110\":259,\"111\":259,\"112\":37,\"113\":358,\"114\":358,\"115\":358,\"116\":358,\"117\":241,\"118\":391,\"119\":391,\"120\":391,\"121\":249,\"122\":27,\"123\":27,\"124\":27,\"125\":102,\"126\":102,\"127\":102,\"128\":276,\"129\":233,\"130\":233,\"131\":233,\"132\":233,\"133\":281,\"134\":281,\"135\":281,\"136\":25,\"137\":25,\"138\":14,\"139\":14,\"140\":303,\"141\":193,\"142\":83,\"143\":32,\"144\":32,\"145\":21,\"146\":21,\"147\":21,\"148\":60,\"149\":60,\"150\":228,\"151\":396,\"152\":396,\"153\":396,\"154\":278,\"155\":278,\"156\":278,\"157\":122,\"158\":212,\"159\":212,\"160\":212,\"161\":108,\"162\":108,\"163\":108,\"164\":108,\"165\":151,\"166\":151,\"167\":73,\"168\":265,\"169\":232,\"170\":232,\"171\":232,\"172\":53,\"173\":246,\"174\":180,\"175\":203,\"176\":203,\"177\":203,\"178\":203,\"179\":324,\"180\":115,\"181\":115,\"182\":115,\"183\":115,\"184\":329,\"185\":179,\"186\":179,\"187\":179,\"188\":253,\"189\":253,\"190\":7,\"191\":7,\"192\":275,\"193\":126,\"194\":126,\"195\":221,\"196\":381,\"197\":273,\"198\":273,\"199\":273,\"200\":96,\"201\":96,\"202\":166,\"203\":166,\"204\":213,\"205\":213,\"206\":213,\"207\":213,\"208\":367,\"209\":377,\"210\":372,\"211\":372,\"212\":1,\"213\":292,\"214\":292,\"215\":211,\"216\":211,\"217\":211,\"218\":211,\"219\":201,\"220\":201,\"221\":148,\"222\":148,\"223\":148,\"224\":148,\"225\":148,\"226\":39,\"227\":171,\"228\":171,\"229\":171,\"230\":298,\"231\":298,\"232\":149,\"233\":145,\"234\":13,\"235\":371,\"236\":371,\"237\":342,\"238\":342,\"239\":342,\"240\":56,\"241\":31,\"242\":300,\"243\":22,\"244\":22,\"245\":22,\"246\":22,\"247\":22,\"248\":121,\"249\":161,\"250\":161,\"251\":161,\"252\":143,\"253\":380,\"254\":380,\"255\":94,\"256\":94,\"257\":261,\"258\":189,\"259\":285,\"260\":285,\"261\":285,\"262\":285,\"263\":285,\"264\":285,\"265\":285,\"266\":285,\"267\":285,\"268\":285,\"269\":285,\"270\":285,\"271\":190,\"272\":190,\"273\":178,\"274\":106,\"275\":106,\"276\":6,\"277\":289,\"278\":289,\"279\":280,\"280\":280,\"281\":20,\"282\":30,\"283\":79,\"284\":357,\"285\":357,\"286\":357,\"287\":135,\"288\":135,\"289\":135,\"290\":135,\"291\":135,\"292\":197,\"293\":370,\"294\":370,\"295\":72,\"296\":95,\"297\":274,\"298\":387,\"299\":387,\"300\":36,\"301\":36,\"302\":129,\"303\":75,\"304\":54,\"305\":54,\"306\":54,\"307\":54,\"308\":54,\"309\":23,\"310\":325,\"311\":286,\"312\":301,\"313\":301,\"314\":301,\"315\":301,\"316\":91,\"317\":91,\"318\":316,\"319\":316,\"320\":352,\"321\":397,\"322\":334,\"323\":399,\"324\":399,\"325\":399,\"326\":176,\"327\":176,\"328\":5,\"329\":160,\"330\":368,\"331\":182,\"332\":182,\"333\":144,\"334\":144,\"335\":386,\"336\":386,\"337\":153,\"338\":153,\"339\":153,\"340\":153,\"341\":81,\"342\":81,\"343\":81,\"344\":118,\"345\":118,\"346\":118,\"347\":157,\"348\":157,\"349\":247,\"350\":202,\"351\":308,\"352\":308,\"353\":308,\"354\":308,\"355\":308,\"356\":105,\"357\":62,\"358\":62,\"359\":109,\"360\":109,\"361\":109,\"362\":128,\"363\":82,\"364\":82,\"365\":82,\"366\":82,\"367\":82,\"368\":82,\"369\":394,\"370\":394,\"371\":394,\"372\":394,\"373\":243,\"374\":45,\"375\":165,\"376\":165,\"377\":165,\"378\":165,\"379\":314,\"380\":90,\"381\":317,\"382\":317,\"383\":375,\"384\":353,\"385\":353,\"386\":250,\"387\":250,\"388\":299,\"389\":299,\"390\":167,\"391\":168,\"392\":168,\"393\":168,\"394\":389,\"395\":389,\"396\":389,\"397\":389,\"398\":389,\"399\":389,\"400\":8,\"401\":282,\"402\":282,\"403\":282,\"404\":282,\"405\":116,\"406\":319,\"407\":229,\"408\":229,\"409\":229,\"410\":369,\"411\":137,\"412\":346,\"413\":264,\"414\":237,\"415\":146,\"416\":146,\"417\":277,\"418\":227,\"419\":222,\"420\":222,\"421\":50,\"422\":38,\"423\":38,\"424\":38,\"425\":38,\"426\":38,\"427\":38,\"428\":38,\"429\":38,\"430\":35,\"431\":331,\"432\":331,\"433\":24,\"434\":24,\"435\":24,\"436\":205,\"437\":382,\"438\":230,\"439\":11,\"440\":67,\"441\":67,\"442\":29,\"443\":29,\"444\":208,\"445\":390,\"446\":125,\"447\":125,\"448\":219,\"449\":219,\"450\":219,\"451\":162,\"452\":162,\"453\":195,\"454\":138,\"455\":138,\"456\":138,\"457\":138,\"458\":293,\"459\":224,\"460\":113,\"461\":113,\"462\":70,\"463\":70,\"464\":70,\"465\":133,\"466\":133,\"467\":101,\"468\":101,\"469\":309,\"470\":311,\"471\":321,\"472\":400,\"473\":400,\"474\":400,\"475\":236,\"476\":236,\"477\":236,\"478\":236,\"479\":236,\"480\":86,\"481\":86,\"482\":327,\"483\":302,\"484\":302,\"485\":267,\"486\":111,\"487\":336,\"488\":336,\"489\":336,\"490\":336,\"491\":336,\"492\":336,\"493\":336,\"494\":336,\"495\":336,\"496\":336,\"497\":336,\"498\":336,\"499\":322,\"500\":322,\"501\":330,\"502\":330,\"503\":152,\"504\":152,\"505\":152,\"506\":152,\"507\":188,\"508\":364,\"509\":364,\"510\":123,\"511\":294,\"512\":132,\"513\":132,\"514\":139,\"515\":139,\"516\":204,\"517\":93,\"518\":339,\"519\":318,\"520\":318,\"521\":196,\"522\":196,\"523\":196,\"524\":63,\"525\":63,\"526\":63,\"527\":63,\"528\":210,\"529\":384,\"530\":384,\"531\":384,\"532\":384,\"533\":384,\"534\":337,\"535\":337,\"536\":337,\"537\":183,\"538\":175,\"539\":220,\"540\":356,\"541\":164,\"542\":186,\"543\":46,\"544\":345,\"545\":345,\"546\":131,\"547\":51,\"548\":51,\"549\":98,\"550\":98,\"551\":198,\"552\":216,\"553\":239,\"554\":239,\"555\":290,\"556\":290,\"557\":290,\"558\":290,\"559\":395,\"560\":348,\"561\":348,\"562\":348,\"563\":64,\"564\":64,\"565\":64,\"566\":283,\"567\":170,\"568\":248,\"569\":248,\"570\":258,\"571\":258,\"572\":258,\"573\":252,\"574\":252,\"575\":252,\"576\":252,\"577\":270,\"578\":355,\"579\":355,\"580\":392,\"581\":154,\"582\":360,\"583\":360,\"584\":360,\"585\":41,\"586\":307,\"587\":373,\"588\":373,\"589\":373,\"590\":66,\"591\":207,\"592\":207,\"593\":9,\"594\":9,\"595\":9,\"596\":78,\"597\":59,\"598\":59,\"599\":251,\"600\":251,\"601\":251,\"602\":120,\"603\":120,\"604\":120,\"605\":142,\"606\":142,\"607\":142,\"608\":142,\"609\":89,\"610\":365,\"611\":365,\"612\":255,\"613\":61,\"614\":61,\"615\":257,\"616\":257,\"617\":257,\"618\":344,\"619\":47,\"620\":47,\"621\":87,\"622\":87,\"623\":87,\"624\":110,\"625\":110,\"626\":110,\"627\":110,\"628\":110,\"629\":134,\"630\":134,\"631\":17,\"632\":194,\"633\":363,\"634\":363,\"635\":363,\"636\":363,\"637\":117,\"638\":295,\"639\":295,\"640\":295,\"641\":295,\"642\":28,\"643\":141,\"644\":141,\"645\":141,\"646\":141,\"647\":141,\"648\":141,\"649\":199,\"650\":15,\"651\":15,\"652\":15,\"653\":15,\"654\":88,\"655\":88,\"656\":266,\"657\":266,\"658\":263,\"659\":263,\"660\":263,\"661\":263,\"662\":263,\"663\":263,\"664\":223,\"665\":223,\"666\":223,\"667\":223,\"668\":223,\"669\":244,\"670\":244,\"671\":244,\"672\":260,\"673\":260,\"674\":320,\"675\":320,\"676\":104,\"677\":150,\"678\":140,\"679\":68,\"680\":4,\"681\":57,\"682\":305,\"683\":305,\"684\":305,\"685\":234,\"686\":52,\"687\":52,\"688\":2,\"689\":19,\"690\":19,\"691\":269,\"692\":374,\"693\":313,\"694\":313,\"695\":313,\"696\":26,\"697\":184,\"698\":184,\"699\":184,\"700\":184,\"701\":187,\"702\":44,\"703\":44,\"704\":44,\"705\":44,\"706\":44,\"707\":130,\"708\":245,\"709\":256,\"710\":256,\"711\":271,\"712\":271,\"713\":271,\"714\":271,\"715\":271,\"716\":376,\"717\":155,\"718\":155,\"719\":155,\"720\":71,\"721\":71,\"722\":361,\"723\":361,\"724\":159,\"725\":159,\"726\":159,\"727\":159,\"728\":159,\"729\":159,\"730\":159,\"731\":159,\"732\":378,\"733\":272,\"734\":147,\"735\":147,\"736\":206,\"737\":206,\"738\":279,\"739\":315,\"740\":315,\"741\":332,\"742\":65,\"743\":326,\"744\":393,\"745\":393,\"746\":393,\"747\":169,\"748\":169,\"749\":169,\"750\":169,\"751\":169,\"752\":77,\"753\":77,\"754\":77,\"755\":291,\"756\":351,\"757\":119,\"758\":119,\"759\":214,\"760\":354,\"761\":359,\"762\":181,\"763\":181,\"764\":349,\"765\":349,\"766\":349,\"767\":349,\"768\":100,\"769\":362,\"770\":362,\"771\":136,\"772\":136,\"773\":177,\"774\":385,\"775\":85,\"776\":85,\"777\":398,\"778\":398,\"779\":398,\"780\":40,\"781\":341,\"782\":341,\"783\":341,\"784\":341,\"785\":3,\"786\":3,\"787\":3,\"788\":312,\"789\":306,\"790\":306,\"791\":306,\"792\":69,\"793\":69,\"794\":69,\"795\":209,\"796\":388,\"797\":254,\"798\":335,\"799\":335,\"800\":335,\"801\":335,\"802\":340,\"803\":340,\"804\":112,\"805\":112,\"806\":225,\"807\":33,\"808\":33,\"809\":33,\"810\":74,\"811\":74,\"812\":74,\"813\":48,\"814\":48,\"815\":48,\"816\":48,\"817\":127,\"818\":127,\"819\":114,\"820\":114,\"821\":114,\"822\":114,\"823\":97,\"824\":97,\"825\":97,\"826\":97,\"827\":226,\"828\":215,\"829\":215,\"830\":58,\"831\":124,\"832\":124,\"833\":107,\"834\":107,\"835\":107,\"836\":107,\"837\":84,\"838\":18,\"839\":18,\"840\":18,\"841\":231,\"842\":99,\"843\":99,\"844\":99,\"845\":99,\"846\":323,\"847\":323,\"848\":323,\"849\":323,\"850\":323,\"851\":383,\"852\":366,\"853\":366},\"course_id\":{\"0\":8,\"1\":6,\"2\":7,\"3\":18,\"4\":11,\"5\":14,\"6\":6,\"7\":9,\"8\":17,\"9\":8,\"10\":17,\"11\":5,\"12\":15,\"13\":3,\"14\":17,\"15\":15,\"16\":20,\"17\":2,\"18\":3,\"19\":2,\"20\":1,\"21\":18,\"22\":12,\"23\":13,\"24\":9,\"25\":2,\"26\":9,\"27\":4,\"28\":20,\"29\":18,\"30\":8,\"31\":1,\"32\":1,\"33\":11,\"34\":17,\"35\":8,\"36\":14,\"37\":18,\"38\":13,\"39\":1,\"40\":11,\"41\":4,\"42\":17,\"43\":9,\"44\":10,\"45\":8,\"46\":6,\"47\":4,\"48\":9,\"49\":11,\"50\":18,\"51\":9,\"52\":8,\"53\":17,\"54\":15,\"55\":3,\"56\":15,\"57\":20,\"58\":10,\"59\":10,\"60\":15,\"61\":5,\"62\":9,\"63\":8,\"64\":20,\"65\":4,\"66\":4,\"67\":10,\"68\":7,\"69\":18,\"70\":10,\"71\":15,\"72\":17,\"73\":7,\"74\":15,\"75\":9,\"76\":7,\"77\":18,\"78\":11,\"79\":10,\"80\":4,\"81\":18,\"82\":13,\"83\":20,\"84\":2,\"85\":3,\"86\":18,\"87\":10,\"88\":10,\"89\":6,\"90\":10,\"91\":10,\"92\":15,\"93\":13,\"94\":17,\"95\":17,\"96\":9,\"97\":8,\"98\":8,\"99\":20,\"100\":9,\"101\":16,\"102\":3,\"103\":9,\"104\":8,\"105\":4,\"106\":2,\"107\":7,\"108\":17,\"109\":8,\"110\":18,\"111\":11,\"112\":17,\"113\":20,\"114\":13,\"115\":8,\"116\":8,\"117\":20,\"118\":15,\"119\":10,\"120\":6,\"121\":10,\"122\":16,\"123\":20,\"124\":15,\"125\":2,\"126\":10,\"127\":17,\"128\":11,\"129\":8,\"130\":18,\"131\":11,\"132\":10,\"133\":10,\"134\":15,\"135\":10,\"136\":11,\"137\":7,\"138\":4,\"139\":17,\"140\":8,\"141\":3,\"142\":4,\"143\":9,\"144\":7,\"145\":15,\"146\":9,\"147\":11,\"148\":4,\"149\":4,\"150\":18,\"151\":18,\"152\":18,\"153\":10,\"154\":2,\"155\":8,\"156\":18,\"157\":9,\"158\":8,\"159\":8,\"160\":11,\"161\":10,\"162\":9,\"163\":9,\"164\":7,\"165\":4,\"166\":6,\"167\":2,\"168\":20,\"169\":20,\"170\":3,\"171\":2,\"172\":9,\"173\":16,\"174\":17,\"175\":1,\"176\":7,\"177\":11,\"178\":3,\"179\":20,\"180\":7,\"181\":11,\"182\":3,\"183\":8,\"184\":3,\"185\":18,\"186\":20,\"187\":11,\"188\":9,\"189\":8,\"190\":20,\"191\":12,\"192\":9,\"193\":17,\"194\":11,\"195\":6,\"196\":6,\"197\":7,\"198\":1,\"199\":7,\"200\":12,\"201\":16,\"202\":3,\"203\":20,\"204\":10,\"205\":2,\"206\":20,\"207\":7,\"208\":8,\"209\":10,\"210\":8,\"211\":4,\"212\":3,\"213\":11,\"214\":2,\"215\":15,\"216\":8,\"217\":20,\"218\":2,\"219\":2,\"220\":7,\"221\":9,\"222\":17,\"223\":17,\"224\":15,\"225\":17,\"226\":15,\"227\":18,\"228\":10,\"229\":7,\"230\":12,\"231\":9,\"232\":2,\"233\":18,\"234\":17,\"235\":10,\"236\":10,\"237\":3,\"238\":3,\"239\":17,\"240\":18,\"241\":1,\"242\":17,\"243\":11,\"244\":10,\"245\":10,\"246\":15,\"247\":1,\"248\":2,\"249\":18,\"250\":20,\"251\":7,\"252\":9,\"253\":15,\"254\":14,\"255\":17,\"256\":19,\"257\":7,\"258\":11,\"259\":4,\"260\":20,\"261\":16,\"262\":4,\"263\":15,\"264\":17,\"265\":4,\"266\":10,\"267\":17,\"268\":9,\"269\":2,\"270\":8,\"271\":17,\"272\":3,\"273\":8,\"274\":18,\"275\":4,\"276\":9,\"277\":11,\"278\":4,\"279\":15,\"280\":17,\"281\":13,\"282\":18,\"283\":3,\"284\":1,\"285\":7,\"286\":18,\"287\":3,\"288\":16,\"289\":20,\"290\":11,\"291\":18,\"292\":7,\"293\":15,\"294\":17,\"295\":10,\"296\":11,\"297\":3,\"298\":7,\"299\":3,\"300\":6,\"301\":18,\"302\":2,\"303\":10,\"304\":11,\"305\":7,\"306\":17,\"307\":11,\"308\":4,\"309\":10,\"310\":2,\"311\":1,\"312\":15,\"313\":4,\"314\":20,\"315\":9,\"316\":15,\"317\":10,\"318\":9,\"319\":14,\"320\":12,\"321\":18,\"322\":3,\"323\":10,\"324\":11,\"325\":14,\"326\":12,\"327\":9,\"328\":2,\"329\":15,\"330\":2,\"331\":10,\"332\":15,\"333\":7,\"334\":2,\"335\":3,\"336\":4,\"337\":14,\"338\":14,\"339\":20,\"340\":8,\"341\":3,\"342\":4,\"343\":2,\"344\":17,\"345\":3,\"346\":18,\"347\":2,\"348\":17,\"349\":4,\"350\":2,\"351\":15,\"352\":1,\"353\":8,\"354\":2,\"355\":3,\"356\":3,\"357\":15,\"358\":20,\"359\":7,\"360\":9,\"361\":9,\"362\":7,\"363\":15,\"364\":7,\"365\":11,\"366\":3,\"367\":18,\"368\":15,\"369\":11,\"370\":12,\"371\":6,\"372\":18,\"373\":3,\"374\":18,\"375\":12,\"376\":20,\"377\":7,\"378\":20,\"379\":13,\"380\":1,\"381\":3,\"382\":11,\"383\":3,\"384\":16,\"385\":15,\"386\":4,\"387\":13,\"388\":11,\"389\":7,\"390\":15,\"391\":7,\"392\":18,\"393\":9,\"394\":10,\"395\":14,\"396\":18,\"397\":10,\"398\":14,\"399\":11,\"400\":2,\"401\":13,\"402\":2,\"403\":10,\"404\":3,\"405\":11,\"406\":15,\"407\":17,\"408\":11,\"409\":20,\"410\":9,\"411\":1,\"412\":17,\"413\":10,\"414\":11,\"415\":18,\"416\":7,\"417\":8,\"418\":3,\"419\":15,\"420\":6,\"421\":18,\"422\":12,\"423\":18,\"424\":2,\"425\":20,\"426\":9,\"427\":11,\"428\":13,\"429\":10,\"430\":11,\"431\":9,\"432\":4,\"433\":20,\"434\":17,\"435\":11,\"436\":2,\"437\":18,\"438\":3,\"439\":17,\"440\":2,\"441\":16,\"442\":18,\"443\":10,\"444\":11,\"445\":17,\"446\":20,\"447\":1,\"448\":3,\"449\":18,\"450\":15,\"451\":7,\"452\":10,\"453\":3,\"454\":2,\"455\":15,\"456\":15,\"457\":15,\"458\":18,\"459\":7,\"460\":9,\"461\":7,\"462\":12,\"463\":13,\"464\":9,\"465\":20,\"466\":10,\"467\":19,\"468\":15,\"469\":20,\"470\":16,\"471\":6,\"472\":15,\"473\":6,\"474\":7,\"475\":6,\"476\":10,\"477\":10,\"478\":18,\"479\":11,\"480\":9,\"481\":12,\"482\":8,\"483\":17,\"484\":3,\"485\":6,\"486\":3,\"487\":18,\"488\":7,\"489\":20,\"490\":4,\"491\":8,\"492\":18,\"493\":13,\"494\":10,\"495\":4,\"496\":17,\"497\":8,\"498\":16,\"499\":11,\"500\":12,\"501\":8,\"502\":2,\"503\":11,\"504\":16,\"505\":11,\"506\":11,\"507\":15,\"508\":2,\"509\":6,\"510\":12,\"511\":4,\"512\":7,\"513\":2,\"514\":6,\"515\":1,\"516\":17,\"517\":11,\"518\":11,\"519\":1,\"520\":18,\"521\":1,\"522\":17,\"523\":6,\"524\":17,\"525\":3,\"526\":11,\"527\":2,\"528\":11,\"529\":3,\"530\":17,\"531\":6,\"532\":3,\"533\":2,\"534\":11,\"535\":14,\"536\":18,\"537\":2,\"538\":9,\"539\":4,\"540\":10,\"541\":6,\"542\":9,\"543\":9,\"544\":15,\"545\":16,\"546\":9,\"547\":7,\"548\":17,\"549\":18,\"550\":11,\"551\":7,\"552\":17,\"553\":9,\"554\":19,\"555\":7,\"556\":20,\"557\":9,\"558\":16,\"559\":6,\"560\":12,\"561\":11,\"562\":9,\"563\":15,\"564\":17,\"565\":15,\"566\":17,\"567\":16,\"568\":4,\"569\":17,\"570\":4,\"571\":3,\"572\":18,\"573\":11,\"574\":4,\"575\":13,\"576\":8,\"577\":4,\"578\":17,\"579\":3,\"580\":20,\"581\":17,\"582\":15,\"583\":6,\"584\":16,\"585\":1,\"586\":11,\"587\":8,\"588\":17,\"589\":16,\"590\":10,\"591\":10,\"592\":2,\"593\":6,\"594\":15,\"595\":2,\"596\":17,\"597\":20,\"598\":3,\"599\":10,\"600\":11,\"601\":17,\"602\":4,\"603\":9,\"604\":17,\"605\":11,\"606\":4,\"607\":18,\"608\":20,\"609\":15,\"610\":20,\"611\":20,\"612\":3,\"613\":9,\"614\":11,\"615\":15,\"616\":11,\"617\":13,\"618\":3,\"619\":9,\"620\":1,\"621\":14,\"622\":4,\"623\":9,\"624\":10,\"625\":14,\"626\":16,\"627\":15,\"628\":11,\"629\":11,\"630\":18,\"631\":18,\"632\":2,\"633\":7,\"634\":20,\"635\":11,\"636\":3,\"637\":2,\"638\":3,\"639\":17,\"640\":6,\"641\":7,\"642\":3,\"643\":11,\"644\":11,\"645\":7,\"646\":14,\"647\":17,\"648\":20,\"649\":10,\"650\":9,\"651\":7,\"652\":17,\"653\":20,\"654\":11,\"655\":13,\"656\":15,\"657\":9,\"658\":6,\"659\":7,\"660\":12,\"661\":13,\"662\":10,\"663\":2,\"664\":18,\"665\":7,\"666\":11,\"667\":15,\"668\":4,\"669\":10,\"670\":1,\"671\":2,\"672\":7,\"673\":14,\"674\":18,\"675\":9,\"676\":2,\"677\":7,\"678\":20,\"679\":3,\"680\":16,\"681\":16,\"682\":11,\"683\":20,\"684\":13,\"685\":20,\"686\":17,\"687\":17,\"688\":20,\"689\":12,\"690\":8,\"691\":3,\"692\":15,\"693\":11,\"694\":9,\"695\":20,\"696\":19,\"697\":9,\"698\":20,\"699\":9,\"700\":6,\"701\":12,\"702\":3,\"703\":4,\"704\":17,\"705\":17,\"706\":7,\"707\":16,\"708\":20,\"709\":20,\"710\":10,\"711\":18,\"712\":11,\"713\":11,\"714\":6,\"715\":9,\"716\":6,\"717\":16,\"718\":13,\"719\":17,\"720\":12,\"721\":7,\"722\":20,\"723\":14,\"724\":10,\"725\":17,\"726\":7,\"727\":17,\"728\":8,\"729\":2,\"730\":17,\"731\":4,\"732\":13,\"733\":7,\"734\":15,\"735\":3,\"736\":12,\"737\":4,\"738\":10,\"739\":18,\"740\":10,\"741\":17,\"742\":4,\"743\":14,\"744\":4,\"745\":17,\"746\":15,\"747\":9,\"748\":10,\"749\":4,\"750\":13,\"751\":19,\"752\":11,\"753\":8,\"754\":9,\"755\":6,\"756\":10,\"757\":10,\"758\":20,\"759\":9,\"760\":18,\"761\":4,\"762\":11,\"763\":11,\"764\":11,\"765\":10,\"766\":16,\"767\":4,\"768\":2,\"769\":4,\"770\":11,\"771\":7,\"772\":15,\"773\":2,\"774\":18,\"775\":20,\"776\":17,\"777\":18,\"778\":9,\"779\":4,\"780\":5,\"781\":10,\"782\":14,\"783\":11,\"784\":3,\"785\":15,\"786\":17,\"787\":2,\"788\":10,\"789\":10,\"790\":2,\"791\":4,\"792\":17,\"793\":11,\"794\":6,\"795\":10,\"796\":18,\"797\":3,\"798\":20,\"799\":4,\"800\":7,\"801\":4,\"802\":10,\"803\":8,\"804\":20,\"805\":1,\"806\":8,\"807\":11,\"808\":8,\"809\":10,\"810\":9,\"811\":3,\"812\":13,\"813\":17,\"814\":11,\"815\":4,\"816\":10,\"817\":1,\"818\":18,\"819\":7,\"820\":18,\"821\":11,\"822\":20,\"823\":18,\"824\":1,\"825\":1,\"826\":16,\"827\":11,\"828\":16,\"829\":11,\"830\":6,\"831\":17,\"832\":2,\"833\":17,\"834\":14,\"835\":15,\"836\":2,\"837\":6,\"838\":10,\"839\":10,\"840\":2,\"841\":8,\"842\":20,\"843\":8,\"844\":12,\"845\":15,\"846\":12,\"847\":7,\"848\":11,\"849\":15,\"850\":9,\"851\":7,\"852\":7,\"853\":19}}'"
      ]
     },
     "execution_count": 52,
     "metadata": {},
     "output_type": "execute_result"
    }
   ],
   "source": [
    "registration_saving_in_json = registration.to_json()\n",
    "registration_saving_in_json"
   ]
  },
  {
   "cell_type": "markdown",
   "id": "ea226b1b",
   "metadata": {},
   "source": [
    "#### Saving in HTML format"
   ]
  },
  {
   "cell_type": "code",
   "execution_count": 57,
   "id": "0ef35abe",
   "metadata": {},
   "outputs": [],
   "source": [
    "all_regist_html = all_registered.to_html()"
   ]
  },
  {
   "cell_type": "code",
   "execution_count": 59,
   "id": "1d27752e",
   "metadata": {},
   "outputs": [
    {
     "name": "stdout",
     "output_type": "stream",
     "text": [
      "<table border=\"1\" class=\"dataframe\">\n",
      "  <thead>\n",
      "    <tr style=\"text-align: right;\">\n",
      "      <th></th>\n",
      "      <th>student_quantity</th>\n",
      "      <th>course_name</th>\n",
      "    </tr>\n",
      "    <tr>\n",
      "      <th>course_id</th>\n",
      "      <th></th>\n",
      "      <th></th>\n",
      "    </tr>\n",
      "  </thead>\n",
      "  <tbody>\n",
      "    <tr>\n",
      "      <th>1</th>\n",
      "      <td>24</td>\n",
      "      <td>programming logic</td>\n",
      "    </tr>\n",
      "    <tr>\n",
      "      <th>2</th>\n",
      "      <td>52</td>\n",
      "      <td>Java for Web</td>\n",
      "    </tr>\n",
      "    <tr>\n",
      "      <th>3</th>\n",
      "      <td>54</td>\n",
      "      <td>C# for Web</td>\n",
      "    </tr>\n",
      "    <tr>\n",
      "      <th>4</th>\n",
      "      <td>51</td>\n",
      "      <td>Ruby on Rails</td>\n",
      "    </tr>\n",
      "    <tr>\n",
      "      <th>5</th>\n",
      "      <td>3</td>\n",
      "      <td>Python Courses</td>\n",
      "    </tr>\n",
      "    <tr>\n",
      "      <th>6</th>\n",
      "      <td>32</td>\n",
      "      <td>PHP with MySql</td>\n",
      "    </tr>\n",
      "    <tr>\n",
      "      <th>7</th>\n",
      "      <td>56</td>\n",
      "      <td>.NET for web</td>\n",
      "    </tr>\n",
      "    <tr>\n",
      "      <th>8</th>\n",
      "      <td>42</td>\n",
      "      <td>New integrations with Java</td>\n",
      "    </tr>\n",
      "    <tr>\n",
      "      <th>9</th>\n",
      "      <td>60</td>\n",
      "      <td>TDD with Java</td>\n",
      "    </tr>\n",
      "    <tr>\n",
      "      <th>10</th>\n",
      "      <td>68</td>\n",
      "      <td>Clean code with C#</td>\n",
      "    </tr>\n",
      "    <tr>\n",
      "      <th>11</th>\n",
      "      <td>78</td>\n",
      "      <td>Java Certification Prep</td>\n",
      "    </tr>\n",
      "    <tr>\n",
      "      <th>12</th>\n",
      "      <td>21</td>\n",
      "      <td>Basic hardware</td>\n",
      "    </tr>\n",
      "    <tr>\n",
      "      <th>13</th>\n",
      "      <td>21</td>\n",
      "      <td>Persistence with .NET</td>\n",
      "    </tr>\n",
      "    <tr>\n",
      "      <th>14</th>\n",
      "      <td>18</td>\n",
      "      <td>Developing games</td>\n",
      "    </tr>\n",
      "    <tr>\n",
      "      <th>15</th>\n",
      "      <td>57</td>\n",
      "      <td>Data analysis</td>\n",
      "    </tr>\n",
      "    <tr>\n",
      "      <th>16</th>\n",
      "      <td>24</td>\n",
      "      <td>basic statistics</td>\n",
      "    </tr>\n",
      "    <tr>\n",
      "      <th>17</th>\n",
      "      <td>71</td>\n",
      "      <td>Internet of Things</td>\n",
      "    </tr>\n",
      "    <tr>\n",
      "      <th>18</th>\n",
      "      <td>60</td>\n",
      "      <td>Functional programming</td>\n",
      "    </tr>\n",
      "    <tr>\n",
      "      <th>19</th>\n",
      "      <td>6</td>\n",
      "      <td>Best practices in Java</td>\n",
      "    </tr>\n",
      "    <tr>\n",
      "      <th>20</th>\n",
      "      <td>56</td>\n",
      "      <td>Object Orientation with Java</td>\n",
      "    </tr>\n",
      "  </tbody>\n",
      "</table>\n"
     ]
    }
   ],
   "source": [
    "print(all_regist_html)"
   ]
  },
  {
   "cell_type": "markdown",
   "id": "18cb3a41",
   "metadata": {},
   "source": [
    "### Creating a Sql database"
   ]
  },
  {
   "cell_type": "markdown",
   "id": "14ff474b",
   "metadata": {},
   "source": [
    "For us to work, we will need to install the SQLAlchemy library through !pip3 install.\n",
    "From this library, we will import the create_engine, MetaData and Table libs."
   ]
  },
  {
   "cell_type": "code",
   "execution_count": 61,
   "id": "318bfe4d",
   "metadata": {},
   "outputs": [],
   "source": [
    "from sqlalchemy import create_engine, MetaData, Table"
   ]
  },
  {
   "cell_type": "code",
   "execution_count": 63,
   "id": "de858242",
   "metadata": {},
   "outputs": [],
   "source": [
    "engine = create_engine('sqlite:///:memory:')"
   ]
  },
  {
   "cell_type": "code",
   "execution_count": 64,
   "id": "131ed625",
   "metadata": {},
   "outputs": [
    {
     "data": {
      "text/plain": [
       "Engine(sqlite:///:memory:)"
      ]
     },
     "execution_count": 64,
     "metadata": {},
     "output_type": "execute_result"
    }
   ],
   "source": [
    "engine"
   ]
  },
  {
   "cell_type": "code",
   "execution_count": 65,
   "id": "e23af423",
   "metadata": {},
   "outputs": [
    {
     "data": {
      "text/plain": [
       "sqlalchemy.engine.base.Engine"
      ]
     },
     "execution_count": 65,
     "metadata": {},
     "output_type": "execute_result"
    }
   ],
   "source": [
    "type(engine)"
   ]
  },
  {
   "cell_type": "code",
   "execution_count": 66,
   "id": "337f16b5",
   "metadata": {},
   "outputs": [
    {
     "data": {
      "text/plain": [
       "20"
      ]
     },
     "execution_count": 66,
     "metadata": {},
     "output_type": "execute_result"
    }
   ],
   "source": [
    "all_registered.to_sql('all_registered_sql', engine)"
   ]
  },
  {
   "cell_type": "code",
   "execution_count": 67,
   "id": "1f89de7c",
   "metadata": {},
   "outputs": [
    {
     "name": "stdout",
     "output_type": "stream",
     "text": [
      "['all_registered_sql']\n"
     ]
    },
    {
     "name": "stderr",
     "output_type": "stream",
     "text": [
      "C:\\Users\\NMP\\AppData\\Local\\Temp\\ipykernel_21832\\1043810782.py:1: SADeprecationWarning: The Engine.table_names() method is deprecated and will be removed in a future release.  Please refer to Inspector.get_table_names(). (deprecated since: 1.4)\n",
      "  print(engine.table_names())\n"
     ]
    }
   ],
   "source": [
    "print(engine.table_names())"
   ]
  },
  {
   "cell_type": "markdown",
   "id": "647bd721",
   "metadata": {},
   "source": [
    "### Searching in Sql"
   ]
  },
  {
   "cell_type": "code",
   "execution_count": 68,
   "id": "f2cbd9a6",
   "metadata": {},
   "outputs": [],
   "source": [
    "query = 'select * from all_registered_sql where student_quantity < 20'"
   ]
  },
  {
   "cell_type": "code",
   "execution_count": 69,
   "id": "c3150f5f",
   "metadata": {},
   "outputs": [
    {
     "data": {
      "text/html": [
       "<div>\n",
       "<style scoped>\n",
       "    .dataframe tbody tr th:only-of-type {\n",
       "        vertical-align: middle;\n",
       "    }\n",
       "\n",
       "    .dataframe tbody tr th {\n",
       "        vertical-align: top;\n",
       "    }\n",
       "\n",
       "    .dataframe thead th {\n",
       "        text-align: right;\n",
       "    }\n",
       "</style>\n",
       "<table border=\"1\" class=\"dataframe\">\n",
       "  <thead>\n",
       "    <tr style=\"text-align: right;\">\n",
       "      <th></th>\n",
       "      <th>course_id</th>\n",
       "      <th>student_quantity</th>\n",
       "      <th>course_name</th>\n",
       "    </tr>\n",
       "  </thead>\n",
       "  <tbody>\n",
       "    <tr>\n",
       "      <th>0</th>\n",
       "      <td>5</td>\n",
       "      <td>3</td>\n",
       "      <td>Python Courses</td>\n",
       "    </tr>\n",
       "    <tr>\n",
       "      <th>1</th>\n",
       "      <td>14</td>\n",
       "      <td>18</td>\n",
       "      <td>Developing games</td>\n",
       "    </tr>\n",
       "    <tr>\n",
       "      <th>2</th>\n",
       "      <td>19</td>\n",
       "      <td>6</td>\n",
       "      <td>Best practices in Java</td>\n",
       "    </tr>\n",
       "  </tbody>\n",
       "</table>\n",
       "</div>"
      ],
      "text/plain": [
       "   course_id  student_quantity             course_name\n",
       "0          5                 3          Python Courses\n",
       "1         14                18        Developing games\n",
       "2         19                 6  Best practices in Java"
      ]
     },
     "execution_count": 69,
     "metadata": {},
     "output_type": "execute_result"
    }
   ],
   "source": [
    "pd.read_sql(query, engine)"
   ]
  },
  {
   "cell_type": "markdown",
   "id": "0ffa1008",
   "metadata": {},
   "source": [
    "From the read_sql_table() command, we can search an entire table, just passing the table name ('all_registered_sql'), the engine and which columns we want to filter. This time, we will first ask for the name of the course followed by the number of all the students."
   ]
  },
  {
   "cell_type": "code",
   "execution_count": 71,
   "id": "4dcab213",
   "metadata": {},
   "outputs": [
    {
     "data": {
      "text/html": [
       "<div>\n",
       "<style scoped>\n",
       "    .dataframe tbody tr th:only-of-type {\n",
       "        vertical-align: middle;\n",
       "    }\n",
       "\n",
       "    .dataframe tbody tr th {\n",
       "        vertical-align: top;\n",
       "    }\n",
       "\n",
       "    .dataframe thead th {\n",
       "        text-align: right;\n",
       "    }\n",
       "</style>\n",
       "<table border=\"1\" class=\"dataframe\">\n",
       "  <thead>\n",
       "    <tr style=\"text-align: right;\">\n",
       "      <th></th>\n",
       "      <th>course_name</th>\n",
       "      <th>student_quantity</th>\n",
       "    </tr>\n",
       "  </thead>\n",
       "  <tbody>\n",
       "    <tr>\n",
       "      <th>0</th>\n",
       "      <td>programming logic</td>\n",
       "      <td>24</td>\n",
       "    </tr>\n",
       "    <tr>\n",
       "      <th>1</th>\n",
       "      <td>Java for Web</td>\n",
       "      <td>52</td>\n",
       "    </tr>\n",
       "    <tr>\n",
       "      <th>2</th>\n",
       "      <td>C# for Web</td>\n",
       "      <td>54</td>\n",
       "    </tr>\n",
       "    <tr>\n",
       "      <th>3</th>\n",
       "      <td>Ruby on Rails</td>\n",
       "      <td>51</td>\n",
       "    </tr>\n",
       "    <tr>\n",
       "      <th>4</th>\n",
       "      <td>Python Courses</td>\n",
       "      <td>3</td>\n",
       "    </tr>\n",
       "    <tr>\n",
       "      <th>5</th>\n",
       "      <td>PHP with MySql</td>\n",
       "      <td>32</td>\n",
       "    </tr>\n",
       "    <tr>\n",
       "      <th>6</th>\n",
       "      <td>.NET for web</td>\n",
       "      <td>56</td>\n",
       "    </tr>\n",
       "    <tr>\n",
       "      <th>7</th>\n",
       "      <td>New integrations with Java</td>\n",
       "      <td>42</td>\n",
       "    </tr>\n",
       "    <tr>\n",
       "      <th>8</th>\n",
       "      <td>TDD with Java</td>\n",
       "      <td>60</td>\n",
       "    </tr>\n",
       "    <tr>\n",
       "      <th>9</th>\n",
       "      <td>Clean code with C#</td>\n",
       "      <td>68</td>\n",
       "    </tr>\n",
       "    <tr>\n",
       "      <th>10</th>\n",
       "      <td>Java Certification Prep</td>\n",
       "      <td>78</td>\n",
       "    </tr>\n",
       "    <tr>\n",
       "      <th>11</th>\n",
       "      <td>Basic hardware</td>\n",
       "      <td>21</td>\n",
       "    </tr>\n",
       "    <tr>\n",
       "      <th>12</th>\n",
       "      <td>Persistence with .NET</td>\n",
       "      <td>21</td>\n",
       "    </tr>\n",
       "    <tr>\n",
       "      <th>13</th>\n",
       "      <td>Developing games</td>\n",
       "      <td>18</td>\n",
       "    </tr>\n",
       "    <tr>\n",
       "      <th>14</th>\n",
       "      <td>Data analysis</td>\n",
       "      <td>57</td>\n",
       "    </tr>\n",
       "    <tr>\n",
       "      <th>15</th>\n",
       "      <td>basic statistics</td>\n",
       "      <td>24</td>\n",
       "    </tr>\n",
       "    <tr>\n",
       "      <th>16</th>\n",
       "      <td>Internet of Things</td>\n",
       "      <td>71</td>\n",
       "    </tr>\n",
       "    <tr>\n",
       "      <th>17</th>\n",
       "      <td>Functional programming</td>\n",
       "      <td>60</td>\n",
       "    </tr>\n",
       "    <tr>\n",
       "      <th>18</th>\n",
       "      <td>Best practices in Java</td>\n",
       "      <td>6</td>\n",
       "    </tr>\n",
       "    <tr>\n",
       "      <th>19</th>\n",
       "      <td>Object Orientation with Java</td>\n",
       "      <td>56</td>\n",
       "    </tr>\n",
       "  </tbody>\n",
       "</table>\n",
       "</div>"
      ],
      "text/plain": [
       "                     course_name  student_quantity\n",
       "0              programming logic                24\n",
       "1                   Java for Web                52\n",
       "2                     C# for Web                54\n",
       "3                  Ruby on Rails                51\n",
       "4                 Python Courses                 3\n",
       "5                 PHP with MySql                32\n",
       "6                   .NET for web                56\n",
       "7     New integrations with Java                42\n",
       "8                  TDD with Java                60\n",
       "9             Clean code with C#                68\n",
       "10       Java Certification Prep                78\n",
       "11                Basic hardware                21\n",
       "12         Persistence with .NET                21\n",
       "13              Developing games                18\n",
       "14                 Data analysis                57\n",
       "15              basic statistics                24\n",
       "16            Internet of Things                71\n",
       "17        Functional programming                60\n",
       "18        Best practices in Java                 6\n",
       "19  Object Orientation with Java                56"
      ]
     },
     "execution_count": 71,
     "metadata": {},
     "output_type": "execute_result"
    }
   ],
   "source": [
    "all_access_registered = pd.read_sql_table('all_registered_sql', engine, columns=['course_name', 'student_quantity'])\n",
    "all_access_registered"
   ]
  },
  {
   "cell_type": "code",
   "execution_count": 73,
   "id": "4dbbcdd4",
   "metadata": {},
   "outputs": [
    {
     "data": {
      "text/html": [
       "<div>\n",
       "<style scoped>\n",
       "    .dataframe tbody tr th:only-of-type {\n",
       "        vertical-align: middle;\n",
       "    }\n",
       "\n",
       "    .dataframe tbody tr th {\n",
       "        vertical-align: top;\n",
       "    }\n",
       "\n",
       "    .dataframe thead th {\n",
       "        text-align: right;\n",
       "    }\n",
       "</style>\n",
       "<table border=\"1\" class=\"dataframe\">\n",
       "  <thead>\n",
       "    <tr style=\"text-align: right;\">\n",
       "      <th></th>\n",
       "      <th>course_name</th>\n",
       "      <th>student_quantity</th>\n",
       "    </tr>\n",
       "  </thead>\n",
       "  <tbody>\n",
       "    <tr>\n",
       "      <th>1</th>\n",
       "      <td>Java for Web</td>\n",
       "      <td>52</td>\n",
       "    </tr>\n",
       "    <tr>\n",
       "      <th>2</th>\n",
       "      <td>C# for Web</td>\n",
       "      <td>54</td>\n",
       "    </tr>\n",
       "    <tr>\n",
       "      <th>3</th>\n",
       "      <td>Ruby on Rails</td>\n",
       "      <td>51</td>\n",
       "    </tr>\n",
       "    <tr>\n",
       "      <th>6</th>\n",
       "      <td>.NET for web</td>\n",
       "      <td>56</td>\n",
       "    </tr>\n",
       "    <tr>\n",
       "      <th>8</th>\n",
       "      <td>TDD with Java</td>\n",
       "      <td>60</td>\n",
       "    </tr>\n",
       "    <tr>\n",
       "      <th>9</th>\n",
       "      <td>Clean code with C#</td>\n",
       "      <td>68</td>\n",
       "    </tr>\n",
       "    <tr>\n",
       "      <th>10</th>\n",
       "      <td>Java Certification Prep</td>\n",
       "      <td>78</td>\n",
       "    </tr>\n",
       "    <tr>\n",
       "      <th>14</th>\n",
       "      <td>Data analysis</td>\n",
       "      <td>57</td>\n",
       "    </tr>\n",
       "    <tr>\n",
       "      <th>16</th>\n",
       "      <td>Internet of Things</td>\n",
       "      <td>71</td>\n",
       "    </tr>\n",
       "    <tr>\n",
       "      <th>17</th>\n",
       "      <td>Functional programming</td>\n",
       "      <td>60</td>\n",
       "    </tr>\n",
       "    <tr>\n",
       "      <th>19</th>\n",
       "      <td>Object Orientation with Java</td>\n",
       "      <td>56</td>\n",
       "    </tr>\n",
       "  </tbody>\n",
       "</table>\n",
       "</div>"
      ],
      "text/plain": [
       "                     course_name  student_quantity\n",
       "1                   Java for Web                52\n",
       "2                     C# for Web                54\n",
       "3                  Ruby on Rails                51\n",
       "6                   .NET for web                56\n",
       "8                  TDD with Java                60\n",
       "9             Clean code with C#                68\n",
       "10       Java Certification Prep                78\n",
       "14                 Data analysis                57\n",
       "16            Internet of Things                71\n",
       "17        Functional programming                60\n",
       "19  Object Orientation with Java                56"
      ]
     },
     "execution_count": 73,
     "metadata": {},
     "output_type": "execute_result"
    }
   ],
   "source": [
    "acces_over_50 = all_access_registered.query('student_quantity > 50')\n",
    "acces_over_50"
   ]
  },
  {
   "cell_type": "code",
   "execution_count": null,
   "id": "d9ace307",
   "metadata": {},
   "outputs": [],
   "source": []
  }
 ],
 "metadata": {
  "kernelspec": {
   "display_name": "Python 3 (ipykernel)",
   "language": "python",
   "name": "python3"
  },
  "language_info": {
   "codemirror_mode": {
    "name": "ipython",
    "version": 3
   },
   "file_extension": ".py",
   "mimetype": "text/x-python",
   "name": "python",
   "nbconvert_exporter": "python",
   "pygments_lexer": "ipython3",
   "version": "3.9.13"
  }
 },
 "nbformat": 4,
 "nbformat_minor": 5
}
