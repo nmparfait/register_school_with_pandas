{
 "cells": [
  {
   "cell_type": "markdown",
   "id": "001080a0",
   "metadata": {},
   "source": [
    "# PROGRAMMING SCHOOL "
   ]
  },
  {
   "cell_type": "markdown",
   "id": "a4f96b9a",
   "metadata": {},
   "source": [
    "### Reading datas "
   ]
  },
  {
   "cell_type": "code",
   "execution_count": 42,
   "id": "c5cf730e",
   "metadata": {},
   "outputs": [],
   "source": [
    "import pandas as pd "
   ]
  },
  {
   "cell_type": "code",
   "execution_count": 43,
   "id": "0d9ed9dd",
   "metadata": {},
   "outputs": [],
   "source": [
    "name_f = pd.read_json('https://guilhermeonrails.github.io/nomes_ibge/nomes-f.json')\n",
    "name_m = pd.read_json('https://guilhermeonrails.github.io/nomes_ibge/nomes-m.json')"
   ]
  },
  {
   "cell_type": "code",
   "execution_count": 47,
   "id": "ccd442b0",
   "metadata": {},
   "outputs": [],
   "source": [
    "name_f =name_f.rename(columns={'nome':'name', 'regiao':'region', 'freq':'freq', 'rank':'rank', 'sexo':'sex'})\n",
    "name_m =name_f.rename(columns={'nome':'name', 'regiao':'region', 'freq':'freq', 'rank':'rank', 'sexo':'sex'})\n"
   ]
  },
  {
   "cell_type": "code",
   "execution_count": 48,
   "id": "e06ff363",
   "metadata": {},
   "outputs": [
    {
     "data": {
      "text/html": [
       "<div>\n",
       "<style scoped>\n",
       "    .dataframe tbody tr th:only-of-type {\n",
       "        vertical-align: middle;\n",
       "    }\n",
       "\n",
       "    .dataframe tbody tr th {\n",
       "        vertical-align: top;\n",
       "    }\n",
       "\n",
       "    .dataframe thead th {\n",
       "        text-align: right;\n",
       "    }\n",
       "</style>\n",
       "<table border=\"1\" class=\"dataframe\">\n",
       "  <thead>\n",
       "    <tr style=\"text-align: right;\">\n",
       "      <th></th>\n",
       "      <th>name</th>\n",
       "      <th>region</th>\n",
       "      <th>freq</th>\n",
       "      <th>rank</th>\n",
       "      <th>sex</th>\n",
       "    </tr>\n",
       "  </thead>\n",
       "  <tbody>\n",
       "    <tr>\n",
       "      <th>0</th>\n",
       "      <td>MARIA</td>\n",
       "      <td>0</td>\n",
       "      <td>11694738</td>\n",
       "      <td>1</td>\n",
       "      <td>F</td>\n",
       "    </tr>\n",
       "    <tr>\n",
       "      <th>1</th>\n",
       "      <td>ANA</td>\n",
       "      <td>0</td>\n",
       "      <td>3079729</td>\n",
       "      <td>2</td>\n",
       "      <td>F</td>\n",
       "    </tr>\n",
       "    <tr>\n",
       "      <th>2</th>\n",
       "      <td>FRANCISCA</td>\n",
       "      <td>0</td>\n",
       "      <td>721637</td>\n",
       "      <td>3</td>\n",
       "      <td>F</td>\n",
       "    </tr>\n",
       "    <tr>\n",
       "      <th>3</th>\n",
       "      <td>ANTONIA</td>\n",
       "      <td>0</td>\n",
       "      <td>588783</td>\n",
       "      <td>4</td>\n",
       "      <td>F</td>\n",
       "    </tr>\n",
       "    <tr>\n",
       "      <th>4</th>\n",
       "      <td>ADRIANA</td>\n",
       "      <td>0</td>\n",
       "      <td>565621</td>\n",
       "      <td>5</td>\n",
       "      <td>F</td>\n",
       "    </tr>\n",
       "  </tbody>\n",
       "</table>\n",
       "</div>"
      ],
      "text/plain": [
       "        name  region      freq  rank sex\n",
       "0      MARIA       0  11694738     1   F\n",
       "1        ANA       0   3079729     2   F\n",
       "2  FRANCISCA       0    721637     3   F\n",
       "3    ANTONIA       0    588783     4   F\n",
       "4    ADRIANA       0    565621     5   F"
      ]
     },
     "execution_count": 48,
     "metadata": {},
     "output_type": "execute_result"
    }
   ],
   "source": [
    "name_f.head()"
   ]
  },
  {
   "cell_type": "code",
   "execution_count": 49,
   "id": "244cd4fa",
   "metadata": {},
   "outputs": [
    {
     "data": {
      "text/html": [
       "<div>\n",
       "<style scoped>\n",
       "    .dataframe tbody tr th:only-of-type {\n",
       "        vertical-align: middle;\n",
       "    }\n",
       "\n",
       "    .dataframe tbody tr th {\n",
       "        vertical-align: top;\n",
       "    }\n",
       "\n",
       "    .dataframe thead th {\n",
       "        text-align: right;\n",
       "    }\n",
       "</style>\n",
       "<table border=\"1\" class=\"dataframe\">\n",
       "  <thead>\n",
       "    <tr style=\"text-align: right;\">\n",
       "      <th></th>\n",
       "      <th>name</th>\n",
       "      <th>region</th>\n",
       "      <th>freq</th>\n",
       "      <th>rank</th>\n",
       "      <th>sex</th>\n",
       "    </tr>\n",
       "  </thead>\n",
       "  <tbody>\n",
       "    <tr>\n",
       "      <th>0</th>\n",
       "      <td>MARIA</td>\n",
       "      <td>0</td>\n",
       "      <td>11694738</td>\n",
       "      <td>1</td>\n",
       "      <td>F</td>\n",
       "    </tr>\n",
       "    <tr>\n",
       "      <th>1</th>\n",
       "      <td>ANA</td>\n",
       "      <td>0</td>\n",
       "      <td>3079729</td>\n",
       "      <td>2</td>\n",
       "      <td>F</td>\n",
       "    </tr>\n",
       "    <tr>\n",
       "      <th>2</th>\n",
       "      <td>FRANCISCA</td>\n",
       "      <td>0</td>\n",
       "      <td>721637</td>\n",
       "      <td>3</td>\n",
       "      <td>F</td>\n",
       "    </tr>\n",
       "    <tr>\n",
       "      <th>3</th>\n",
       "      <td>ANTONIA</td>\n",
       "      <td>0</td>\n",
       "      <td>588783</td>\n",
       "      <td>4</td>\n",
       "      <td>F</td>\n",
       "    </tr>\n",
       "    <tr>\n",
       "      <th>4</th>\n",
       "      <td>ADRIANA</td>\n",
       "      <td>0</td>\n",
       "      <td>565621</td>\n",
       "      <td>5</td>\n",
       "      <td>F</td>\n",
       "    </tr>\n",
       "  </tbody>\n",
       "</table>\n",
       "</div>"
      ],
      "text/plain": [
       "        name  region      freq  rank sex\n",
       "0      MARIA       0  11694738     1   F\n",
       "1        ANA       0   3079729     2   F\n",
       "2  FRANCISCA       0    721637     3   F\n",
       "3    ANTONIA       0    588783     4   F\n",
       "4    ADRIANA       0    565621     5   F"
      ]
     },
     "execution_count": 49,
     "metadata": {},
     "output_type": "execute_result"
    }
   ],
   "source": [
    "name_m.head()"
   ]
  },
  {
   "cell_type": "markdown",
   "id": "9ca9eebf",
   "metadata": {},
   "source": [
    "### Sample in pandas\n",
    "\n",
    "To perform random sampling. The number of samples to extract can be expressed in two alternative ways: specify the exact number of random rows to extract.\n",
    "Returns a random sample row from the DataFrame."
   ]
  },
  {
   "cell_type": "code",
   "execution_count": 9,
   "id": "45f8aa10",
   "metadata": {},
   "outputs": [
    {
     "data": {
      "text/html": [
       "<div>\n",
       "<style scoped>\n",
       "    .dataframe tbody tr th:only-of-type {\n",
       "        vertical-align: middle;\n",
       "    }\n",
       "\n",
       "    .dataframe tbody tr th {\n",
       "        vertical-align: top;\n",
       "    }\n",
       "\n",
       "    .dataframe thead th {\n",
       "        text-align: right;\n",
       "    }\n",
       "</style>\n",
       "<table border=\"1\" class=\"dataframe\">\n",
       "  <thead>\n",
       "    <tr style=\"text-align: right;\">\n",
       "      <th></th>\n",
       "      <th>nome</th>\n",
       "      <th>regiao</th>\n",
       "      <th>freq</th>\n",
       "      <th>rank</th>\n",
       "      <th>sexo</th>\n",
       "    </tr>\n",
       "  </thead>\n",
       "  <tbody>\n",
       "    <tr>\n",
       "      <th>161</th>\n",
       "      <td>DAMIAO</td>\n",
       "      <td>0</td>\n",
       "      <td>79047</td>\n",
       "      <td>162</td>\n",
       "      <td>M</td>\n",
       "    </tr>\n",
       "    <tr>\n",
       "      <th>85</th>\n",
       "      <td>FABRICIO</td>\n",
       "      <td>0</td>\n",
       "      <td>166678</td>\n",
       "      <td>86</td>\n",
       "      <td>M</td>\n",
       "    </tr>\n",
       "    <tr>\n",
       "      <th>126</th>\n",
       "      <td>MURILO</td>\n",
       "      <td>0</td>\n",
       "      <td>115067</td>\n",
       "      <td>127</td>\n",
       "      <td>M</td>\n",
       "    </tr>\n",
       "    <tr>\n",
       "      <th>160</th>\n",
       "      <td>MOACIR</td>\n",
       "      <td>0</td>\n",
       "      <td>79629</td>\n",
       "      <td>161</td>\n",
       "      <td>M</td>\n",
       "    </tr>\n",
       "    <tr>\n",
       "      <th>184</th>\n",
       "      <td>ALISON</td>\n",
       "      <td>0</td>\n",
       "      <td>72186</td>\n",
       "      <td>185</td>\n",
       "      <td>M</td>\n",
       "    </tr>\n",
       "  </tbody>\n",
       "</table>\n",
       "</div>"
      ],
      "text/plain": [
       "         nome  regiao    freq  rank sexo\n",
       "161    DAMIAO       0   79047   162    M\n",
       "85   FABRICIO       0  166678    86    M\n",
       "126    MURILO       0  115067   127    M\n",
       "160    MOACIR       0   79629   161    M\n",
       "184    ALISON       0   72186   185    M"
      ]
     },
     "execution_count": 9,
     "metadata": {},
     "output_type": "execute_result"
    }
   ],
   "source": [
    "name_m.sample(5)"
   ]
  },
  {
   "cell_type": "code",
   "execution_count": 50,
   "id": "ac504fc9",
   "metadata": {},
   "outputs": [
    {
     "name": "stdout",
     "output_type": "stream",
     "text": [
      "Number of Names:400\n"
     ]
    }
   ],
   "source": [
    "print('Number of Names:' + str(len(name_f) + len(name_m)))"
   ]
  },
  {
   "cell_type": "markdown",
   "id": "0e46d9bb",
   "metadata": {},
   "source": [
    "Now we want to merge these two sets into a single dataframe containing the names of all students in the school. For this, we will create a variable frames that will receive a list containing our information."
   ]
  },
  {
   "cell_type": "code",
   "execution_count": 51,
   "id": "ff851c3d",
   "metadata": {},
   "outputs": [
    {
     "data": {
      "text/plain": [
       "[          name  region      freq  rank sex\n",
       " 0        MARIA       0  11694738     1   F\n",
       " 1          ANA       0   3079729     2   F\n",
       " 2    FRANCISCA       0    721637     3   F\n",
       " 3      ANTONIA       0    588783     4   F\n",
       " 4      ADRIANA       0    565621     5   F\n",
       " ..         ...     ...       ...   ...  ..\n",
       " 195     ROSANE       0     82203   196   F\n",
       " 196    IVONETE       0     81878   197   F\n",
       " 197    LUCIANE       0     81230   198   F\n",
       " 198    ISADORA       0     81100   199   F\n",
       " 199      NILZA       0     80128   200   F\n",
       " \n",
       " [200 rows x 5 columns],\n",
       "           name  region      freq  rank sex\n",
       " 0        MARIA       0  11694738     1   F\n",
       " 1          ANA       0   3079729     2   F\n",
       " 2    FRANCISCA       0    721637     3   F\n",
       " 3      ANTONIA       0    588783     4   F\n",
       " 4      ADRIANA       0    565621     5   F\n",
       " ..         ...     ...       ...   ...  ..\n",
       " 195     ROSANE       0     82203   196   F\n",
       " 196    IVONETE       0     81878   197   F\n",
       " 197    LUCIANE       0     81230   198   F\n",
       " 198    ISADORA       0     81100   199   F\n",
       " 199      NILZA       0     80128   200   F\n",
       " \n",
       " [200 rows x 5 columns]]"
      ]
     },
     "execution_count": 51,
     "metadata": {},
     "output_type": "execute_result"
    }
   ],
   "source": [
    "frames = [name_f, name_m]\n",
    "frames"
   ]
  },
  {
   "cell_type": "code",
   "execution_count": 28,
   "id": "11caab06",
   "metadata": {},
   "outputs": [
    {
     "data": {
      "text/plain": [
       "[          nome  regiao      freq  rank sexo\n",
       " 0        MARIA       0  11694738     1    F\n",
       " 1          ANA       0   3079729     2    F\n",
       " 2    FRANCISCA       0    721637     3    F\n",
       " 3      ANTONIA       0    588783     4    F\n",
       " 4      ADRIANA       0    565621     5    F\n",
       " ..         ...     ...       ...   ...  ...\n",
       " 195     ROSANE       0     82203   196    F\n",
       " 196    IVONETE       0     81878   197    F\n",
       " 197    LUCIANE       0     81230   198    F\n",
       " 198    ISADORA       0     81100   199    F\n",
       " 199      NILZA       0     80128   200    F\n",
       " \n",
       " [200 rows x 5 columns],\n",
       "           nome  regiao     freq  rank sexo\n",
       " 0         JOSE       0  5732508     1    M\n",
       " 1         JOAO       0  2971935     2    M\n",
       " 2      ANTONIO       0  2567494     3    M\n",
       " 3    FRANCISCO       0  1765197     4    M\n",
       " 4       CARLOS       0  1483121     5    M\n",
       " ..         ...     ...      ...   ...  ...\n",
       " 195     WALTER       0    67207   196    M\n",
       " 196    ARLINDO       0    66669   197    M\n",
       " 197    MICHAEL       0    65736   198    M\n",
       " 198     ALVARO       0    65444   199    M\n",
       " 199    GEOVANE       0    65435   200    M\n",
       " \n",
       " [200 rows x 5 columns]]"
      ]
     },
     "execution_count": 28,
     "metadata": {},
     "output_type": "execute_result"
    }
   ],
   "source": [
    "frames"
   ]
  },
  {
   "cell_type": "markdown",
   "id": "4a98beee",
   "metadata": {},
   "source": [
    "In the pd.concat() function, it is possible to specify which columns we want to concatenate, in this case just the name. At the end, we will use the to_frame() function to transform the resulting set into a dataframe."
   ]
  },
  {
   "cell_type": "markdown",
   "id": "0daf0231",
   "metadata": {},
   "source": [
    "pd.concat(frames)['nome'].to_frame()"
   ]
  },
  {
   "cell_type": "markdown",
   "id": "ef5f0180",
   "metadata": {},
   "source": []
  }
 ],
 "metadata": {
  "kernelspec": {
   "display_name": "Python 3 (ipykernel)",
   "language": "python",
   "name": "python3"
  },
  "language_info": {
   "codemirror_mode": {
    "name": "ipython",
    "version": 3
   },
   "file_extension": ".py",
   "mimetype": "text/x-python",
   "name": "python",
   "nbconvert_exporter": "python",
   "pygments_lexer": "ipython3",
   "version": "3.9.13"
  }
 },
 "nbformat": 4,
 "nbformat_minor": 5
}
